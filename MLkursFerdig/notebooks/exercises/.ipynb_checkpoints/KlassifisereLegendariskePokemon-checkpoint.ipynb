{
 "cells": [
  {
   "cell_type": "markdown",
   "metadata": {},
   "source": [
    "# Klassifisere legendariske pokemon"
   ]
  },
  {
   "cell_type": "markdown",
   "metadata": {
    "solution": "hidden"
   },
   "source": [
    "I denne oppgaven skal vi prøve å klassifisere hvilke pokemon som er legendariske ut ifra data vi har om pokemonen. I datasettet `'pokemon_alopez247.csv'` har vi en tabell med informasjon om alle 721 pokemon fra de første 6 generasjonene. Det første vi må gjøre er å se på hvilken data vi faktisk har.\n",
    "\n",
    "**Oppgave 1**\n",
    "Les inn datasettet fra `\"../../datasets/pokemon/pokemon_alopez247.csv\"` og vis frem de første 5 datapunktene"
   ]
  },
  {
   "cell_type": "markdown",
   "metadata": {},
   "source": [
    "#### Hint:\n",
    "Det første du må gjøre er å bruke funksjonen `read_csv` til å lese inn tabellen og lagre den i en variabel. Vis frem de første 5 variablene med `'.head()'`"
   ]
  },
  {
   "cell_type": "markdown",
   "metadata": {
    "collapsed": true
   },
   "source": [
    "#### Skriv in din kode her:"
   ]
  },
  {
   "cell_type": "code",
   "execution_count": 1,
   "metadata": {},
   "outputs": [
    {
     "data": {
      "text/html": [
       "<div>\n",
       "<style>\n",
       "    .dataframe thead tr:only-child th {\n",
       "        text-align: right;\n",
       "    }\n",
       "\n",
       "    .dataframe thead th {\n",
       "        text-align: left;\n",
       "    }\n",
       "\n",
       "    .dataframe tbody tr th {\n",
       "        vertical-align: top;\n",
       "    }\n",
       "</style>\n",
       "<table border=\"1\" class=\"dataframe\">\n",
       "  <thead>\n",
       "    <tr style=\"text-align: right;\">\n",
       "      <th></th>\n",
       "      <th>Number</th>\n",
       "      <th>Name</th>\n",
       "      <th>Type_1</th>\n",
       "      <th>Type_2</th>\n",
       "      <th>Total</th>\n",
       "      <th>HP</th>\n",
       "      <th>Attack</th>\n",
       "      <th>Defense</th>\n",
       "      <th>Sp_Atk</th>\n",
       "      <th>Sp_Def</th>\n",
       "      <th>...</th>\n",
       "      <th>Color</th>\n",
       "      <th>hasGender</th>\n",
       "      <th>Pr_Male</th>\n",
       "      <th>Egg_Group_1</th>\n",
       "      <th>Egg_Group_2</th>\n",
       "      <th>hasMegaEvolution</th>\n",
       "      <th>Height_m</th>\n",
       "      <th>Weight_kg</th>\n",
       "      <th>Catch_Rate</th>\n",
       "      <th>Body_Style</th>\n",
       "    </tr>\n",
       "  </thead>\n",
       "  <tbody>\n",
       "    <tr>\n",
       "      <th>0</th>\n",
       "      <td>1</td>\n",
       "      <td>Bulbasaur</td>\n",
       "      <td>Grass</td>\n",
       "      <td>Poison</td>\n",
       "      <td>318</td>\n",
       "      <td>45</td>\n",
       "      <td>49</td>\n",
       "      <td>49</td>\n",
       "      <td>65</td>\n",
       "      <td>65</td>\n",
       "      <td>...</td>\n",
       "      <td>Green</td>\n",
       "      <td>True</td>\n",
       "      <td>0.875</td>\n",
       "      <td>Monster</td>\n",
       "      <td>Grass</td>\n",
       "      <td>False</td>\n",
       "      <td>0.71</td>\n",
       "      <td>6.9</td>\n",
       "      <td>45</td>\n",
       "      <td>quadruped</td>\n",
       "    </tr>\n",
       "    <tr>\n",
       "      <th>1</th>\n",
       "      <td>2</td>\n",
       "      <td>Ivysaur</td>\n",
       "      <td>Grass</td>\n",
       "      <td>Poison</td>\n",
       "      <td>405</td>\n",
       "      <td>60</td>\n",
       "      <td>62</td>\n",
       "      <td>63</td>\n",
       "      <td>80</td>\n",
       "      <td>80</td>\n",
       "      <td>...</td>\n",
       "      <td>Green</td>\n",
       "      <td>True</td>\n",
       "      <td>0.875</td>\n",
       "      <td>Monster</td>\n",
       "      <td>Grass</td>\n",
       "      <td>False</td>\n",
       "      <td>0.99</td>\n",
       "      <td>13.0</td>\n",
       "      <td>45</td>\n",
       "      <td>quadruped</td>\n",
       "    </tr>\n",
       "    <tr>\n",
       "      <th>2</th>\n",
       "      <td>3</td>\n",
       "      <td>Venusaur</td>\n",
       "      <td>Grass</td>\n",
       "      <td>Poison</td>\n",
       "      <td>525</td>\n",
       "      <td>80</td>\n",
       "      <td>82</td>\n",
       "      <td>83</td>\n",
       "      <td>100</td>\n",
       "      <td>100</td>\n",
       "      <td>...</td>\n",
       "      <td>Green</td>\n",
       "      <td>True</td>\n",
       "      <td>0.875</td>\n",
       "      <td>Monster</td>\n",
       "      <td>Grass</td>\n",
       "      <td>True</td>\n",
       "      <td>2.01</td>\n",
       "      <td>100.0</td>\n",
       "      <td>45</td>\n",
       "      <td>quadruped</td>\n",
       "    </tr>\n",
       "    <tr>\n",
       "      <th>3</th>\n",
       "      <td>4</td>\n",
       "      <td>Charmander</td>\n",
       "      <td>Fire</td>\n",
       "      <td>NaN</td>\n",
       "      <td>309</td>\n",
       "      <td>39</td>\n",
       "      <td>52</td>\n",
       "      <td>43</td>\n",
       "      <td>60</td>\n",
       "      <td>50</td>\n",
       "      <td>...</td>\n",
       "      <td>Red</td>\n",
       "      <td>True</td>\n",
       "      <td>0.875</td>\n",
       "      <td>Monster</td>\n",
       "      <td>Dragon</td>\n",
       "      <td>False</td>\n",
       "      <td>0.61</td>\n",
       "      <td>8.5</td>\n",
       "      <td>45</td>\n",
       "      <td>bipedal_tailed</td>\n",
       "    </tr>\n",
       "    <tr>\n",
       "      <th>4</th>\n",
       "      <td>5</td>\n",
       "      <td>Charmeleon</td>\n",
       "      <td>Fire</td>\n",
       "      <td>NaN</td>\n",
       "      <td>405</td>\n",
       "      <td>58</td>\n",
       "      <td>64</td>\n",
       "      <td>58</td>\n",
       "      <td>80</td>\n",
       "      <td>65</td>\n",
       "      <td>...</td>\n",
       "      <td>Red</td>\n",
       "      <td>True</td>\n",
       "      <td>0.875</td>\n",
       "      <td>Monster</td>\n",
       "      <td>Dragon</td>\n",
       "      <td>False</td>\n",
       "      <td>1.09</td>\n",
       "      <td>19.0</td>\n",
       "      <td>45</td>\n",
       "      <td>bipedal_tailed</td>\n",
       "    </tr>\n",
       "  </tbody>\n",
       "</table>\n",
       "<p>5 rows × 23 columns</p>\n",
       "</div>"
      ],
      "text/plain": [
       "   Number        Name Type_1  Type_2  Total  HP  Attack  Defense  Sp_Atk  \\\n",
       "0       1   Bulbasaur  Grass  Poison    318  45      49       49      65   \n",
       "1       2     Ivysaur  Grass  Poison    405  60      62       63      80   \n",
       "2       3    Venusaur  Grass  Poison    525  80      82       83     100   \n",
       "3       4  Charmander   Fire     NaN    309  39      52       43      60   \n",
       "4       5  Charmeleon   Fire     NaN    405  58      64       58      80   \n",
       "\n",
       "   Sp_Def       ...        Color  hasGender  Pr_Male Egg_Group_1  Egg_Group_2  \\\n",
       "0      65       ...        Green       True    0.875     Monster        Grass   \n",
       "1      80       ...        Green       True    0.875     Monster        Grass   \n",
       "2     100       ...        Green       True    0.875     Monster        Grass   \n",
       "3      50       ...          Red       True    0.875     Monster       Dragon   \n",
       "4      65       ...          Red       True    0.875     Monster       Dragon   \n",
       "\n",
       "   hasMegaEvolution Height_m Weight_kg  Catch_Rate      Body_Style  \n",
       "0             False     0.71       6.9          45       quadruped  \n",
       "1             False     0.99      13.0          45       quadruped  \n",
       "2              True     2.01     100.0          45       quadruped  \n",
       "3             False     0.61       8.5          45  bipedal_tailed  \n",
       "4             False     1.09      19.0          45  bipedal_tailed  \n",
       "\n",
       "[5 rows x 23 columns]"
      ]
     },
     "execution_count": 1,
     "metadata": {},
     "output_type": "execute_result"
    }
   ],
   "source": [
    "import pandas as pd\n",
    "######## Din kode her ########\n",
    "\n",
    "######## Din kode slutt ########"
   ]
  },
  {
   "cell_type": "markdown",
   "metadata": {},
   "source": [
    "Vi ser at vi har ganske mange egenskaper per pokemon. For å gjøre det enkelt vil vi plukke ut bare 2 av egenskapene. Legendariske pokemon er kjent for å være svært mektige, så det gir kanskje mening å se på hvilke verdier de har for \"Attack\" og \"Special Attack\".\n",
    "\n",
    "**Oppgave 2:**\n",
    "Hent ut kolonnene `'Sp_Atk'` og `'Attack'` fra tabellen og lagre det i en ny variabel. Hent også ut kolonnen `'isLegendary'` og lagre den i en egen variabel"
   ]
  },
  {
   "cell_type": "code",
   "execution_count": 2,
   "metadata": {
    "collapsed": true
   },
   "outputs": [],
   "source": [
    "######## Din kode her ########\n",
    "\n",
    "######## Din kode slutt ########"
   ]
  },
  {
   "cell_type": "markdown",
   "metadata": {},
   "source": [
    "**Oppgave 3:** Nå som du har hentet ut dataen kan du splitte den i treningsdata og testdata"
   ]
  },
  {
   "cell_type": "code",
   "execution_count": 3,
   "metadata": {
    "collapsed": true
   },
   "outputs": [],
   "source": [
    "from sklearn.model_selection import train_test_split \n",
    "\n",
    "######## Din kode her ########\n",
    "\n",
    "######## Din kode slutt ########"
   ]
  },
  {
   "cell_type": "markdown",
   "metadata": {},
   "source": [
    "**Oppgave 4:** Vis fram dataene i et scatterplott med `plt.scatter(x,y)`"
   ]
  },
  {
   "cell_type": "code",
   "execution_count": 4,
   "metadata": {},
   "outputs": [
    {
     "data": {
      "image/png": "[encoded data removed]",
      "text/plain": [
       "<matplotlib.figure.Figure at 0x24319d891d0>"
      ]
     },
     "metadata": {},
     "output_type": "display_data"
    }
   ],
   "source": [
    "import matplotlib.pyplot as plt\n",
    "import seaborn\n",
    "\n",
    "######## Din kode her ########\n",
    "\n",
    "######## Din kode slutt ########"
   ]
  },
  {
   "cell_type": "markdown",
   "metadata": {},
   "source": [
    "Det kan se ut som det stemmer at legendariske pokemon har sterkere angrep enn vanlige pokemon. Vi ønsker å bruke beslutningstrær til å skille ut de legendariske. \n",
    "\n",
    "**Oppgave 5:** \n",
    "Lag en beslutningsklassifikator og tren den på treningsdataen. "
   ]
  },
  {
   "cell_type": "code",
   "execution_count": 5,
   "metadata": {},
   "outputs": [
    {
     "data": {
      "text/plain": [
       "DecisionTreeClassifier(class_weight=None, criterion='gini', max_depth=None,\n",
       "            max_features=None, max_leaf_nodes=None,\n",
       "            min_impurity_split=1e-07, min_samples_leaf=1,\n",
       "            min_samples_split=2, min_weight_fraction_leaf=0.0,\n",
       "            presort=False, random_state=None, splitter='best')"
      ]
     },
     "execution_count": 5,
     "metadata": {},
     "output_type": "execute_result"
    }
   ],
   "source": [
    "from sklearn.tree import DecisionTreeClassifier\n",
    "\n",
    "######## Din kode her ########\n",
    "\n",
    "######## Din kode slutt ########"
   ]
  },
  {
   "cell_type": "markdown",
   "metadata": {},
   "source": [
    "Nå som du har trent klassifikatoren, kan du teste den for å se hvor bra den klassifiserer testdata. \n",
    "\n",
    "**Oppgave 6:** Lag en `'ModelTester'` og kjør .test_classifier() for å få fram en forvirringsmatrise og klassifiseringsnøyaktigheten "
   ]
  },
  {
   "cell_type": "code",
   "execution_count": 2,
   "metadata": {},
   "outputs": [],
   "source": [
    "import sys,os\n",
    "sys.path.append(os.path.split(os.path.abspath(os.getcwd()))[0])\n",
    "from useful_tools import ModelTester\n",
    "import numpy as np\n",
    "\n",
    "######## Din kode her ######## \n",
    "\n",
    "\n",
    "######## Din kode slutt ########"
   ]
  },
  {
   "cell_type": "markdown",
   "metadata": {
    "collapsed": true,
    "solution": "shown"
   },
   "source": [
    "## Hvilke pokemon ble feilklassifiserte?\n",
    "En måte å analysere klassifiseringen på er å se hva som ble feilklassifisert. Under har vi laget en funksjon ferdig for deg som tar en klassifikator og data, og lister opp navnet på pokemonene som ble klassifisert feil. Kjør cellen for å se resultatet"
   ]
  },
  {
   "cell_type": "code",
   "execution_count": null,
   "metadata": {
    "collapsed": true
   },
   "outputs": [],
   "source": [
    "import numpy as np\n",
    "def print_misclassified_pokemon(clf,data_use,all_data,target):\n",
    "    predictions = clf.predict(data_use)\n",
    "    idxs = np.arange(len(predictions))\n",
    "\n",
    "    true_labels = target.values.ravel()\n",
    "    feil_klasse_idx = idxs[predictions!=true_labels]\n",
    "\n",
    "    feil_klasse_0_idx = feil_klasse_idx[true_labels[feil_klasse_idx]==0]\n",
    "    feil_klasse_1_idx = feil_klasse_idx[true_labels[feil_klasse_idx]==1]\n",
    "\n",
    "    print(\"Ikke legendariske pokemon klassifisert som legendariske\" ) \n",
    "    for i,fi in enumerate(feil_klasse_0_idx):\n",
    "        print(data.loc[fi]['Name'],\"( nummer:\", data.loc[fi]['Number'], \n",
    "             \"generasjon:\",data.loc[fi]['Generation'],\")\")\n",
    "    print(\"---\")\n",
    "    print(\"Legendariske pokemon klassifisert som ikke legendariske\")       \n",
    "    for i,fi in enumerate(feil_klasse_1_idx):\n",
    "        print(data.loc[fi]['Name'],\"( nummer:\", data.loc[fi]['Number'], \n",
    "             \"generasjon:\",data.loc[fi]['Generation'],\")\")\n",
    "        \n",
    "print_misclassified_pokemon(clf,data_use,data,target)"
   ]
  },
  {
   "cell_type": "markdown",
   "metadata": {},
   "source": [
    "**Oppgave 7:** Hvorfor tror du disse pokemonene ble feilklassifiserte? Skriv inn ditt svar i cellen under"
   ]
  },
  {
   "cell_type": "markdown",
   "metadata": {},
   "source": [
    "*Ditt svar her:*\n"
   ]
  },
  {
   "cell_type": "markdown",
   "metadata": {},
   "source": [
    "En annen måte og undersøke klassifiseringen på er å se på beslutningsgrensa. Cellen under plotter opp treningsdata som sirkler og testdata som kryss sammen med beslutningsgrensa. "
   ]
  },
  {
   "cell_type": "code",
   "execution_count": null,
   "metadata": {
    "collapsed": true
   },
   "outputs": [],
   "source": [
    "\n",
    "from useful_tools import plot_boundary\n",
    "plot_boundary(data_use.values,clf)\n",
    "plt.scatter(train_data['Sp_Atk'],train_data['Attack'],c=train_target,marker='o')\n",
    "plt.scatter(test_data['Sp_Atk'],test_data['Attack'],c=test_target,marker='x')\n",
    "plt.show()"
   ]
  },
  {
   "cell_type": "markdown",
   "metadata": {},
   "source": [
    "**Oppgave 8:**  Hva synes du om beslutningsgrensa? Ser det ut som den vil generalisere bra for nye data? Har den funnet det underliggende mønsteret? Prøv å gå tilbake til oppgave 5 og lag et beslutningstre med høyere grense for minimum løvnoder. Kjør så cellene etter oppgave 5 på nytt. Er resultatet bedre?\n",
    "\n",
    "**Hint:** `'DecisionTreeClassifier(min_samples_leaf=2)'`"
   ]
  },
  {
   "cell_type": "markdown",
   "metadata": {},
   "source": [
    "Det kan se ut som vi trenger å legge til en egenskap som er bedre til å skille ut pokemon som er sterke, men ikke legendariske. En ting vi kanskje kan bruke er kolonnen `'has_gender'`. Legendariske pokemon pleier som regel ikke å ha kjønn. \n",
    "\n",
    "**Oppgave 9**: Prøv å lage en bedre klassifikator med hjelp av flere egenskaper. F. eks. `'has_gender'` eller en annen egenskap du tror kan være viktig. Hva er den beste testnøyaktigheten du kan få? Prøv gjerne en annen algoritme enn beslutningstrær og se om resultatet blir annerledes. \n"
   ]
  },
  {
   "cell_type": "code",
   "execution_count": null,
   "metadata": {
    "collapsed": true
   },
   "outputs": [],
   "source": [
    "######## Din kode her ######## \n",
    "\n",
    "\n",
    "######## Din kode slutt ########"
   ]
  }
 ],
 "metadata": {
  "anaconda-cloud": {},
  "kernelspec": {
   "display_name": "Python 3",
   "language": "python",
   "name": "python3"
  },
  "language_info": {
   "codemirror_mode": {
    "name": "ipython",
    "version": 3
   },
   "file_extension": ".py",
   "mimetype": "text/x-python",
   "name": "python",
   "nbconvert_exporter": "python",
   "pygments_lexer": "ipython3",
   "version": "3.6.1"
  },
  "toc": {
   "colors": {
    "hover_highlight": "#DAA520",
    "navigate_num": "#000000",
    "navigate_text": "#333333",
    "running_highlight": "#FF0000",
    "selected_highlight": "#FFD700",
    "sidebar_border": "#EEEEEE",
    "wrapper_background": "#FFFFFF"
   },
   "moveMenuLeft": true,
   "nav_menu": {
    "height": "49px",
    "width": "252px"
   },
   "navigate_menu": true,
   "number_sections": true,
   "sideBar": true,
   "threshold": 4,
   "toc_cell": false,
   "toc_section_display": "block",
   "toc_window_display": false,
   "widenNotebook": false
  }
 },
 "nbformat": 4,
 "nbformat_minor": 2
}
