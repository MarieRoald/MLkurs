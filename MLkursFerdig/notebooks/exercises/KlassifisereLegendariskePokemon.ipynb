{
 "cells": [
  {
   "cell_type": "markdown",
   "metadata": {},
   "source": [
    "# Klassifisere legendariske pokemon"
   ]
  },
  {
   "cell_type": "markdown",
   "metadata": {
    "solution": "hidden"
   },
   "source": [
    "I denne oppgaven skal vi prøve å klassifisere hvilke pokemon som er legendariske ut ifra data vi har om pokemonen. I datasettet `'pokemon_alopez247.csv'` har vi en tabell med informasjon om alle 721 pokemon fra de første 6 generasjonene. Det første vi må gjøre er å se på hvilken data vi faktisk har.\n",
    "\n",
    "**Oppgave 1**\n",
    "Les inn datasettet fra `\"../../datasets/pokemon/pokemon_alopez247.csv\"` og vis frem de første 5 datapunktene"
   ]
  },
  {
   "cell_type": "markdown",
   "metadata": {},
   "source": [
    "#### Hint:\n",
    "Det første du må gjøre er å bruke funksjonen `read_csv` til å lese inn tabellen og lagre den i en variabel. Vis frem de første 5 variablene med `'.head()'`"
   ]
  },
  {
   "cell_type": "markdown",
   "metadata": {
    "collapsed": true
   },
   "source": [
    "#### Skriv in din kode her:"
   ]
  },
  {
   "cell_type": "code",
   "execution_count": null,
   "metadata": {},
   "outputs": [],
   "source": [
    "import pandas as pd\n",
    "######## Din kode her ########\n",
    "\n",
    "######## Din kode slutt ########"
   ]
  },
  {
   "cell_type": "markdown",
   "metadata": {},
   "source": [
    "Vi ser at vi har ganske mange egenskaper per pokemon. For å gjøre det enkelt vil vi plukke ut bare 2 av egenskapene. Legendariske pokemon er kjent for å være svært mektige, så det gir kanskje mening å se på hvilke verdier de har for \"Attack\" og \"Special Attack\".\n",
    "\n",
    "**Oppgave 2:**\n",
    "Hent ut kolonnene `'Sp_Atk'` og `'Attack'` fra tabellen og lagre det i en ny variabel. Hent også ut kolonnen `'isLegendary'` og lagre den i en egen variabel"
   ]
  },
  {
   "cell_type": "code",
   "execution_count": null,
   "metadata": {
    "collapsed": true
   },
   "outputs": [],
   "source": [
    "######## Din kode her ########\n",
    "\n",
    "######## Din kode slutt ########"
   ]
  },
  {
   "cell_type": "markdown",
   "metadata": {},
   "source": [
    "**Oppgave 3:** Nå som du har hentet ut dataen kan du splitte den i treningsdata og testdata"
   ]
  },
  {
   "cell_type": "code",
   "execution_count": null,
   "metadata": {
    "collapsed": true
   },
   "outputs": [],
   "source": [
    "from sklearn.model_selection import train_test_split \n",
    "\n",
    "######## Din kode her ########\n",
    "\n",
    "######## Din kode slutt ########"
   ]
  },
  {
   "cell_type": "markdown",
   "metadata": {},
   "source": [
    "**Oppgave 4:** Vis fram dataene i et scatterplott med `plt.scatter(x,y)`"
   ]
  },
  {
   "cell_type": "code",
   "execution_count": null,
   "metadata": {},
   "outputs": [],
   "source": [
    "import matplotlib.pyplot as plt\n",
    "import seaborn\n",
    "\n",
    "######## Din kode her ########\n",
    "\n",
    "######## Din kode slutt ########"
   ]
  },
  {
   "cell_type": "markdown",
   "metadata": {},
   "source": [
    "Det kan se ut som det stemmer at legendariske pokemon har sterkere angrep enn vanlige pokemon. Vi ønsker å bruke beslutningstrær til å skille ut de legendariske. \n",
    "\n",
    "**Oppgave 5:** \n",
    "Lag en beslutningsklassifikator og tren den på treningsdataen. "
   ]
  },
  {
   "cell_type": "code",
   "execution_count": null,
   "metadata": {},
   "outputs": [],
   "source": [
    "from sklearn.tree import DecisionTreeClassifier\n",
    "\n",
    "######## Din kode her ########\n",
    "\n",
    "######## Din kode slutt ########"
   ]
  },
  {
   "cell_type": "markdown",
   "metadata": {},
   "source": [
    "Nå som du har trent klassifikatoren, kan du teste den for å se hvor bra den klassifiserer testdata. \n",
    "\n",
    "**Oppgave 6:** Lag en `'ModelTester'` og kjør .test_classifier() for å få fram en forvirringsmatrise og klassifiseringsnøyaktigheten "
   ]
  },
  {
   "cell_type": "code",
   "execution_count": null,
   "metadata": {},
   "outputs": [],
   "source": [
    "import sys,os\n",
    "sys.path.append(os.path.split(os.path.abspath(os.getcwd()))[0])\n",
    "from useful_tools import ModelTester\n",
    "import numpy as np\n",
    "\n",
    "######## Din kode her ######## \n",
    "\n",
    "\n",
    "######## Din kode slutt ########"
   ]
  },
  {
   "cell_type": "markdown",
   "metadata": {
    "collapsed": true,
    "solution": "shown"
   },
   "source": [
    "## Hvilke pokemon ble feilklassifiserte?\n",
    "En måte å analysere klassifiseringen på er å se hva som ble feilklassifisert. Under har vi laget en funksjon ferdig for deg som tar en klassifikator og data, og lister opp navnet på pokemonene som ble klassifisert feil. Kjør cellen for å se resultatet"
   ]
  },
  {
   "cell_type": "code",
   "execution_count": null,
   "metadata": {
    "collapsed": true
   },
   "outputs": [],
   "source": [
    "import numpy as np\n",
    "def print_misclassified_pokemon(clf,data_use,all_data,target):\n",
    "    predictions = clf.predict(data_use)\n",
    "    idxs = np.arange(len(predictions))\n",
    "\n",
    "    true_labels = target.values.ravel()\n",
    "    feil_klasse_idx = idxs[predictions!=true_labels]\n",
    "\n",
    "    feil_klasse_0_idx = feil_klasse_idx[true_labels[feil_klasse_idx]==0]\n",
    "    feil_klasse_1_idx = feil_klasse_idx[true_labels[feil_klasse_idx]==1]\n",
    "\n",
    "    print(\"Ikke legendariske pokemon klassifisert som legendariske\" ) \n",
    "    for i,fi in enumerate(feil_klasse_0_idx):\n",
    "        print(data.loc[fi]['Name'],\"( nummer:\", data.loc[fi]['Number'], \n",
    "             \"generasjon:\",data.loc[fi]['Generation'],\")\")\n",
    "    print(\"---\")\n",
    "    print(\"Legendariske pokemon klassifisert som ikke legendariske\")       \n",
    "    for i,fi in enumerate(feil_klasse_1_idx):\n",
    "        print(data.loc[fi]['Name'],\"( nummer:\", data.loc[fi]['Number'], \n",
    "             \"generasjon:\",data.loc[fi]['Generation'],\")\")\n",
    "        \n",
    "print_misclassified_pokemon(clf,data_use,data,target)"
   ]
  },
  {
   "cell_type": "markdown",
   "metadata": {},
   "source": [
    "**Oppgave 7:** Hvorfor tror du disse pokemonene ble feilklassifiserte? Skriv inn ditt svar i cellen under"
   ]
  },
  {
   "cell_type": "markdown",
   "metadata": {},
   "source": [
    "*Ditt svar her:*\n"
   ]
  },
  {
   "cell_type": "markdown",
   "metadata": {},
   "source": [
    "En annen måte og undersøke klassifiseringen på er å se på beslutningsgrensa. Cellen under plotter opp treningsdata som sirkler og testdata som kryss sammen med beslutningsgrensa. "
   ]
  },
  {
   "cell_type": "code",
   "execution_count": null,
   "metadata": {
    "collapsed": true
   },
   "outputs": [],
   "source": [
    "\n",
    "from useful_tools import plot_boundary\n",
    "plot_boundary(data_use.values,clf)\n",
    "plt.scatter(train_data['Sp_Atk'],train_data['Attack'],c=train_target,marker='o')\n",
    "plt.scatter(test_data['Sp_Atk'],test_data['Attack'],c=test_target,marker='x')\n",
    "plt.show()"
   ]
  },
  {
   "cell_type": "markdown",
   "metadata": {},
   "source": [
    "**Oppgave 8:**  Hva synes du om beslutningsgrensa? Ser det ut som den vil generalisere bra for nye data? Har den funnet det underliggende mønsteret? Prøv å gå tilbake til oppgave 5 og lag et beslutningstre med høyere grense for minimum løvnoder. Kjør så cellene etter oppgave 5 på nytt. Er resultatet bedre?\n",
    "\n",
    "**Hint:** `'DecisionTreeClassifier(min_samples_leaf=2)'`"
   ]
  },
  {
   "cell_type": "markdown",
   "metadata": {},
   "source": [
    "Det kan se ut som vi trenger å legge til en egenskap som er bedre til å skille ut pokemon som er sterke, men ikke legendariske. En ting vi kanskje kan bruke er kolonnen `'has_gender'`. Legendariske pokemon pleier som regel ikke å ha kjønn. \n",
    "\n",
    "**Oppgave 9**: Prøv å lage en bedre klassifikator med hjelp av flere egenskaper. F. eks. `'has_gender'` eller en annen egenskap du tror kan være viktig. Hva er den beste testnøyaktigheten du kan få? Prøv gjerne en annen algoritme enn beslutningstrær og se om resultatet blir annerledes. \n"
   ]
  },
  {
   "cell_type": "code",
   "execution_count": null,
   "metadata": {
    "collapsed": true
   },
   "outputs": [],
   "source": [
    "######## Din kode her ######## \n",
    "\n",
    "\n",
    "######## Din kode slutt ########"
   ]
  }
 ],
 "metadata": {
  "anaconda-cloud": {},
  "kernelspec": {
   "display_name": "Python 3",
   "language": "python",
   "name": "python3"
  },
  "language_info": {
   "codemirror_mode": {
    "name": "ipython",
    "version": 3
   },
   "file_extension": ".py",
   "mimetype": "text/x-python",
   "name": "python",
   "nbconvert_exporter": "python",
   "pygments_lexer": "ipython3",
   "version": "3.5.2"
  },
  "toc": {
   "colors": {
    "hover_highlight": "#DAA520",
    "navigate_num": "#000000",
    "navigate_text": "#333333",
    "running_highlight": "#FF0000",
    "selected_highlight": "#FFD700",
    "sidebar_border": "#EEEEEE",
    "wrapper_background": "#FFFFFF"
   },
   "moveMenuLeft": true,
   "nav_menu": {
    "height": "49px",
    "width": "252px"
   },
   "navigate_menu": true,
   "number_sections": true,
   "sideBar": true,
   "threshold": 4,
   "toc_cell": false,
   "toc_section_display": "block",
   "toc_window_display": false,
   "widenNotebook": false
  }
 },
 "nbformat": 4,
 "nbformat_minor": 2
}
