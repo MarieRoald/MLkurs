{
 "cells": [
  {
   "cell_type": "code",
   "execution_count": 95,
   "metadata": {
    "collapsed": true
   },
   "outputs": [],
   "source": [
    "import pandas as pd\n",
    "import numpy as np\n",
    "import seaborn as sns\n",
    "import matplotlib.pyplot as plt\n",
    "\n",
    "from sklearn.model_selection import train_test_split\n",
    "from sklearn.tree import DecisionTreeClassifier\n",
    "from useful_tools import ModelTester"
   ]
  },
  {
   "cell_type": "code",
   "execution_count": 98,
   "metadata": {
    "scrolled": true
   },
   "outputs": [
    {
     "data": {
      "text/html": [
       "<div>\n",
       "<style>\n",
       "    .dataframe thead tr:only-child th {\n",
       "        text-align: right;\n",
       "    }\n",
       "\n",
       "    .dataframe thead th {\n",
       "        text-align: left;\n",
       "    }\n",
       "\n",
       "    .dataframe tbody tr th {\n",
       "        vertical-align: top;\n",
       "    }\n",
       "</style>\n",
       "<table border=\"1\" class=\"dataframe\">\n",
       "  <thead>\n",
       "    <tr style=\"text-align: right;\">\n",
       "      <th></th>\n",
       "      <th>risky_lottery</th>\n",
       "      <th>smoking</th>\n",
       "      <th>drinking</th>\n",
       "      <th>gambling</th>\n",
       "      <th>skydiving</th>\n",
       "      <th>speeding</th>\n",
       "      <th>cheating</th>\n",
       "      <th>steak_prep</th>\n",
       "      <th>male</th>\n",
       "      <th>age</th>\n",
       "      <th>income</th>\n",
       "      <th>education</th>\n",
       "    </tr>\n",
       "  </thead>\n",
       "  <tbody>\n",
       "    <tr>\n",
       "      <th>2</th>\n",
       "      <td>1</td>\n",
       "      <td>0</td>\n",
       "      <td>1</td>\n",
       "      <td>0</td>\n",
       "      <td>0</td>\n",
       "      <td>0</td>\n",
       "      <td>0</td>\n",
       "      <td>1</td>\n",
       "      <td>1</td>\n",
       "      <td>3</td>\n",
       "      <td>2</td>\n",
       "      <td>2</td>\n",
       "    </tr>\n",
       "    <tr>\n",
       "      <th>3</th>\n",
       "      <td>1</td>\n",
       "      <td>0</td>\n",
       "      <td>1</td>\n",
       "      <td>1</td>\n",
       "      <td>0</td>\n",
       "      <td>1</td>\n",
       "      <td>1</td>\n",
       "      <td>0</td>\n",
       "      <td>1</td>\n",
       "      <td>3</td>\n",
       "      <td>4</td>\n",
       "      <td>4</td>\n",
       "    </tr>\n",
       "    <tr>\n",
       "      <th>4</th>\n",
       "      <td>0</td>\n",
       "      <td>1</td>\n",
       "      <td>1</td>\n",
       "      <td>1</td>\n",
       "      <td>0</td>\n",
       "      <td>1</td>\n",
       "      <td>1</td>\n",
       "      <td>2</td>\n",
       "      <td>1</td>\n",
       "      <td>3</td>\n",
       "      <td>2</td>\n",
       "      <td>3</td>\n",
       "    </tr>\n",
       "    <tr>\n",
       "      <th>5</th>\n",
       "      <td>0</td>\n",
       "      <td>0</td>\n",
       "      <td>1</td>\n",
       "      <td>0</td>\n",
       "      <td>0</td>\n",
       "      <td>1</td>\n",
       "      <td>1</td>\n",
       "      <td>2</td>\n",
       "      <td>1</td>\n",
       "      <td>3</td>\n",
       "      <td>2</td>\n",
       "      <td>4</td>\n",
       "    </tr>\n",
       "    <tr>\n",
       "      <th>6</th>\n",
       "      <td>1</td>\n",
       "      <td>0</td>\n",
       "      <td>0</td>\n",
       "      <td>0</td>\n",
       "      <td>0</td>\n",
       "      <td>1</td>\n",
       "      <td>0</td>\n",
       "      <td>1</td>\n",
       "      <td>1</td>\n",
       "      <td>0</td>\n",
       "      <td>0</td>\n",
       "      <td>2</td>\n",
       "    </tr>\n",
       "  </tbody>\n",
       "</table>\n",
       "</div>"
      ],
      "text/plain": [
       "   risky_lottery  smoking  drinking  gambling  skydiving  speeding  cheating  \\\n",
       "2              1        0         1         0          0         0         0   \n",
       "3              1        0         1         1          0         1         1   \n",
       "4              0        1         1         1          0         1         1   \n",
       "5              0        0         1         0          0         1         1   \n",
       "6              1        0         0         0          0         1         0   \n",
       "\n",
       "   steak_prep  male  age  income  education  \n",
       "2           1     1    3       2          2  \n",
       "3           0     1    3       4          4  \n",
       "4           2     1    3       2          3  \n",
       "5           2     1    3       2          4  \n",
       "6           1     1    0       0          2  "
      ]
     },
     "execution_count": 98,
     "metadata": {},
     "output_type": "execute_result"
    }
   ],
   "source": [
    "with open('../datasets/data/steak-survey/steak-risk-survey.csv') as infile:\n",
    "    data = pd.read_csv(infile)\n",
    "data.drop(['RespondentID'], axis=1, inplace=True)\n",
    "data.drop([0], inplace=True)\n",
    "data.columns = ['risky_lottery', 'smoking', 'drinking', 'gambling', 'skydiving', 'speeding', 'cheating', 'steak', 'steak_prep', 'male', 'age', 'income', 'education', 'location']\n",
    "data['male'] = (data['male'] == 'Male').astype(int) \n",
    "data.dropna(inplace=True)\n",
    "data['risky_lottery'] = (data['risky_lottery'] == 'Lottery A').astype(int)\n",
    "for name in ['smoking', 'drinking', 'gambling', 'skydiving', 'speeding', 'cheating', 'steak']:\n",
    "    data[name] = (data[name] == 'Yes').astype(int)\n",
    "    \n",
    "data['steak_prep'] = data['steak_prep'].map({'Rare': 0, 'Medium rare': 1, 'Medium': 2, 'Medium Well': 3, 'Well': 4})\n",
    "data['age'] = data['age'].map({'18-29': 0, '30-44': 1, '45-60': 2, '> 60': 3})\n",
    "data['education'] = data['education'].map({'Less than high school degree': 0,\n",
    "                                          'High school degree': 1,\n",
    "                                          'Some college or Associate degree': 2,\n",
    "                                          'Bachelor degree': 3,\n",
    "                                          'Graduate degree':4})\n",
    "data['income'] = data['income'].map({'$0 - $24,999': 0,\n",
    "                                     '$100,000 - $149,999': 3,\n",
    "                                     '$150,000+': 4,\n",
    "                                     '$25,000 - $49,999': 1,\n",
    "                                     '$50,000 - $99,999': 2})\n",
    "\n",
    "# This is always 1, because dropping NaN means that the rows where steak_prep is Nan, steak is 0\n",
    "data.drop(['steak', 'location'], axis=1, inplace=True)\n",
    "#data = pd.get_dummies(data, columns=['location'])\n",
    "data.head()"
   ]
  },
  {
   "cell_type": "code",
   "execution_count": 99,
   "metadata": {},
   "outputs": [],
   "source": [
    "x = data.drop(['risky_lottery'], axis=1)\n",
    "y = data['risky_lottery']\n",
    "\n",
    "x_train, x_test, y_train, y_test = train_test_split(x, y, test_size=0.2)\n",
    "\n",
    "tester = ModelTester(x_test, y_test)"
   ]
  },
  {
   "cell_type": "code",
   "execution_count": 106,
   "metadata": {},
   "outputs": [
    {
     "data": {
      "text/plain": [
       "DecisionTreeClassifier(class_weight=None, criterion='gini', max_depth=None,\n",
       "            max_features=None, max_leaf_nodes=None,\n",
       "            min_impurity_split=1e-07, min_samples_leaf=5,\n",
       "            min_samples_split=2, min_weight_fraction_leaf=0.0,\n",
       "            presort=False, random_state=None, splitter='best')"
      ]
     },
     "execution_count": 106,
     "metadata": {},
     "output_type": "execute_result"
    }
   ],
   "source": [
    "tree = DecisionTreeClassifier(min_samples_leaf=5)\n",
    "tree.fit(x_train, y_train)"
   ]
  },
  {
   "cell_type": "code",
   "execution_count": 107,
   "metadata": {},
   "outputs": [
    {
     "name": "stdout",
     "output_type": "stream",
     "text": [
      "Confusion matrix, without normalization\n"
     ]
    },
    {
     "data": {
      "image/png": "[encoded data removed]",
      "text/plain": [
       "<matplotlib.figure.Figure at 0x7f55648de710>"
      ]
     },
     "metadata": {},
     "output_type": "display_data"
    },
    {
     "name": "stdout",
     "output_type": "stream",
     "text": [
      "Accuracy:  46.2686567164 %\n"
     ]
    },
    {
     "data": {
      "text/plain": [
       "(array([[16, 17],\n",
       "        [20, 14]]), 0.46268656716417911)"
      ]
     },
     "execution_count": 107,
     "metadata": {},
     "output_type": "execute_result"
    }
   ],
   "source": [
    "tester.test_classifier(tree, class_names=('Not risky', 'risky'))"
   ]
  }
 ],
 "metadata": {
  "kernelspec": {
   "display_name": "Python 3",
   "language": "python",
   "name": "python3"
  },
  "language_info": {
   "codemirror_mode": {
    "name": "ipython",
    "version": 3
   },
   "file_extension": ".py",
   "mimetype": "text/x-python",
   "name": "python",
   "nbconvert_exporter": "python",
   "pygments_lexer": "ipython3",
   "version": "3.5.2"
  }
 },
 "nbformat": 4,
 "nbformat_minor": 2
}
