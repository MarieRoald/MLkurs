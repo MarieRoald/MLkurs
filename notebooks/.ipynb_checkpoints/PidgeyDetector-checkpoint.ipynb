{
 "cells": [
  {
   "cell_type": "code",
   "execution_count": 1,
   "metadata": {
    "collapsed": true
   },
   "outputs": [],
   "source": [
    "import numpy as np # linear algebra\n",
    "import pandas as pd # data processing, CSV file I/O (e.g. pd.read_csv)\n",
    "import matplotlib.pyplot as plt\n",
    "\n",
    "from sklearn.tree import DecisionTreeClassifier\n",
    "from sklearn.metrics import accuracy_score\n",
    "import warnings\n",
    "warnings.filterwarnings('ignore')\n",
    "\n",
    "data = pd.read_csv('../datasets/pokemonGo/processed_pokemon_go.csv', low_memory=False)"
   ]
  },
  {
   "cell_type": "code",
   "execution_count": 2,
   "metadata": {
    "collapsed": false
   },
   "outputs": [
    {
     "name": "stdout",
     "output_type": "stream",
     "text": [
      "['Unnamed: 0', 'latitude', 'longitude', 'appearedTimeOfDay', 'terrainType', 'closeToWater', 'temperature', 'windSpeed', 'pressure', 'sunriseMinutesMidnight', 'sunriseMinutesSince', 'sunsetMinutesMidnight', 'sunsetMinutesBefore', 'Urbanity', 'gymDistanceKm', 'pokestopDistanceKm', 'cooc_1', 'cooc_2', 'cooc_3', 'cooc_4', 'cooc_5', 'cooc_6', 'cooc_7', 'cooc_8', 'cooc_9', 'cooc_10', 'cooc_11', 'cooc_12', 'cooc_13', 'cooc_14', 'cooc_15', 'cooc_16', 'cooc_17', 'cooc_18', 'cooc_19', 'cooc_20', 'cooc_21', 'cooc_22', 'cooc_23', 'cooc_24', 'cooc_25', 'cooc_26', 'cooc_27', 'cooc_28', 'cooc_29', 'cooc_30', 'cooc_31', 'cooc_32', 'cooc_33', 'cooc_34', 'cooc_35', 'cooc_36', 'cooc_37', 'cooc_38', 'cooc_39', 'cooc_40', 'cooc_41', 'cooc_42', 'cooc_43', 'cooc_44', 'cooc_45', 'cooc_46', 'cooc_47', 'cooc_48', 'cooc_49', 'cooc_50', 'cooc_51', 'cooc_52', 'cooc_53', 'cooc_54', 'cooc_55', 'cooc_56', 'cooc_57', 'cooc_58', 'cooc_59', 'cooc_60', 'cooc_61', 'cooc_62', 'cooc_63', 'cooc_64', 'cooc_65', 'cooc_66', 'cooc_67', 'cooc_68', 'cooc_69', 'cooc_70', 'cooc_71', 'cooc_72', 'cooc_73', 'cooc_74', 'cooc_75', 'cooc_76', 'cooc_77', 'cooc_78', 'cooc_79', 'cooc_80', 'cooc_81', 'cooc_82', 'cooc_83', 'cooc_84', 'cooc_85', 'cooc_86', 'cooc_87', 'cooc_88', 'cooc_89', 'cooc_90', 'cooc_91', 'cooc_92', 'cooc_93', 'cooc_94', 'cooc_95', 'cooc_96', 'cooc_97', 'cooc_98', 'cooc_99', 'cooc_100', 'cooc_101', 'cooc_102', 'cooc_103', 'cooc_104', 'cooc_105', 'cooc_106', 'cooc_107', 'cooc_108', 'cooc_109', 'cooc_110', 'cooc_111', 'cooc_112', 'cooc_113', 'cooc_114', 'cooc_115', 'cooc_116', 'cooc_117', 'cooc_118', 'cooc_119', 'cooc_120', 'cooc_121', 'cooc_122', 'cooc_123', 'cooc_124', 'cooc_125', 'cooc_126', 'cooc_127', 'cooc_128', 'cooc_129', 'cooc_130', 'cooc_131', 'cooc_132', 'cooc_133', 'cooc_134', 'cooc_135', 'cooc_136', 'cooc_137', 'cooc_138', 'cooc_139', 'cooc_140', 'cooc_141', 'cooc_142', 'cooc_143', 'cooc_144', 'cooc_145', 'cooc_146', 'cooc_147', 'cooc_148', 'cooc_149', 'cooc_150', 'cooc_151', 'hour_1', 'hour_2', 'hour_3', 'hour_4', 'hour_5', 'hour_6', 'hour_7', 'hour_8', 'hour_9', 'hour_10', 'hour_11', 'hour_12', 'hour_13', 'hour_14', 'hour_15', 'hour_16', 'hour_17', 'hour_18', 'hour_19', 'hour_20', 'hour_21', 'hour_22', 'hour_23', 'minute_1', 'minute_2', 'minute_3', 'minute_4', 'minute_5', 'minute_6', 'minute_7', 'minute_8', 'minute_9', 'minute_10', 'minute_11', 'minute_12', 'minute_13', 'minute_14', 'minute_15', 'minute_16', 'minute_17', 'minute_18', 'minute_19', 'minute_20', 'minute_21', 'minute_22', 'minute_23', 'minute_24', 'minute_25', 'minute_26', 'minute_27', 'minute_28', 'minute_29', 'minute_30', 'minute_31', 'minute_32', 'minute_33', 'minute_34', 'minute_35', 'minute_36', 'minute_37', 'minute_38', 'minute_39', 'minute_40', 'minute_41', 'minute_42', 'minute_43', 'minute_44', 'minute_45', 'minute_46', 'minute_47', 'minute_48', 'minute_49', 'minute_50', 'minute_51', 'minute_52', 'minute_53', 'minute_54', 'minute_55', 'minute_56', 'minute_57', 'minute_58', 'minute_59', 'day_3', 'day_4', 'day_5', 'day_6', 'day_7', 'day_8', 'city_Amman', 'city_Amsterdam', 'city_Athens', 'city_Auckland', 'city_Bahia', 'city_Bangkok', 'city_Belem', 'city_Berlin', 'city_Bogota', 'city_Boise', 'city_Bratislava', 'city_Brisbane', 'city_Brunei', 'city_Brussels', 'city_Bucharest', 'city_Buenos_Aires', 'city_Cairo', 'city_Casablanca', 'city_Chicago', 'city_Copenhagen', 'city_Cordoba', 'city_Costa_Rica', 'city_Damascus', 'city_Denver', 'city_Detroit', 'city_Dubai', 'city_Dublin', 'city_Edmonton', 'city_Fortaleza', 'city_Guam', 'city_Guayaquil', 'city_Guyana', 'city_Halifax', 'city_Helsinki', 'city_Ho_Chi_Minh', 'city_Hobart', 'city_Hong_Kong', 'city_Honolulu', 'city_Indianapolis', 'city_Isle_of_Man', 'city_Istanbul', 'city_Jakarta', 'city_Jerusalem', 'city_Karachi', 'city_Kiev', 'city_Kolkata', 'city_Kuala_Lumpur', 'city_Kuching', 'city_Lisbon', 'city_Ljubljana', 'city_London', 'city_Los_Angeles', 'city_Louisville', 'city_Luanda', 'city_Luxembourg', 'city_Madrid', 'city_Manila', 'city_Melbourne', 'city_Mexico_City', 'city_Monrovia', 'city_Monterrey', 'city_Montreal', 'city_Moscow', 'city_Nairobi', 'city_New_York', 'city_Nicosia', 'city_Noumea', 'city_Oslo', 'city_Paris', 'city_Perth', 'city_Phnom_Penh', 'city_Phoenix', 'city_Prague', 'city_Puerto_Rico', 'city_Regina', 'city_Reunion', 'city_Reykjavik', 'city_Rome', 'city_Santiago', 'city_Sao_Paulo', 'city_Sarajevo', 'city_Singapore', 'city_Stockholm', 'city_Sydney', 'city_Tahiti', 'city_Taipei', 'city_Tokyo', 'city_Toronto', 'city_Tripoli', 'city_Tunis', 'city_Vancouver', 'city_Vienna', 'city_Vilnius', 'city_Warsaw', 'city_Winnipeg', 'city_Zagreb', 'city_Zurich', 'continent_America', 'continent_Asia', 'continent_Australia', 'continent_CentralAmerica', 'continent_Europe', 'continent_Indian', 'weather_BreezyandMostlyCloudy', 'weather_BreezyandOvercast', 'weather_BreezyandPartlyCloudy', 'weather_Clear', 'weather_DangerouslyWindy', 'weather_Drizzle', 'weather_DrizzleandBreezy', 'weather_Dry', 'weather_DryandMostlyCloudy', 'weather_DryandPartlyCloudy', 'weather_Foggy', 'weather_HeavyRain', 'weather_Humid', 'weather_HumidandOvercast', 'weather_HumidandPartlyCloudy', 'weather_LightRain', 'weather_LightRainandBreezy', 'weather_MostlyCloudy', 'weather_Overcast', 'weather_PartlyCloudy', 'weather_Rain', 'weather_RainandWindy', 'weather_Windy', 'weather_WindyandFoggy', 'weather_WindyandPartlyCloudy', 'windBearing_1', 'windBearing_2', 'windBearing_3', 'windBearing_4', 'windBearing_5', 'windBearing_6', 'windBearing_7', 'sunriseHour_5', 'sunriseHour_6', 'sunriseHour_7', 'sunriseHour_8', 'sunriseMinute_1', 'sunriseMinute_2', 'sunriseMinute_3', 'sunriseMinute_4', 'sunriseMinute_5', 'sunriseMinute_6', 'sunriseMinute_7', 'sunriseMinute_8', 'sunriseMinute_9', 'sunriseMinute_10', 'sunriseMinute_11', 'sunriseMinute_12', 'sunriseMinute_13', 'sunriseMinute_14', 'sunriseMinute_15', 'sunriseMinute_16', 'sunriseMinute_17', 'sunriseMinute_18', 'sunriseMinute_19', 'sunriseMinute_20', 'sunriseMinute_21', 'sunriseMinute_22', 'sunriseMinute_23', 'sunriseMinute_24', 'sunriseMinute_25', 'sunriseMinute_26', 'sunriseMinute_27', 'sunriseMinute_28', 'sunriseMinute_29', 'sunriseMinute_30', 'sunriseMinute_31', 'sunriseMinute_32', 'sunriseMinute_33', 'sunriseMinute_34', 'sunriseMinute_35', 'sunriseMinute_36', 'sunriseMinute_37', 'sunriseMinute_38', 'sunriseMinute_39', 'sunriseMinute_40', 'sunriseMinute_41', 'sunriseMinute_42', 'sunriseMinute_43', 'sunriseMinute_44', 'sunriseMinute_45', 'sunriseMinute_46', 'sunriseMinute_47', 'sunriseMinute_48', 'sunriseMinute_49', 'sunriseMinute_50', 'sunriseMinute_51', 'sunriseMinute_52', 'sunriseMinute_53', 'sunriseMinute_54', 'sunriseMinute_55', 'sunriseMinute_56', 'sunriseMinute_57', 'sunriseMinute_58', 'sunriseMinute_59', 'sunsetHour_18', 'sunsetHour_19', 'sunsetHour_20', 'sunsetMinute_1', 'sunsetMinute_2', 'sunsetMinute_3', 'sunsetMinute_4', 'sunsetMinute_5', 'sunsetMinute_6', 'sunsetMinute_7', 'sunsetMinute_8', 'sunsetMinute_9', 'sunsetMinute_10', 'sunsetMinute_11', 'sunsetMinute_12', 'sunsetMinute_13', 'sunsetMinute_14', 'sunsetMinute_15', 'sunsetMinute_16', 'sunsetMinute_17', 'sunsetMinute_18', 'sunsetMinute_19', 'sunsetMinute_20', 'sunsetMinute_21', 'sunsetMinute_22', 'sunsetMinute_23', 'sunsetMinute_24', 'sunsetMinute_25', 'sunsetMinute_26', 'sunsetMinute_27', 'sunsetMinute_28', 'sunsetMinute_29', 'sunsetMinute_30', 'sunsetMinute_31', 'sunsetMinute_32', 'sunsetMinute_33', 'sunsetMinute_34', 'sunsetMinute_35', 'sunsetMinute_36', 'sunsetMinute_37', 'sunsetMinute_38', 'sunsetMinute_39', 'sunsetMinute_40', 'sunsetMinute_41', 'sunsetMinute_42', 'sunsetMinute_43', 'sunsetMinute_44', 'sunsetMinute_45', 'sunsetMinute_46', 'sunsetMinute_47', 'sunsetMinute_48', 'sunsetMinute_49', 'sunsetMinute_50', 'sunsetMinute_51', 'sunsetMinute_52', 'sunsetMinute_53', 'sunsetMinute_54', 'sunsetMinute_55', 'sunsetMinute_56', 'sunsetMinute_57', 'sunsetMinute_58', 'sunsetMinute_59', 'pokestopDistanceKm.1']\n",
      "Number of features: 516\n"
     ]
    }
   ],
   "source": [
    "features = data.drop(['class'],1).as_matrix()\n",
    "\n",
    "labels = data['class'].as_matrix()\n",
    "feature_names = list( data.drop(['class'],1))\n",
    "print feature_names\n",
    "print \"Number of features: %d\" %len(feature_names)"
   ]
  },
  {
   "cell_type": "code",
   "execution_count": 3,
   "metadata": {
    "collapsed": true
   },
   "outputs": [],
   "source": [
    "#N = 100000\n",
    "\n",
    "#labels = labels[:N]\n",
    "#features = features[:N]"
   ]
  },
  {
   "cell_type": "code",
   "execution_count": 4,
   "metadata": {
    "collapsed": false
   },
   "outputs": [
    {
     "name": "stdout",
     "output_type": "stream",
     "text": [
      "Number of pidgeys 8897\n",
      "number of data 17794\n",
      "(17794L, 516L)\n",
      "(17794L,)\n"
     ]
    }
   ],
   "source": [
    "# Vi ønsker likt antall pidgey og not pidgey, så vi plukker bare noen av not pidgey dataene\n",
    "print \"Number of pidgeys\", (labels==16).sum()\n",
    "\n",
    "\n",
    "\n",
    "pidgey = labels == 16\n",
    "not_pidgey = labels != 16\n",
    "\n",
    "N = len(labels)\n",
    "idx = np.arange(N)\n",
    "\n",
    "num_pidgeys = pidgey.sum()\n",
    "random_subset = np.hstack([idx[pidgey],np.random.choice(idx[not_pidgey],num_pidgeys)])\n",
    "print \"number of data\", len(random_subset)\n",
    "\n",
    "balanced_data = features[random_subset]\n",
    "balanced_labels = labels[random_subset]\n",
    "balanced_labels = balanced_labels == 16\n",
    "\n",
    "print balanced_data.shape\n",
    "print balanced_labels.shape"
   ]
  },
  {
   "cell_type": "code",
   "execution_count": 5,
   "metadata": {
    "collapsed": false
   },
   "outputs": [
    {
     "name": "stdout",
     "output_type": "stream",
     "text": [
      "(11921L, 516L)\n",
      "(11921L,)\n",
      "(5873L, 516L)\n",
      "(5873L,)\n"
     ]
    }
   ],
   "source": [
    "from sklearn.model_selection import train_test_split\n",
    "train_data, test_data,train_target,  test_target = train_test_split(balanced_data, balanced_labels, test_size=0.33, random_state=42)\n",
    "\n",
    "print train_data.shape\n",
    "print train_target.shape\n",
    "print test_data.shape\n",
    "print test_target.shape"
   ]
  },
  {
   "cell_type": "code",
   "execution_count": null,
   "metadata": {
    "collapsed": true
   },
   "outputs": [],
   "source": []
  },
  {
   "cell_type": "code",
   "execution_count": 6,
   "metadata": {
    "collapsed": false
   },
   "outputs": [
    {
     "data": {
      "text/plain": [
       "SVC(C=1.0, cache_size=200, class_weight=None, coef0=0.0,\n",
       "  decision_function_shape=None, degree=3, gamma='auto', kernel='rbf',\n",
       "  max_iter=-1, probability=False, random_state=None, shrinking=True,\n",
       "  tol=0.001, verbose=False)"
      ]
     },
     "execution_count": 6,
     "metadata": {},
     "output_type": "execute_result"
    }
   ],
   "source": [
    "from sklearn.svm import SVC, LinearSVC\n",
    "from sklearn.metrics import confusion_matrix\n",
    "\n",
    "clf = SVC()\n",
    "clf.fit(train_data,train_target)"
   ]
  },
  {
   "cell_type": "code",
   "execution_count": 7,
   "metadata": {
    "collapsed": false
   },
   "outputs": [
    {
     "name": "stdout",
     "output_type": "stream",
     "text": [
      "predicted labels\n",
      "[False  True False ...,  True False  True]\n",
      "true labels\n",
      "[False  True False ..., False  True  True]\n",
      "Accuracy score: 0.545377\n",
      "[[1237 1719]\n",
      " [ 951 1966]]\n"
     ]
    }
   ],
   "source": [
    "predictions = clf.predict(test_data)\n",
    "print \"predicted labels\"\n",
    "print predictions\n",
    "print \"true labels\"\n",
    "print test_target\n",
    "\n",
    "print \"Accuracy score: %f\" %(predictions==test_target).mean()\n",
    "print confusion_matrix(test_target, predictions)"
   ]
  },
  {
   "cell_type": "markdown",
   "metadata": {},
   "source": [
    "Not very good results"
   ]
  },
  {
   "cell_type": "code",
   "execution_count": 8,
   "metadata": {
    "collapsed": false
   },
   "outputs": [
    {
     "data": {
      "image/png": "[encoded data removed]",
      "text/plain": [
       "<matplotlib.figure.Figure at 0x1a0150f98>"
      ]
     },
     "metadata": {},
     "output_type": "display_data"
    }
   ],
   "source": [
    "plt.plot(test_target)\n",
    "plt.plot(predictions)\n",
    "plt.show()"
   ]
  },
  {
   "cell_type": "code",
   "execution_count": null,
   "metadata": {
    "collapsed": true
   },
   "outputs": [],
   "source": []
  }
 ],
 "metadata": {
  "kernelspec": {
   "display_name": "Python [conda root]",
   "language": "python",
   "name": "conda-root-py"
  },
  "language_info": {
   "codemirror_mode": {
    "name": "ipython",
    "version": 2
   },
   "file_extension": ".py",
   "mimetype": "text/x-python",
   "name": "python",
   "nbconvert_exporter": "python",
   "pygments_lexer": "ipython2",
   "version": "2.7.12"
  }
 },
 "nbformat": 4,
 "nbformat_minor": 1
}
