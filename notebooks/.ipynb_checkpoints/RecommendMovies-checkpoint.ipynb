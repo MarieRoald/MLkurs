{
 "cells": [
  {
   "cell_type": "code",
   "execution_count": null,
   "metadata": {
    "collapsed": true
   },
   "outputs": [],
   "source": [
    "# basert på https://www.kaggle.com/airalex/recommend-movie-with-clustering"
   ]
  },
  {
   "cell_type": "code",
   "execution_count": 4,
   "metadata": {
    "collapsed": true
   },
   "outputs": [],
   "source": [
    "import pandas as pd\n",
    "import numpy as np\n",
    "import matplotlib.pyplot as plt\n",
    "import seaborn\n",
    "\n",
    "data = pd.read_csv(\"../datasets/imdb-5000-movie-dataset/movie_metadata.csv\")\n",
    "\n",
    "data_use = data.ix[:,['genres','plot_keywords','movie_title','actor_1_name',\n",
    "                      'actor_2_name','actor_3_name','director_name','imdb_score']]\n",
    "\n",
    "data_use['movie_title'] = [i.replace(\"\\xa0\",\"\") for i in list(data_use['movie_title'])]"
   ]
  },
  {
   "cell_type": "code",
   "execution_count": 6,
   "metadata": {
    "collapsed": false
   },
   "outputs": [
    {
     "data": {
      "text/html": [
       "<div>\n",
       "<table border=\"1\" class=\"dataframe\">\n",
       "  <thead>\n",
       "    <tr style=\"text-align: right;\">\n",
       "      <th></th>\n",
       "      <th>genres</th>\n",
       "      <th>plot_keywords</th>\n",
       "      <th>movie_title</th>\n",
       "      <th>actor_1_name</th>\n",
       "      <th>actor_2_name</th>\n",
       "      <th>actor_3_name</th>\n",
       "      <th>director_name</th>\n",
       "      <th>imdb_score</th>\n",
       "    </tr>\n",
       "  </thead>\n",
       "  <tbody>\n",
       "    <tr>\n",
       "      <th>0</th>\n",
       "      <td>Action|Adventure|Fantasy|Sci-Fi</td>\n",
       "      <td>avatar|future|marine|native|paraplegic</td>\n",
       "      <td>Avatar�</td>\n",
       "      <td>CCH Pounder</td>\n",
       "      <td>Joel David Moore</td>\n",
       "      <td>Wes Studi</td>\n",
       "      <td>James Cameron</td>\n",
       "      <td>7.9</td>\n",
       "    </tr>\n",
       "    <tr>\n",
       "      <th>1</th>\n",
       "      <td>Action|Adventure|Fantasy</td>\n",
       "      <td>goddess|marriage ceremony|marriage proposal|pi...</td>\n",
       "      <td>Pirates of the Caribbean: At World's End�</td>\n",
       "      <td>Johnny Depp</td>\n",
       "      <td>Orlando Bloom</td>\n",
       "      <td>Jack Davenport</td>\n",
       "      <td>Gore Verbinski</td>\n",
       "      <td>7.1</td>\n",
       "    </tr>\n",
       "    <tr>\n",
       "      <th>2</th>\n",
       "      <td>Action|Adventure|Thriller</td>\n",
       "      <td>bomb|espionage|sequel|spy|terrorist</td>\n",
       "      <td>Spectre�</td>\n",
       "      <td>Christoph Waltz</td>\n",
       "      <td>Rory Kinnear</td>\n",
       "      <td>Stephanie Sigman</td>\n",
       "      <td>Sam Mendes</td>\n",
       "      <td>6.8</td>\n",
       "    </tr>\n",
       "    <tr>\n",
       "      <th>3</th>\n",
       "      <td>Action|Thriller</td>\n",
       "      <td>deception|imprisonment|lawlessness|police offi...</td>\n",
       "      <td>The Dark Knight Rises�</td>\n",
       "      <td>Tom Hardy</td>\n",
       "      <td>Christian Bale</td>\n",
       "      <td>Joseph Gordon-Levitt</td>\n",
       "      <td>Christopher Nolan</td>\n",
       "      <td>8.5</td>\n",
       "    </tr>\n",
       "    <tr>\n",
       "      <th>4</th>\n",
       "      <td>Documentary</td>\n",
       "      <td>NaN</td>\n",
       "      <td>Star Wars: Episode VII - The Force Awakens�   ...</td>\n",
       "      <td>Doug Walker</td>\n",
       "      <td>Rob Walker</td>\n",
       "      <td>NaN</td>\n",
       "      <td>Doug Walker</td>\n",
       "      <td>7.1</td>\n",
       "    </tr>\n",
       "  </tbody>\n",
       "</table>\n",
       "</div>"
      ],
      "text/plain": [
       "                            genres  \\\n",
       "0  Action|Adventure|Fantasy|Sci-Fi   \n",
       "1         Action|Adventure|Fantasy   \n",
       "2        Action|Adventure|Thriller   \n",
       "3                  Action|Thriller   \n",
       "4                      Documentary   \n",
       "\n",
       "                                       plot_keywords  \\\n",
       "0             avatar|future|marine|native|paraplegic   \n",
       "1  goddess|marriage ceremony|marriage proposal|pi...   \n",
       "2                bomb|espionage|sequel|spy|terrorist   \n",
       "3  deception|imprisonment|lawlessness|police offi...   \n",
       "4                                                NaN   \n",
       "\n",
       "                                         movie_title     actor_1_name  \\\n",
       "0                                            Avatar�      CCH Pounder   \n",
       "1          Pirates of the Caribbean: At World's End�      Johnny Depp   \n",
       "2                                           Spectre�  Christoph Waltz   \n",
       "3                             The Dark Knight Rises�        Tom Hardy   \n",
       "4  Star Wars: Episode VII - The Force Awakens�   ...      Doug Walker   \n",
       "\n",
       "       actor_2_name          actor_3_name      director_name  imdb_score  \n",
       "0  Joel David Moore             Wes Studi      James Cameron         7.9  \n",
       "1     Orlando Bloom        Jack Davenport     Gore Verbinski         7.1  \n",
       "2      Rory Kinnear      Stephanie Sigman         Sam Mendes         6.8  \n",
       "3    Christian Bale  Joseph Gordon-Levitt  Christopher Nolan         8.5  \n",
       "4        Rob Walker                   NaN        Doug Walker         7.1  "
      ]
     },
     "execution_count": 6,
     "metadata": {},
     "output_type": "execute_result"
    }
   ],
   "source": [
    "data_use.head(5)"
   ]
  },
  {
   "cell_type": "code",
   "execution_count": 7,
   "metadata": {
    "collapsed": false
   },
   "outputs": [
    {
     "name": "stdout",
     "output_type": "stream",
     "text": [
      "(5043, 8)\n",
      "(4781, 8)\n",
      "(4659, 8)\n"
     ]
    }
   ],
   "source": [
    "print(data_use.shape)\n",
    "clean_data = data_use.dropna(axis = 0)\n",
    "print(clean_data.shape)\n",
    "clean_data = clean_data.drop_duplicates(['movie_title'])\n",
    "clean_data = clean_data.reset_index(drop=True)\n",
    "print(clean_data.shape)"
   ]
  },
  {
   "cell_type": "code",
   "execution_count": 10,
   "metadata": {
    "collapsed": false
   },
   "outputs": [],
   "source": [
    "people_list = []\n",
    "for i in range(clean_data.shape[0]):\n",
    "    name1 = clean_data.ix[i,'actor_1_name'].replace(\" \",\"_\")\n",
    "    name2 = clean_data.ix[i,'actor_2_name'].replace(\" \",\"_\")\n",
    "    name3 = clean_data.ix[i,'actor_3_name'].replace(\" \",\"_\")\n",
    "    name4 = clean_data.ix[i,'director_name'].replace(\" \",\"_\")\n",
    "    people_list.append(\"|\".join([name1,name2,name3,name4]))\n",
    "clean_data['people'] = people_list\n",
    "\n"
   ]
  },
  {
   "cell_type": "code",
   "execution_count": 11,
   "metadata": {
    "collapsed": true
   },
   "outputs": [],
   "source": [
    "from sklearn.feature_extraction.text import CountVectorizer\n",
    "def token(text):\n",
    "    return(text.split(\"|\"))\n",
    "\n",
    "\n",
    "cv_kw=CountVectorizer(max_features=100,tokenizer=token )\n",
    "keywords = cv_kw.fit_transform(clean_data[\"plot_keywords\"])\n",
    "keywords_list = [\"kw_\" + i for i in cv_kw.get_feature_names()]\n",
    "\n",
    "cv_ge=CountVectorizer(tokenizer=token )\n",
    "genres = cv_ge.fit_transform(clean_data[\"genres\"])\n",
    "genres_list = [\"genres_\"+ i for i in cv_ge.get_feature_names()]\n",
    "\n",
    "cv_pp=CountVectorizer(max_features=100,tokenizer=token )\n",
    "people = cv_pp.fit_transform(clean_data[\"people\"])\n",
    "people_list = [\"pp_\"+ i for i in cv_pp.get_feature_names()]\n",
    "\n",
    "cluster_data = np.hstack([keywords.todense(),genres.todense(),people.todense()*2])\n",
    "criterion_list = keywords_list+genres_list+people_list"
   ]
  },
  {
   "cell_type": "code",
   "execution_count": null,
   "metadata": {
    "collapsed": true
   },
   "outputs": [],
   "source": []
  }
 ],
 "metadata": {
  "kernelspec": {
   "display_name": "Python [conda root]",
   "language": "python",
   "name": "conda-root-py"
  },
  "language_info": {
   "codemirror_mode": {
    "name": "ipython",
    "version": 2
   },
   "file_extension": ".py",
   "mimetype": "text/x-python",
   "name": "python",
   "nbconvert_exporter": "python",
   "pygments_lexer": "ipython2",
   "version": "2.7.12"
  }
 },
 "nbformat": 4,
 "nbformat_minor": 1
}
