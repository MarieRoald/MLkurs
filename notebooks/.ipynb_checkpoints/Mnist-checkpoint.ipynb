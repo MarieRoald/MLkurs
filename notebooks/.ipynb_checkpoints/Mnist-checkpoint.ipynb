{
 "cells": [
  {
   "cell_type": "code",
   "execution_count": 1,
   "metadata": {
    "collapsed": true
   },
   "outputs": [],
   "source": [
    "import pandas as pd\n",
    "import numpy as np\n",
    "import matplotlib.pyplot as plt\n",
    "import seaborn\n",
    "\n",
    "\n",
    "from sklearn import tree\n",
    "from sklearn.svm import SVC, LinearSVC\n",
    "from sklearn.neighbors import KNeighborsClassifier\n",
    "\n",
    "\n",
    "seaborn.set_style(\"whitegrid\", {'axes.grid' : False})"
   ]
  },
  {
   "cell_type": "code",
   "execution_count": 2,
   "metadata": {
    "collapsed": true
   },
   "outputs": [],
   "source": [
    "data = pd.read_csv(\"../datasets/mnist/mnist_train.csv\")"
   ]
  },
  {
   "cell_type": "code",
   "execution_count": 3,
   "metadata": {
    "collapsed": false
   },
   "outputs": [
    {
     "name": "stdout",
     "output_type": "stream",
     "text": [
      "       5  0.1  0.2  0.3  0.4  0.5  0.6  0.7  0.8  0.9  ...    0.608  0.609  \\\n",
      "0      0    0    0    0    0    0    0    0    0    0  ...        0      0   \n",
      "1      4    0    0    0    0    0    0    0    0    0  ...        0      0   \n",
      "2      1    0    0    0    0    0    0    0    0    0  ...        0      0   \n",
      "3      9    0    0    0    0    0    0    0    0    0  ...        0      0   \n",
      "4      2    0    0    0    0    0    0    0    0    0  ...        0      0   \n",
      "5      1    0    0    0    0    0    0    0    0    0  ...        0      0   \n",
      "6      3    0    0    0    0    0    0    0    0    0  ...        0      0   \n",
      "7      1    0    0    0    0    0    0    0    0    0  ...        0      0   \n",
      "8      4    0    0    0    0    0    0    0    0    0  ...        0      0   \n",
      "9      3    0    0    0    0    0    0    0    0    0  ...        0      0   \n",
      "10     5    0    0    0    0    0    0    0    0    0  ...        0      0   \n",
      "11     3    0    0    0    0    0    0    0    0    0  ...        0      0   \n",
      "12     6    0    0    0    0    0    0    0    0    0  ...        0      0   \n",
      "13     1    0    0    0    0    0    0    0    0    0  ...        0      0   \n",
      "14     7    0    0    0    0    0    0    0    0    0  ...        0      0   \n",
      "15     2    0    0    0    0    0    0    0    0    0  ...        0      0   \n",
      "16     8    0    0    0    0    0    0    0    0    0  ...        0      0   \n",
      "17     6    0    0    0    0    0    0    0    0    0  ...        0      0   \n",
      "18     9    0    0    0    0    0    0    0    0    0  ...        0      0   \n",
      "19     4    0    0    0    0    0    0    0    0    0  ...        0      0   \n",
      "20     0    0    0    0    0    0    0    0    0    0  ...        0      0   \n",
      "21     9    0    0    0    0    0    0    0    0    0  ...        0      0   \n",
      "22     1    0    0    0    0    0    0    0    0    0  ...        0      0   \n",
      "23     1    0    0    0    0    0    0    0    0    0  ...        0      0   \n",
      "24     2    0    0    0    0    0    0    0    0    0  ...        0      0   \n",
      "25     4    0    0    0    0    0    0    0    0    0  ...        0      0   \n",
      "26     3    0    0    0    0    0    0    0    0    0  ...        0      0   \n",
      "27     2    0    0    0    0    0    0    0    0    0  ...        0      0   \n",
      "28     7    0    0    0    0    0    0    0    0    0  ...        0      0   \n",
      "29     3    0    0    0    0    0    0    0    0    0  ...        0      0   \n",
      "...   ..  ...  ...  ...  ...  ...  ...  ...  ...  ...  ...      ...    ...   \n",
      "59969  2    0    0    0    0    0    0    0    0    0  ...        0      0   \n",
      "59970  2    0    0    0    0    0    0    0    0    0  ...        0      0   \n",
      "59971  0    0    0    0    0    0    0    0    0    0  ...        0      0   \n",
      "59972  9    0    0    0    0    0    0    0    0    0  ...        0      0   \n",
      "59973  2    0    0    0    0    0    0    0    0    0  ...        0      0   \n",
      "59974  4    0    0    0    0    0    0    0    0    0  ...        0      0   \n",
      "59975  6    0    0    0    0    0    0    0    0    0  ...        0      0   \n",
      "59976  7    0    0    0    0    0    0    0    0    0  ...        0      0   \n",
      "59977  3    0    0    0    0    0    0    0    0    0  ...        0      0   \n",
      "59978  1    0    0    0    0    0    0    0    0    0  ...        0      0   \n",
      "59979  3    0    0    0    0    0    0    0    0    0  ...        0      0   \n",
      "59980  6    0    0    0    0    0    0    0    0    0  ...        0      0   \n",
      "59981  6    0    0    0    0    0    0    0    0    0  ...        0      0   \n",
      "59982  2    0    0    0    0    0    0    0    0    0  ...        0      0   \n",
      "59983  1    0    0    0    0    0    0    0    0    0  ...        0      0   \n",
      "59984  2    0    0    0    0    0    0    0    0    0  ...        0      0   \n",
      "59985  6    0    0    0    0    0    0    0    0    0  ...        0      0   \n",
      "59986  0    0    0    0    0    0    0    0    0    0  ...        0      0   \n",
      "59987  7    0    0    0    0    0    0    0    0    0  ...        0      0   \n",
      "59988  8    0    0    0    0    0    0    0    0    0  ...        0      0   \n",
      "59989  9    0    0    0    0    0    0    0    0    0  ...        0      0   \n",
      "59990  2    0    0    0    0    0    0    0    0    0  ...        0      0   \n",
      "59991  9    0    0    0    0    0    0    0    0    0  ...        0      0   \n",
      "59992  5    0    0    0    0    0    0    0    0    0  ...        0      0   \n",
      "59993  1    0    0    0    0    0    0    0    0    0  ...        0      0   \n",
      "59994  8    0    0    0    0    0    0    0    0    0  ...        0      0   \n",
      "59995  3    0    0    0    0    0    0    0    0    0  ...        0      0   \n",
      "59996  5    0    0    0    0    0    0    0    0    0  ...        0      0   \n",
      "59997  6    0    0    0    0    0    0    0    0    0  ...        0      0   \n",
      "59998  8    0    0    0    0    0    0    0    0    0  ...        0      0   \n",
      "\n",
      "       0.610  0.611  0.612  0.613  0.614  0.615  0.616  0.617  \n",
      "0          0      0      0      0      0      0      0      0  \n",
      "1          0      0      0      0      0      0      0      0  \n",
      "2          0      0      0      0      0      0      0      0  \n",
      "3          0      0      0      0      0      0      0      0  \n",
      "4          0      0      0      0      0      0      0      0  \n",
      "5          0      0      0      0      0      0      0      0  \n",
      "6          0      0      0      0      0      0      0      0  \n",
      "7          0      0      0      0      0      0      0      0  \n",
      "8          0      0      0      0      0      0      0      0  \n",
      "9          0      0      0      0      0      0      0      0  \n",
      "10         0      0      0      0      0      0      0      0  \n",
      "11         0      0      0      0      0      0      0      0  \n",
      "12         0      0      0      0      0      0      0      0  \n",
      "13         0      0      0      0      0      0      0      0  \n",
      "14         0      0      0      0      0      0      0      0  \n",
      "15         0      0      0      0      0      0      0      0  \n",
      "16         0      0      0      0      0      0      0      0  \n",
      "17         0      0      0      0      0      0      0      0  \n",
      "18         0      0      0      0      0      0      0      0  \n",
      "19         0      0      0      0      0      0      0      0  \n",
      "20         0      0      0      0      0      0      0      0  \n",
      "21         0      0      0      0      0      0      0      0  \n",
      "22         0      0      0      0      0      0      0      0  \n",
      "23         0      0      0      0      0      0      0      0  \n",
      "24         0      0      0      0      0      0      0      0  \n",
      "25         0      0      0      0      0      0      0      0  \n",
      "26         0      0      0      0      0      0      0      0  \n",
      "27         0      0      0      0      0      0      0      0  \n",
      "28         0      0      0      0      0      0      0      0  \n",
      "29         0      0      0      0      0      0      0      0  \n",
      "...      ...    ...    ...    ...    ...    ...    ...    ...  \n",
      "59969      0      0      0      0      0      0      0      0  \n",
      "59970      0      0      0      0      0      0      0      0  \n",
      "59971      0      0      0      0      0      0      0      0  \n",
      "59972      0      0      0      0      0      0      0      0  \n",
      "59973      0      0      0      0      0      0      0      0  \n",
      "59974      0      0      0      0      0      0      0      0  \n",
      "59975      0      0      0      0      0      0      0      0  \n",
      "59976      0      0      0      0      0      0      0      0  \n",
      "59977      0      0      0      0      0      0      0      0  \n",
      "59978      0      0      0      0      0      0      0      0  \n",
      "59979      0      0      0      0      0      0      0      0  \n",
      "59980      0      0      0      0      0      0      0      0  \n",
      "59981      0      0      0      0      0      0      0      0  \n",
      "59982      0      0      0      0      0      0      0      0  \n",
      "59983      0      0      0      0      0      0      0      0  \n",
      "59984      0      0      0      0      0      0      0      0  \n",
      "59985      0      0      0      0      0      0      0      0  \n",
      "59986      0      0      0      0      0      0      0      0  \n",
      "59987      0      0      0      0      0      0      0      0  \n",
      "59988      0      0      0      0      0      0      0      0  \n",
      "59989      0      0      0      0      0      0      0      0  \n",
      "59990      0      0      0      0      0      0      0      0  \n",
      "59991      0      0      0      0      0      0      0      0  \n",
      "59992      0      0      0      0      0      0      0      0  \n",
      "59993      0      0      0      0      0      0      0      0  \n",
      "59994      0      0      0      0      0      0      0      0  \n",
      "59995      0      0      0      0      0      0      0      0  \n",
      "59996      0      0      0      0      0      0      0      0  \n",
      "59997      0      0      0      0      0      0      0      0  \n",
      "59998      0      0      0      0      0      0      0      0  \n",
      "\n",
      "[59999 rows x 784 columns]\n"
     ]
    }
   ],
   "source": [
    "labels = data.ix[:,[0]]\n",
    "#print labels\n",
    "features = data.drop(['0'],axis=1)\n",
    "print features"
   ]
  },
  {
   "cell_type": "code",
   "execution_count": 4,
   "metadata": {
    "collapsed": false
   },
   "outputs": [
    {
     "data": {
      "image/png": "[encoded data removed]",
      "text/plain": [
       "<matplotlib.figure.Figure at 0x28a48828>"
      ]
     },
     "metadata": {},
     "output_type": "display_data"
    }
   ],
   "source": [
    "idx = 100\n",
    "bilder = np.reshape(features.values[idx],(28,28))\n",
    "plt.imshow(bilder)\n",
    "plt.title(labels.values[idx])\n",
    "plt.show()"
   ]
  },
  {
   "cell_type": "code",
   "execution_count": 8,
   "metadata": {
    "collapsed": false
   },
   "outputs": [],
   "source": [
    "from sklearn.model_selection import train_test_split\n",
    "\n",
    "train_data, test_data,train_target,  test_target = train_test_split(features.values, labels.values, test_size=0.33, random_state=42)"
   ]
  },
  {
   "cell_type": "code",
   "execution_count": 9,
   "metadata": {
    "collapsed": false
   },
   "outputs": [
    {
     "name": "stderr",
     "output_type": "stream",
     "text": [
      "C:\\Users\\eiram\\Anaconda2\\lib\\site-packages\\ipykernel\\__main__.py:3: DataConversionWarning: A column-vector y was passed when a 1d array was expected. Please change the shape of y to (n_samples, ), for example using ravel().\n",
      "  app.launch_new_instance()\n"
     ]
    },
    {
     "data": {
      "text/plain": [
       "KNeighborsClassifier(algorithm='auto', leaf_size=30, metric='minkowski',\n",
       "           metric_params=None, n_jobs=1, n_neighbors=5, p=2,\n",
       "           weights='uniform')"
      ]
     },
     "execution_count": 9,
     "metadata": {},
     "output_type": "execute_result"
    }
   ],
   "source": [
    "clf = KNeighborsClassifier()\n",
    "clf.fit(train_data,train_target.ravel())"
   ]
  },
  {
   "cell_type": "code",
   "execution_count": null,
   "metadata": {
    "collapsed": true
   },
   "outputs": [],
   "source": [
    "predictions = clf.predict(test_data)\n",
    "print \"Accuracy score: %f\" %(predictions==test_target.ravel()).mean()"
   ]
  },
  {
   "cell_type": "code",
   "execution_count": null,
   "metadata": {
    "collapsed": true
   },
   "outputs": [],
   "source": []
  }
 ],
 "metadata": {
  "kernelspec": {
   "display_name": "Python [conda root]",
   "language": "python",
   "name": "conda-root-py"
  },
  "language_info": {
   "codemirror_mode": {
    "name": "ipython",
    "version": 2
   },
   "file_extension": ".py",
   "mimetype": "text/x-python",
   "name": "python",
   "nbconvert_exporter": "python",
   "pygments_lexer": "ipython2",
   "version": "2.7.12"
  }
 },
 "nbformat": 4,
 "nbformat_minor": 1
}
