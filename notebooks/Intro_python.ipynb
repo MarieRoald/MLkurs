{
 "cells": [
  {
   "cell_type": "markdown",
   "metadata": {},
   "source": [
    "# En rask introduksjon til Python for maskinlæring\n",
    "\n",
    "For å drive med maskinlæring, er det nødvendig å kunne litt programmering. Det aller mest tekniske vil være gjort for dere på forhånd i dette kurset, men det kan være lurt å forstå litt av hva som foregår.\n",
    "\n",
    "Du behøver ikke huske alt dette etter en gjennomlesning. Notebooken egner seg kanskje bedre som et oppslagsverk. Det er kanskje allikevel lurt å se gjennom en gang, slik at du vet hva som finnes her.\n",
    "\n",
    "Skulle det være noe du lurer på som ikke dekkes her, finner du sikkert det du lurer på hvis du googler det."
   ]
  },
  {
   "cell_type": "markdown",
   "metadata": {},
   "source": [
    "## Litt om Jupyter notebooks\n",
    "\n",
    "### Kjøring av celler\n",
    "\n",
    "I kurset skal vi bruke Jupyter notebooks. En notebook består av en eller flere *celler*. Koden i en celle kan kjøres ved å trykke på play-symbolet ovenfor eller velge et av `run`-valgene i cell-menyen ovenfor.\n",
    "\n",
    "Det er også hurtigtaster for å kjøre celler: `Ctrl+Enter` kjører cellen du for øyeblikket befinner deg i, mens `Shift+Enter` kjører cellen og flytter deg til neste celle. Flere hurtigtaster kan du finne [her](https://www.cheatography.com/weidadeyue/cheat-sheets/jupyter-notebook).\n",
    "\n",
    "Vær obs på at celler avhenger av hverandre. Når du kjører en celle, kommer det opp et tall ved siden av den som forteller deg hvilket nummer den den er i rekken av kjørte celler. En celle har tilgang til alt av verdier some er kjørt før den, uavhengig av cellenes plassering. Men siden det gir mest mening å organisere cellene fra begynnelse til slutt, lønner det seg også å kjøre de i den rekkefølgen. Du kan kjøre alle cellene fra menyen, eller gjøre det manuelt en og en."
   ]
  },
  {
   "cell_type": "markdown",
   "metadata": {},
   "source": [
    "## Grunnleggende Python\n",
    "\n",
    "Et av de mest grunnleggende programmenene man kan skrive er følgende"
   ]
  },
  {
   "cell_type": "code",
   "execution_count": 2,
   "metadata": {},
   "outputs": [
    {
     "name": "stdout",
     "output_type": "stream",
     "text": [
      "Hello world\n"
     ]
    }
   ],
   "source": [
    "print('Hello world')"
   ]
  },
  {
   "cell_type": "markdown",
   "metadata": {},
   "source": [
    "Dette \"programmet\" printer bare teksten \"Hello world\" tilbake til oss.\n",
    "\n",
    "`print` er en *funksjon* som printer det den får inn. Dette kan i bunn og grunn være hva som helst. I dette tilfellet har vi sendt inn `'Hello world'`, som er en tekststreng, eller bare streng om du vil, siden den står mellom anførselstegn. \n",
    "\n",
    "Hvis vi vil, kan vi putte strengen i en variabel i stedet, og deretter printe den:"
   ]
  },
  {
   "cell_type": "code",
   "execution_count": 3,
   "metadata": {},
   "outputs": [
    {
     "name": "stdout",
     "output_type": "stream",
     "text": [
      "Hello world\n"
     ]
    }
   ],
   "source": [
    "message = 'Hello world'\n",
    "print(message)"
   ]
  },
  {
   "cell_type": "markdown",
   "metadata": {},
   "source": [
    "Når vi gjør noe med en variabel, vil Python bytte ut variabelen med innholder der vi skriver navnet på variabelen\n",
    "\n",
    "Vi kan også modifisere variabler."
   ]
  },
  {
   "cell_type": "code",
   "execution_count": 4,
   "metadata": {},
   "outputs": [
    {
     "name": "stdout",
     "output_type": "stream",
     "text": [
      "Hello world!\n"
     ]
    }
   ],
   "source": [
    "message = message + '!'\n",
    "print(message)"
   ]
  },
  {
   "cell_type": "markdown",
   "metadata": {},
   "source": [
    "Den første linja virker kanskje forvirrende, siden vi har `message` på begge sider av likehettegnet. Python (og mange andre programmeringsspråk) bruker likhetstegnet til å definere variabler. Når vi gjør dette, vil uttrykket på høyre side **alltid** bli regnet ut først, og resultatet vil bli tilordnet variabelen på venstre side."
   ]
  },
  {
   "cell_type": "markdown",
   "metadata": {},
   "source": [
    "### Funksjoner\n",
    "\n",
    "Funksjoner er en god måte å holde koden vår ryddig, i tillegg til at de lar oss bruke kode vi har skrevet flere ganger uten å måtte klippe og lime.\n",
    "\n",
    "En funksjon kan tenkes på som en maskin som tar noen ting inn, og basert på dette, produserer noe som kommer ut i andre enden.\n",
    "\n",
    "Et eksempel er funksjonen `int`, som tar inn f.eks. en streng og konverterer den til heltall hvis det er mulig"
   ]
  },
  {
   "cell_type": "code",
   "execution_count": 5,
   "metadata": {},
   "outputs": [
    {
     "name": "stdout",
     "output_type": "stream",
     "text": [
      "<class 'int'>\n",
      "35\n"
     ]
    }
   ],
   "source": [
    "a = int('35')\n",
    "print(type(a))\n",
    "print(a)"
   ]
  },
  {
   "cell_type": "markdown",
   "metadata": {},
   "source": [
    "Her \"fanger\" vi output fra `int` i variabelen `a`, og printer typen til `a` ved å bruke funksjonen `type` og deretter printer vi verdien til `a`"
   ]
  },
  {
   "cell_type": "markdown",
   "metadata": {},
   "source": [
    "Funksjoner behøver ikke alltid returnere noe nyttig. Den kan også returnere et ingenting-objekt (`None`). For eksempel er det dette `print` returnerer.\n",
    "\n",
    "Men selv om funksjonen ikke returnerer noe av interesse, kan den fortsatt *gjøre* noe nyttig, enten ved å printe noe til oss, eller modifisere det den får inn.\n",
    "\n",
    "Vi kan også ha funksjoner som ikke tar inn noen argumenter.\n",
    "\n",
    "#### Definere egne funksjoner (Ikke nødvendig å kunne)\n",
    "\n",
    "vi definerer våre egne funksjoner på følgende måte:\n",
    "```python\n",
    "def function_name(arg1, arg2, ...):\n",
    "    code\n",
    "    return value\n",
    "```\n",
    "\n",
    "Der `function_name`, `arg1`, `arg2`, `...`  og  code er ting vi bestemmer selv. Det er viktig at koden i funksjonen er indentert ett nivå. Denne funksjonen vil returnere innholdet i variabelen value. Nedenfor er et eksempel på en funksjon som tar to tall og legger de sammen\n",
    "\n",
    "```python\n",
    "def add(a, b):\n",
    "    return a + b\n",
    "```\n",
    "\n",
    "#### Keyword arguments\n",
    "\n",
    "Når vi kaller på funksjoner, gjør vi det vanligvis ved å sende med argumentene den rekkefølgen de har i funksjonsdefinisjonen. Men vi kan også navngi de eksplisitt. For funksjonen ovenfor kan vi skrive\n",
    "```py\n",
    "add(a=3, b=5)\n",
    "```\n",
    "Når vi gjør det på denne måten, kan vi også bytte om på rekkefølgen. `add(b=5, a=3)` gir akkurat det samme resultatet.\n",
    "\n",
    "Vi kan også definere valgfrie variabler. Vi kan modifisere `add`-funksjonen vår til å ta inn to tall, med et valgfritt tredje tall.\n",
    "\n",
    "```py\n",
    "def add(a, b, c=0):\n",
    "    return a + b +c\n",
    "```\n",
    "Denne funksjonen krever de to argumentene `a` og `b`, og hvis vi vil, kan vi sende med en verdi for `c`. Alle disse kallene er gyldige\n",
    "```py\n",
    "add(1, 2)\n",
    "add(1, 2, 3)\n",
    "add(1, 2, c=3)\n",
    "```\n",
    "\n",
    "Vi kan også ha flere valgfrie variable\n",
    "```py\n",
    "def add(a, b, c=0, d=0):\n",
    "    return a + b + c + d\n",
    "```\n",
    "Dersom vi ønsker å sende med en verdi for `d`, men ikke for `c`, *må* vi gjøre dette eksplisitt. Altså\n",
    "```py\n",
    "add(1, 2, d=10).\n",
    "```\n",
    "for om du bare skriver\n",
    "```py\n",
    "add(1, 2, 10)\n",
    "```\n",
    "Vil 10 gis til `c`, og `d` vil ha sin standardverdi."
   ]
  },
  {
   "cell_type": "markdown",
   "metadata": {},
   "source": [
    "### Moduler og pakker\n",
    "\n",
    "#### importering\n",
    "\n",
    "Her vil vi først og fremst ta utgangspunkt i modulen Numpy. Standard metode å importere på er\n",
    "```python\n",
    "import numpy\n",
    "```\n",
    "Vi har nå tilgang til alt i Numpy. For eksempel funksjonen `linspace`. For å bruke den, må vi si\n",
    "```python\n",
    "numpy.linspace(...)\n",
    "```\n",
    "Det blir imidlertid litt kjedelig og uoversiktelig å skrive `numpy` foran alt vi gjør. Særlig hvis vi bruker mange funksjoner derfra samtidig.\n",
    "\n",
    "Det er flere måter å løse denne problematikken på. For eksempel kan vi spesifikt importere bare de funksjonene vi trenger:\n",
    "\n",
    "```python\n",
    "from numpy import linspace\n",
    "from numpy import matrix\n",
    "from numpy import array\n",
    "```\n",
    "eller\n",
    "```python\n",
    "from numpy import linspace, matrix, arrray\n",
    "```\n",
    "Nå kan vi altså kalle på funksjonene uten å måtte skrive `numpy` foran. Ulempen nå er at vi må skrive alt vi vil importere. Hvis vi bruker mange ting fra biblioteket, blir det en del jobb. Dette problemet kan løses ved å skrive\n",
    "```python\n",
    "from numpy import *\n",
    "```\n",
    "som importerer alt fra numpy. Dette løser problemet vårt, men skaper et annet: Det kan bli uklart hvor funksjonene kommer fra. Hvis vi importerer et bibliotek til på samme måte, har vi ingen umiddelbar måte å se hvor funksjonen kommer fra.\n",
    "\n",
    "Den vanligste løsningen på dette er å importere navnet `numpy` som noe annet. Det vanligste er\n",
    "```python\n",
    "import numpy as np\n",
    "```\n",
    "Som gjør at vi nå har tilgang til f.eks. `linspace` med `np.linspace`\n",
    "\n",
    "Vanlige imports vi vil bruke i dette kurset, og som ellers også er vanlige er\n",
    "```python\n",
    "import numpy as np\n",
    "import matplotlib.pyplot as plt\n",
    "import seaborn as sns\n",
    "import pandas as pd\n",
    "```"
   ]
  },
  {
   "cell_type": "markdown",
   "metadata": {},
   "source": [
    "### Objekter\n",
    "**OBS:** Dette stoffet er ikke viktig for kurset. \n",
    "\n",
    "Objekter kjennetegnes ved at de har *tilstand* og *oppførsel* (I alle fall i programmeringsverdenen). For eksempel kan tilstanden til en bil være den farge, merke, antall seter osv., mens oppførselen dens kan være at den kan kjøre, bremse, rygge osv.\n",
    "\n",
    "Python er et *objektorientert* språk, som vil si at ideen om objekter står svært sentralt. Faktisk er *alt* i Python objekter, både enkle ting som tall og strenger, og mer avanserte ting, som funksjoner.\n",
    "\n",
    "*Tilstanden* til objekter i Python lagres ofte i variabler i objektet, mens *oppførselen* finnes i *metoder*.\n",
    "\n",
    "#### Metoder\n",
    "\n",
    "Metoder ligner mye på funksjoner, men vi bruker dem på en litt annen måte. Som et eksempel kan vi se på en streng"
   ]
  },
  {
   "cell_type": "code",
   "execution_count": 24,
   "metadata": {},
   "outputs": [
    {
     "data": {
      "text/plain": [
       "'TEST'"
      ]
     },
     "execution_count": 24,
     "metadata": {},
     "output_type": "execute_result"
    }
   ],
   "source": [
    "s = 'test'\n",
    "s.upper()"
   ]
  },
  {
   "cell_type": "markdown",
   "metadata": {},
   "source": [
    "Vi kaller altså på `s` sin metode `upper`, og får ut teksten til `s` i store bokstaver. Legg merke til at vi ikke behøvde å sende med noen argumenter til `upper`. Dette skyldes at metoder har tilgang til alle dataene i objektet. Noen metoder tar allikevel noen ekstra variable"
   ]
  },
  {
   "cell_type": "markdown",
   "metadata": {},
   "source": [
    "## Numpy\n",
    "Numpy er en modul for å gjøre matematiske beregninger i Python enklere og raskere enn i ren Python-kode. Du trenger ikke kunne mye om denne modulen, men vi nevener den siden den brukes en del i koden til kurset. Det viktigste er `array`-datatypen den definerer.\n",
    "\n",
    "En array minner litt om en Python-liste, bare at den har fast størrelse. Operasjoner på en array gjør det samme med alle elementene i arrayen."
   ]
  },
  {
   "cell_type": "code",
   "execution_count": 6,
   "metadata": {},
   "outputs": [
    {
     "data": {
      "text/plain": [
       "array([ 3.,  3.,  3.,  3.,  3.,  3.,  3.,  3.,  3.,  3.,  3.,  3.,  3.,\n",
       "        3.,  3.,  3.,  3.,  3.,  3.,  3.,  3.,  3.,  3.,  3.,  3.,  3.,\n",
       "        3.,  3.,  3.,  3.,  3.,  3.,  3.,  3.,  3.,  3.,  3.,  3.,  3.,\n",
       "        3.,  3.,  3.,  3.,  3.,  3.,  3.,  3.,  3.,  3.,  3.,  3.,  3.,\n",
       "        3.,  3.,  3.,  3.,  3.,  3.,  3.,  3.,  3.,  3.,  3.,  3.,  3.,\n",
       "        3.,  3.,  3.,  3.,  3.,  3.,  3.,  3.,  3.,  3.,  3.,  3.,  3.,\n",
       "        3.,  3.,  3.,  3.,  3.,  3.,  3.,  3.,  3.,  3.,  3.,  3.,  3.,\n",
       "        3.,  3.,  3.,  3.,  3.,  3.,  3.,  3.,  3.])"
      ]
     },
     "execution_count": 6,
     "metadata": {},
     "output_type": "execute_result"
    }
   ],
   "source": [
    "import numpy as np\n",
    "\n",
    "# Lager en array av nuller som er 100 lang\n",
    "a = np.zeros(100)\n",
    "a += 3\n",
    "a"
   ]
  },
  {
   "cell_type": "markdown",
   "metadata": {},
   "source": [
    "## Matplotlib\n",
    "Denne modulen brukes til forskjellig plotting\n",
    "\n",
    "De viktigste er `scatter` og `plot`"
   ]
  },
  {
   "cell_type": "code",
   "execution_count": 7,
   "metadata": {},
   "outputs": [
    {
     "data": {
      "image/png": "[encoded data removed]",
      "text/plain": [
       "<matplotlib.figure.Figure at 0x7f372ffe2940>"
      ]
     },
     "metadata": {},
     "output_type": "display_data"
    }
   ],
   "source": [
    "import matplotlib.pyplot as plt\n",
    "\n",
    "x = np.linspace(0, 2*np.pi, 100)\n",
    "y = np.sin(x)\n",
    "plt.plot(x, y)\n",
    "plt.show()"
   ]
  },
  {
   "cell_type": "code",
   "execution_count": 8,
   "metadata": {},
   "outputs": [
    {
     "data": {
      "image/png": "[encoded data removed]",
      "text/plain": [
       "<matplotlib.figure.Figure at 0x7f374c14a4a8>"
      ]
     },
     "metadata": {},
     "output_type": "display_data"
    }
   ],
   "source": [
    "plt.scatter(np.random.random(10), np.random.random(10))\n",
    "plt.show()"
   ]
  },
  {
   "cell_type": "markdown",
   "metadata": {},
   "source": [
    "Man kan også legge til tekst på aksene og en tittel til plottet med funksjonene `plt.xlabel`, `plt.ylabel` og `plt.title`"
   ]
  },
  {
   "cell_type": "code",
   "execution_count": 9,
   "metadata": {},
   "outputs": [
    {
     "data": {
      "image/png": "[encoded data removed]",
      "text/plain": [
       "<matplotlib.figure.Figure at 0x7f372ce8d160>"
      ]
     },
     "metadata": {},
     "output_type": "display_data"
    }
   ],
   "source": [
    "plt.scatter(np.random.random(10), np.random.random(10))\n",
    "plt.xlabel('x-aksen')\n",
    "plt.ylabel('y-aksen')\n",
    "plt.title('Et plott av tilfeldige tall')\n",
    "plt.show()"
   ]
  },
  {
   "cell_type": "markdown",
   "metadata": {},
   "source": [
    "Når man plotter flere grafer i samme figur, kan det lønne seg å sette navn på dem. Det kan man gjøre ved å sette et `label` nå man plotter, og så lage `legend`"
   ]
  },
  {
   "cell_type": "code",
   "execution_count": 10,
   "metadata": {},
   "outputs": [
    {
     "data": {
      "image/png": "[encoded data removed]",
      "text/plain": [
       "<matplotlib.figure.Figure at 0x7f372cae2208>"
      ]
     },
     "metadata": {},
     "output_type": "display_data"
    }
   ],
   "source": [
    "x = np.linspace(0, 2*np.pi, 100)\n",
    "y1 = np.sin(x)\n",
    "y2 = np.cos(x)\n",
    "plt.plot(x, y1, label='sin(x)')\n",
    "plt.plot(x, y2, label='cos(x)')\n",
    "plt.legend()\n",
    "plt.show()"
   ]
  },
  {
   "cell_type": "markdown",
   "metadata": {},
   "source": [
    "## Seaborn\n",
    "Noen ganger vil du se at pakken `seaborn` er importert. Dette er en pakke som er basert på matplotlib.\n",
    "\n",
    "Dersom vi kun importerer seaborn, vil alle plottene vi lager med matplotlib se litt finere ut. I tillegg kan seaborn plotte noen ekstra typer plot."
   ]
  },
  {
   "cell_type": "markdown",
   "metadata": {},
   "source": [
    "## Pandas\n",
    "Pandas er en modul som vil gjøre det enklere å behandle data. En viktig ting Pandas definerer, er `DataFrame`. Det er en tabell som er lettere å manipulere enn en numpy-array.\n",
    "\n",
    "Pandas gjør det også enklere å lese inn data, med funksjonen `read_csv`, som tar navnet på en csv-fil og lager en DataFrame av innholdet.\n",
    "\n",
    "### Kort om CSV-formatet\n",
    "CSV står for \"Comma Separated Values\". Hver linje i filen tilsvarer en rad i dataene, og hver kolonnene separeres med kommaer. Vi kan se på de første linjene i en slik fil"
   ]
  },
  {
   "cell_type": "code",
   "execution_count": 11,
   "metadata": {},
   "outputs": [
    {
     "name": "stdout",
     "output_type": "stream",
     "text": [
      "id,date,price,bedrooms,bathrooms,sqft_living,sqft_lot,floors,waterfront,view,condition,grade,sqft_above,sqft_basement,yr_built,yr_renovated,zipcode,lat,long,sqft_living15,sqft_lot15\n",
      "\n",
      "\"7129300520\",\"20141013T000000\",221900,3,1,1180,5650,\"1\",0,0,3,7,1180,0,1955,0,\"98178\",47.5112,-122.257,1340,5650\n",
      "\n",
      "\"6414100192\",\"20141209T000000\",538000,3,2.25,2570,7242,\"2\",0,0,3,7,2170,400,1951,1991,\"98125\",47.721,-122.319,1690,7639\n",
      "\n",
      "\"5631500400\",\"20150225T000000\",180000,2,1,770,10000,\"1\",0,0,3,6,770,0,1933,0,\"98028\",47.7379,-122.233,2720,8062\n",
      "\n",
      "\"2487200875\",\"20141209T000000\",604000,4,3,1960,5000,\"1\",0,0,5,7,1050,910,1965,0,\"98136\",47.5208,-122.393,1360,5000\n",
      "\n",
      "\"1954400510\",\"20150218T000000\",510000,3,2,1680,8080,\"1\",0,0,3,8,1680,0,1987,0,\"98074\",47.6168,-122.045,1800,7503\n",
      "\n",
      "\"7237550310\",\"20140512T000000\",1.225e+006,4,4.5,5420,101930,\"1\",0,0,3,11,3890,1530,2001,0,\"98053\",47.6561,-122.005,4760,101930\n",
      "\n",
      "\"1321400060\",\"20140627T000000\",257500,3,2.25,1715,6819,\"2\",0,0,3,7,1715,0,1995,0,\"98003\",47.3097,-122.327,2238,6819\n",
      "\n",
      "\"2008000270\",\"20150115T000000\",291850,3,1.5,1060,9711,\"1\",0,0,3,7,1060,0,1963,0,\"98198\",47.4095,-122.315,1650,9711\n",
      "\n",
      "\"2414600126\",\"20150415T000000\",229500,3,1,1780,7470,\"1\",0,0,3,7,1050,730,1960,0,\"98146\",47.5123,-122.337,1780,8113\n",
      "\n"
     ]
    }
   ],
   "source": [
    "with open('../datasets/housesaleprediction/kc_house_data.csv') as infile:\n",
    "    for i in range(10):\n",
    "        print(infile.readline())"
   ]
  },
  {
   "cell_type": "code",
   "execution_count": 12,
   "metadata": {
    "collapsed": true
   },
   "outputs": [],
   "source": [
    "import pandas as pd\n",
    "\n",
    "# Her leser vi inn filen kc_house_data.csv. `..` betyr at vi går opp et nivå i mappestrukturen.\n",
    "data = pd.read_csv('../datasets/housesaleprediction/kc_house_data.csv')"
   ]
  },
  {
   "cell_type": "code",
   "execution_count": 13,
   "metadata": {},
   "outputs": [
    {
     "data": {
      "text/html": [
       "<div>\n",
       "<style>\n",
       "    .dataframe thead tr:only-child th {\n",
       "        text-align: right;\n",
       "    }\n",
       "\n",
       "    .dataframe thead th {\n",
       "        text-align: left;\n",
       "    }\n",
       "\n",
       "    .dataframe tbody tr th {\n",
       "        vertical-align: top;\n",
       "    }\n",
       "</style>\n",
       "<table border=\"1\" class=\"dataframe\">\n",
       "  <thead>\n",
       "    <tr style=\"text-align: right;\">\n",
       "      <th></th>\n",
       "      <th>id</th>\n",
       "      <th>date</th>\n",
       "      <th>price</th>\n",
       "      <th>bedrooms</th>\n",
       "      <th>bathrooms</th>\n",
       "      <th>sqft_living</th>\n",
       "      <th>sqft_lot</th>\n",
       "      <th>floors</th>\n",
       "      <th>waterfront</th>\n",
       "      <th>view</th>\n",
       "      <th>...</th>\n",
       "      <th>grade</th>\n",
       "      <th>sqft_above</th>\n",
       "      <th>sqft_basement</th>\n",
       "      <th>yr_built</th>\n",
       "      <th>yr_renovated</th>\n",
       "      <th>zipcode</th>\n",
       "      <th>lat</th>\n",
       "      <th>long</th>\n",
       "      <th>sqft_living15</th>\n",
       "      <th>sqft_lot15</th>\n",
       "    </tr>\n",
       "  </thead>\n",
       "  <tbody>\n",
       "    <tr>\n",
       "      <th>0</th>\n",
       "      <td>7129300520</td>\n",
       "      <td>20141013T000000</td>\n",
       "      <td>221900.0</td>\n",
       "      <td>3</td>\n",
       "      <td>1.00</td>\n",
       "      <td>1180</td>\n",
       "      <td>5650</td>\n",
       "      <td>1.0</td>\n",
       "      <td>0</td>\n",
       "      <td>0</td>\n",
       "      <td>...</td>\n",
       "      <td>7</td>\n",
       "      <td>1180</td>\n",
       "      <td>0</td>\n",
       "      <td>1955</td>\n",
       "      <td>0</td>\n",
       "      <td>98178</td>\n",
       "      <td>47.5112</td>\n",
       "      <td>-122.257</td>\n",
       "      <td>1340</td>\n",
       "      <td>5650</td>\n",
       "    </tr>\n",
       "    <tr>\n",
       "      <th>1</th>\n",
       "      <td>6414100192</td>\n",
       "      <td>20141209T000000</td>\n",
       "      <td>538000.0</td>\n",
       "      <td>3</td>\n",
       "      <td>2.25</td>\n",
       "      <td>2570</td>\n",
       "      <td>7242</td>\n",
       "      <td>2.0</td>\n",
       "      <td>0</td>\n",
       "      <td>0</td>\n",
       "      <td>...</td>\n",
       "      <td>7</td>\n",
       "      <td>2170</td>\n",
       "      <td>400</td>\n",
       "      <td>1951</td>\n",
       "      <td>1991</td>\n",
       "      <td>98125</td>\n",
       "      <td>47.7210</td>\n",
       "      <td>-122.319</td>\n",
       "      <td>1690</td>\n",
       "      <td>7639</td>\n",
       "    </tr>\n",
       "    <tr>\n",
       "      <th>2</th>\n",
       "      <td>5631500400</td>\n",
       "      <td>20150225T000000</td>\n",
       "      <td>180000.0</td>\n",
       "      <td>2</td>\n",
       "      <td>1.00</td>\n",
       "      <td>770</td>\n",
       "      <td>10000</td>\n",
       "      <td>1.0</td>\n",
       "      <td>0</td>\n",
       "      <td>0</td>\n",
       "      <td>...</td>\n",
       "      <td>6</td>\n",
       "      <td>770</td>\n",
       "      <td>0</td>\n",
       "      <td>1933</td>\n",
       "      <td>0</td>\n",
       "      <td>98028</td>\n",
       "      <td>47.7379</td>\n",
       "      <td>-122.233</td>\n",
       "      <td>2720</td>\n",
       "      <td>8062</td>\n",
       "    </tr>\n",
       "    <tr>\n",
       "      <th>3</th>\n",
       "      <td>2487200875</td>\n",
       "      <td>20141209T000000</td>\n",
       "      <td>604000.0</td>\n",
       "      <td>4</td>\n",
       "      <td>3.00</td>\n",
       "      <td>1960</td>\n",
       "      <td>5000</td>\n",
       "      <td>1.0</td>\n",
       "      <td>0</td>\n",
       "      <td>0</td>\n",
       "      <td>...</td>\n",
       "      <td>7</td>\n",
       "      <td>1050</td>\n",
       "      <td>910</td>\n",
       "      <td>1965</td>\n",
       "      <td>0</td>\n",
       "      <td>98136</td>\n",
       "      <td>47.5208</td>\n",
       "      <td>-122.393</td>\n",
       "      <td>1360</td>\n",
       "      <td>5000</td>\n",
       "    </tr>\n",
       "    <tr>\n",
       "      <th>4</th>\n",
       "      <td>1954400510</td>\n",
       "      <td>20150218T000000</td>\n",
       "      <td>510000.0</td>\n",
       "      <td>3</td>\n",
       "      <td>2.00</td>\n",
       "      <td>1680</td>\n",
       "      <td>8080</td>\n",
       "      <td>1.0</td>\n",
       "      <td>0</td>\n",
       "      <td>0</td>\n",
       "      <td>...</td>\n",
       "      <td>8</td>\n",
       "      <td>1680</td>\n",
       "      <td>0</td>\n",
       "      <td>1987</td>\n",
       "      <td>0</td>\n",
       "      <td>98074</td>\n",
       "      <td>47.6168</td>\n",
       "      <td>-122.045</td>\n",
       "      <td>1800</td>\n",
       "      <td>7503</td>\n",
       "    </tr>\n",
       "  </tbody>\n",
       "</table>\n",
       "<p>5 rows × 21 columns</p>\n",
       "</div>"
      ],
      "text/plain": [
       "           id             date     price  bedrooms  bathrooms  sqft_living  \\\n",
       "0  7129300520  20141013T000000  221900.0         3       1.00         1180   \n",
       "1  6414100192  20141209T000000  538000.0         3       2.25         2570   \n",
       "2  5631500400  20150225T000000  180000.0         2       1.00          770   \n",
       "3  2487200875  20141209T000000  604000.0         4       3.00         1960   \n",
       "4  1954400510  20150218T000000  510000.0         3       2.00         1680   \n",
       "\n",
       "   sqft_lot  floors  waterfront  view     ...      grade  sqft_above  \\\n",
       "0      5650     1.0           0     0     ...          7        1180   \n",
       "1      7242     2.0           0     0     ...          7        2170   \n",
       "2     10000     1.0           0     0     ...          6         770   \n",
       "3      5000     1.0           0     0     ...          7        1050   \n",
       "4      8080     1.0           0     0     ...          8        1680   \n",
       "\n",
       "   sqft_basement  yr_built  yr_renovated  zipcode      lat     long  \\\n",
       "0              0      1955             0    98178  47.5112 -122.257   \n",
       "1            400      1951          1991    98125  47.7210 -122.319   \n",
       "2              0      1933             0    98028  47.7379 -122.233   \n",
       "3            910      1965             0    98136  47.5208 -122.393   \n",
       "4              0      1987             0    98074  47.6168 -122.045   \n",
       "\n",
       "   sqft_living15  sqft_lot15  \n",
       "0           1340        5650  \n",
       "1           1690        7639  \n",
       "2           2720        8062  \n",
       "3           1360        5000  \n",
       "4           1800        7503  \n",
       "\n",
       "[5 rows x 21 columns]"
      ]
     },
     "execution_count": 13,
     "metadata": {},
     "output_type": "execute_result"
    }
   ],
   "source": [
    "# Henter ut de første radene\n",
    "data.head()"
   ]
  },
  {
   "cell_type": "markdown",
   "metadata": {},
   "source": [
    "Vi kan hente ut spesifikke kolonner på følgende måte:"
   ]
  },
  {
   "cell_type": "code",
   "execution_count": 14,
   "metadata": {},
   "outputs": [
    {
     "data": {
      "text/html": [
       "<div>\n",
       "<style>\n",
       "    .dataframe thead tr:only-child th {\n",
       "        text-align: right;\n",
       "    }\n",
       "\n",
       "    .dataframe thead th {\n",
       "        text-align: left;\n",
       "    }\n",
       "\n",
       "    .dataframe tbody tr th {\n",
       "        vertical-align: top;\n",
       "    }\n",
       "</style>\n",
       "<table border=\"1\" class=\"dataframe\">\n",
       "  <thead>\n",
       "    <tr style=\"text-align: right;\">\n",
       "      <th></th>\n",
       "      <th>price</th>\n",
       "      <th>sqft_living</th>\n",
       "    </tr>\n",
       "  </thead>\n",
       "  <tbody>\n",
       "    <tr>\n",
       "      <th>0</th>\n",
       "      <td>221900.0</td>\n",
       "      <td>1180</td>\n",
       "    </tr>\n",
       "    <tr>\n",
       "      <th>1</th>\n",
       "      <td>538000.0</td>\n",
       "      <td>2570</td>\n",
       "    </tr>\n",
       "    <tr>\n",
       "      <th>2</th>\n",
       "      <td>180000.0</td>\n",
       "      <td>770</td>\n",
       "    </tr>\n",
       "    <tr>\n",
       "      <th>3</th>\n",
       "      <td>604000.0</td>\n",
       "      <td>1960</td>\n",
       "    </tr>\n",
       "    <tr>\n",
       "      <th>4</th>\n",
       "      <td>510000.0</td>\n",
       "      <td>1680</td>\n",
       "    </tr>\n",
       "  </tbody>\n",
       "</table>\n",
       "</div>"
      ],
      "text/plain": [
       "      price  sqft_living\n",
       "0  221900.0         1180\n",
       "1  538000.0         2570\n",
       "2  180000.0          770\n",
       "3  604000.0         1960\n",
       "4  510000.0         1680"
      ]
     },
     "execution_count": 14,
     "metadata": {},
     "output_type": "execute_result"
    }
   ],
   "source": [
    "data_few_columns = data[['price', 'sqft_living']]\n",
    "data_few_columns.head()"
   ]
  },
  {
   "cell_type": "markdown",
   "metadata": {},
   "source": [
    "Hvis du vil fjerne kolonner i stedet, kan du bruke `drop`-metoden. For eksempel\n",
    "```python\n",
    "data.drop(['id', 'date'], axis=1)\n",
    "```\n",
    "vi trenger `axis=1` for å fortelle at det er en kolonne vi ønsker å fjerne, og ikke en rad.\n",
    "\n",
    "I dette tilfellet returnerer metoden en identisk DataFrame, bare at kolonnene `id` og `date` er fjernet. For at vi skal bruke dette til å modifisere DataFramen, må vi altså skrive\n",
    "```python\n",
    "data = data.drop(['id', 'date'], axis=1)\n",
    "```\n",
    "Det finnes imidlertid en alternativ måte, nemlig\n",
    "```python\n",
    "data.drop(['id', 'date'], axis=1, inplace=True)\n",
    "```\n",
    "I dette tilfellet blir selve dataframen modifisert, og ingenting blir returnert."
   ]
  },
  {
   "cell_type": "markdown",
   "metadata": {},
   "source": [
    "## Scikit-learn\n",
    "\n",
    "Scikit learn står sentralt i kurset. Det er her vi finner alle maskinlæringsalgoritmene og andre funksjoner som er relatert til det."
   ]
  },
  {
   "cell_type": "markdown",
   "metadata": {},
   "source": [
    "### Inndeling i trening- og testsett\n",
    "Når vi driver med maskinlæring, vil vi ofte dele opp dataene våre i et treningsett og et testsett (mer om hvorfor i selve kurset). Vi gjør dette ved å trekke tilfeldige rader fra dataene. I scikit gjør vi det på følgende måte:"
   ]
  },
  {
   "cell_type": "code",
   "execution_count": 15,
   "metadata": {},
   "outputs": [
    {
     "data": {
      "text/html": [
       "<div>\n",
       "<style>\n",
       "    .dataframe thead tr:only-child th {\n",
       "        text-align: right;\n",
       "    }\n",
       "\n",
       "    .dataframe thead th {\n",
       "        text-align: left;\n",
       "    }\n",
       "\n",
       "    .dataframe tbody tr th {\n",
       "        vertical-align: top;\n",
       "    }\n",
       "</style>\n",
       "<table border=\"1\" class=\"dataframe\">\n",
       "  <thead>\n",
       "    <tr style=\"text-align: right;\">\n",
       "      <th></th>\n",
       "      <th>id</th>\n",
       "      <th>date</th>\n",
       "      <th>price</th>\n",
       "      <th>bedrooms</th>\n",
       "      <th>bathrooms</th>\n",
       "      <th>sqft_living</th>\n",
       "      <th>sqft_lot</th>\n",
       "      <th>floors</th>\n",
       "      <th>waterfront</th>\n",
       "      <th>view</th>\n",
       "      <th>...</th>\n",
       "      <th>grade</th>\n",
       "      <th>sqft_above</th>\n",
       "      <th>sqft_basement</th>\n",
       "      <th>yr_built</th>\n",
       "      <th>yr_renovated</th>\n",
       "      <th>zipcode</th>\n",
       "      <th>lat</th>\n",
       "      <th>long</th>\n",
       "      <th>sqft_living15</th>\n",
       "      <th>sqft_lot15</th>\n",
       "    </tr>\n",
       "  </thead>\n",
       "  <tbody>\n",
       "    <tr>\n",
       "      <th>13869</th>\n",
       "      <td>824059042</td>\n",
       "      <td>20140530T000000</td>\n",
       "      <td>1886700.0</td>\n",
       "      <td>5</td>\n",
       "      <td>3.50</td>\n",
       "      <td>4180</td>\n",
       "      <td>17935</td>\n",
       "      <td>2.0</td>\n",
       "      <td>0</td>\n",
       "      <td>0</td>\n",
       "      <td>...</td>\n",
       "      <td>11</td>\n",
       "      <td>4180</td>\n",
       "      <td>0</td>\n",
       "      <td>2004</td>\n",
       "      <td>0</td>\n",
       "      <td>98004</td>\n",
       "      <td>47.5873</td>\n",
       "      <td>-122.202</td>\n",
       "      <td>2950</td>\n",
       "      <td>13760</td>\n",
       "    </tr>\n",
       "    <tr>\n",
       "      <th>14100</th>\n",
       "      <td>7784400035</td>\n",
       "      <td>20140813T000000</td>\n",
       "      <td>802000.0</td>\n",
       "      <td>2</td>\n",
       "      <td>1.75</td>\n",
       "      <td>2110</td>\n",
       "      <td>8700</td>\n",
       "      <td>1.0</td>\n",
       "      <td>0</td>\n",
       "      <td>4</td>\n",
       "      <td>...</td>\n",
       "      <td>9</td>\n",
       "      <td>1760</td>\n",
       "      <td>350</td>\n",
       "      <td>1960</td>\n",
       "      <td>0</td>\n",
       "      <td>98146</td>\n",
       "      <td>47.4912</td>\n",
       "      <td>-122.365</td>\n",
       "      <td>2120</td>\n",
       "      <td>9500</td>\n",
       "    </tr>\n",
       "    <tr>\n",
       "      <th>18927</th>\n",
       "      <td>3488300110</td>\n",
       "      <td>20140910T000000</td>\n",
       "      <td>374000.0</td>\n",
       "      <td>2</td>\n",
       "      <td>1.00</td>\n",
       "      <td>1140</td>\n",
       "      <td>5650</td>\n",
       "      <td>1.0</td>\n",
       "      <td>0</td>\n",
       "      <td>1</td>\n",
       "      <td>...</td>\n",
       "      <td>6</td>\n",
       "      <td>980</td>\n",
       "      <td>160</td>\n",
       "      <td>1920</td>\n",
       "      <td>0</td>\n",
       "      <td>98116</td>\n",
       "      <td>47.5634</td>\n",
       "      <td>-122.391</td>\n",
       "      <td>1220</td>\n",
       "      <td>5700</td>\n",
       "    </tr>\n",
       "    <tr>\n",
       "      <th>19264</th>\n",
       "      <td>2607730110</td>\n",
       "      <td>20140707T000000</td>\n",
       "      <td>391500.0</td>\n",
       "      <td>3</td>\n",
       "      <td>2.50</td>\n",
       "      <td>1920</td>\n",
       "      <td>9625</td>\n",
       "      <td>2.0</td>\n",
       "      <td>0</td>\n",
       "      <td>0</td>\n",
       "      <td>...</td>\n",
       "      <td>8</td>\n",
       "      <td>1920</td>\n",
       "      <td>0</td>\n",
       "      <td>1993</td>\n",
       "      <td>0</td>\n",
       "      <td>98045</td>\n",
       "      <td>47.4876</td>\n",
       "      <td>-121.800</td>\n",
       "      <td>1920</td>\n",
       "      <td>10343</td>\n",
       "    </tr>\n",
       "    <tr>\n",
       "      <th>1033</th>\n",
       "      <td>3353400860</td>\n",
       "      <td>20140717T000000</td>\n",
       "      <td>249900.0</td>\n",
       "      <td>3</td>\n",
       "      <td>1.75</td>\n",
       "      <td>2080</td>\n",
       "      <td>12522</td>\n",
       "      <td>1.0</td>\n",
       "      <td>0</td>\n",
       "      <td>0</td>\n",
       "      <td>...</td>\n",
       "      <td>6</td>\n",
       "      <td>2080</td>\n",
       "      <td>0</td>\n",
       "      <td>1950</td>\n",
       "      <td>0</td>\n",
       "      <td>98001</td>\n",
       "      <td>47.2670</td>\n",
       "      <td>-122.250</td>\n",
       "      <td>1690</td>\n",
       "      <td>11200</td>\n",
       "    </tr>\n",
       "  </tbody>\n",
       "</table>\n",
       "<p>5 rows × 21 columns</p>\n",
       "</div>"
      ],
      "text/plain": [
       "               id             date      price  bedrooms  bathrooms  \\\n",
       "13869   824059042  20140530T000000  1886700.0         5       3.50   \n",
       "14100  7784400035  20140813T000000   802000.0         2       1.75   \n",
       "18927  3488300110  20140910T000000   374000.0         2       1.00   \n",
       "19264  2607730110  20140707T000000   391500.0         3       2.50   \n",
       "1033   3353400860  20140717T000000   249900.0         3       1.75   \n",
       "\n",
       "       sqft_living  sqft_lot  floors  waterfront  view     ...      grade  \\\n",
       "13869         4180     17935     2.0           0     0     ...         11   \n",
       "14100         2110      8700     1.0           0     4     ...          9   \n",
       "18927         1140      5650     1.0           0     1     ...          6   \n",
       "19264         1920      9625     2.0           0     0     ...          8   \n",
       "1033          2080     12522     1.0           0     0     ...          6   \n",
       "\n",
       "       sqft_above  sqft_basement  yr_built  yr_renovated  zipcode      lat  \\\n",
       "13869        4180              0      2004             0    98004  47.5873   \n",
       "14100        1760            350      1960             0    98146  47.4912   \n",
       "18927         980            160      1920             0    98116  47.5634   \n",
       "19264        1920              0      1993             0    98045  47.4876   \n",
       "1033         2080              0      1950             0    98001  47.2670   \n",
       "\n",
       "          long  sqft_living15  sqft_lot15  \n",
       "13869 -122.202           2950       13760  \n",
       "14100 -122.365           2120        9500  \n",
       "18927 -122.391           1220        5700  \n",
       "19264 -121.800           1920       10343  \n",
       "1033  -122.250           1690       11200  \n",
       "\n",
       "[5 rows x 21 columns]"
      ]
     },
     "execution_count": 15,
     "metadata": {},
     "output_type": "execute_result"
    }
   ],
   "source": [
    "from sklearn.model_selection import train_test_split\n",
    "\n",
    "train, test = train_test_split(data, test_size=0.2)\n",
    "train.head()"
   ]
  },
  {
   "cell_type": "markdown",
   "metadata": {
    "collapsed": true
   },
   "source": [
    "Når vi bruker scikit til å tilpasse en modell, må vi skille responsen (f.eks `price` ovenfor) fra variablene. Dette må vi gjøre for både `train` og `test` ovenfor. En bedre metode hadde vært om vi kunne delt opp i respons og variabler, og så delt de opp.\n",
    "\n",
    "`train_test_split` støtter faktisk akkurat denne taktikken. I kallet ovenor sender vi bare med `data`, men `train_test_split` kan ta imot et vilkårlig antall arrayer/DataFrames. Altså kan vi splitte på følgende måte:"
   ]
  },
  {
   "cell_type": "code",
   "execution_count": 16,
   "metadata": {},
   "outputs": [
    {
     "data": {
      "text/html": [
       "<div>\n",
       "<style>\n",
       "    .dataframe thead tr:only-child th {\n",
       "        text-align: right;\n",
       "    }\n",
       "\n",
       "    .dataframe thead th {\n",
       "        text-align: left;\n",
       "    }\n",
       "\n",
       "    .dataframe tbody tr th {\n",
       "        vertical-align: top;\n",
       "    }\n",
       "</style>\n",
       "<table border=\"1\" class=\"dataframe\">\n",
       "  <thead>\n",
       "    <tr style=\"text-align: right;\">\n",
       "      <th></th>\n",
       "      <th>sqft_living</th>\n",
       "    </tr>\n",
       "  </thead>\n",
       "  <tbody>\n",
       "    <tr>\n",
       "      <th>168</th>\n",
       "      <td>2680</td>\n",
       "    </tr>\n",
       "    <tr>\n",
       "      <th>2588</th>\n",
       "      <td>960</td>\n",
       "    </tr>\n",
       "    <tr>\n",
       "      <th>14950</th>\n",
       "      <td>850</td>\n",
       "    </tr>\n",
       "    <tr>\n",
       "      <th>4030</th>\n",
       "      <td>1450</td>\n",
       "    </tr>\n",
       "    <tr>\n",
       "      <th>21090</th>\n",
       "      <td>3150</td>\n",
       "    </tr>\n",
       "  </tbody>\n",
       "</table>\n",
       "</div>"
      ],
      "text/plain": [
       "       sqft_living\n",
       "168           2680\n",
       "2588           960\n",
       "14950          850\n",
       "4030          1450\n",
       "21090         3150"
      ]
     },
     "execution_count": 16,
     "metadata": {},
     "output_type": "execute_result"
    }
   ],
   "source": [
    "variables = data[['sqft_living']]\n",
    "response = data[['price']]\n",
    "\n",
    "x_train, x_test, y_train, y_test = train_test_split(variables, response, test_size=0.2)\n",
    "x_train.head()"
   ]
  },
  {
   "cell_type": "code",
   "execution_count": 17,
   "metadata": {},
   "outputs": [
    {
     "data": {
      "text/html": [
       "<div>\n",
       "<style>\n",
       "    .dataframe thead tr:only-child th {\n",
       "        text-align: right;\n",
       "    }\n",
       "\n",
       "    .dataframe thead th {\n",
       "        text-align: left;\n",
       "    }\n",
       "\n",
       "    .dataframe tbody tr th {\n",
       "        vertical-align: top;\n",
       "    }\n",
       "</style>\n",
       "<table border=\"1\" class=\"dataframe\">\n",
       "  <thead>\n",
       "    <tr style=\"text-align: right;\">\n",
       "      <th></th>\n",
       "      <th>price</th>\n",
       "    </tr>\n",
       "  </thead>\n",
       "  <tbody>\n",
       "    <tr>\n",
       "      <th>168</th>\n",
       "      <td>653000.0</td>\n",
       "    </tr>\n",
       "    <tr>\n",
       "      <th>2588</th>\n",
       "      <td>406000.0</td>\n",
       "    </tr>\n",
       "    <tr>\n",
       "      <th>14950</th>\n",
       "      <td>295000.0</td>\n",
       "    </tr>\n",
       "    <tr>\n",
       "      <th>4030</th>\n",
       "      <td>550000.0</td>\n",
       "    </tr>\n",
       "    <tr>\n",
       "      <th>21090</th>\n",
       "      <td>720000.0</td>\n",
       "    </tr>\n",
       "  </tbody>\n",
       "</table>\n",
       "</div>"
      ],
      "text/plain": [
       "          price\n",
       "168    653000.0\n",
       "2588   406000.0\n",
       "14950  295000.0\n",
       "4030   550000.0\n",
       "21090  720000.0"
      ]
     },
     "execution_count": 17,
     "metadata": {},
     "output_type": "execute_result"
    }
   ],
   "source": [
    "y_train.head()"
   ]
  },
  {
   "cell_type": "markdown",
   "metadata": {},
   "source": [
    "### Tilpassning av modeller\n",
    "I scikit-learn finnes det mange forskjellige modeller. I dette kurset skal vi bare se på noen av dem.\n",
    "\n",
    "modellene må naturligvis importeres. For eksempel importerer vi lineær regresjon på følgende måte:"
   ]
  },
  {
   "cell_type": "code",
   "execution_count": 18,
   "metadata": {
    "collapsed": true
   },
   "outputs": [],
   "source": [
    "from sklearn.linear_model import LinearRegression"
   ]
  },
  {
   "cell_type": "markdown",
   "metadata": {},
   "source": [
    "Her er `sklearn` (scikit learn) pakken som alt ligger i. I denne pakken er det en modul som heter `linear_model` og inneholder klassen `LinearRegression`. Vi lager en ny lineær modell på følgende måte:"
   ]
  },
  {
   "cell_type": "code",
   "execution_count": 19,
   "metadata": {},
   "outputs": [
    {
     "data": {
      "text/plain": [
       "LinearRegression(copy_X=True, fit_intercept=True, n_jobs=1, normalize=False)"
      ]
     },
     "execution_count": 19,
     "metadata": {},
     "output_type": "execute_result"
    }
   ],
   "source": [
    "model = LinearRegression()\n",
    "model.fit(x_train, y_train)"
   ]
  },
  {
   "cell_type": "markdown",
   "metadata": {},
   "source": [
    "### Testing av modellen\n",
    "Vi har nå fått en modell vi kan bruke på ny data. Vi kan regne ut resultatet vi får på ny data med `predict`-metoden."
   ]
  },
  {
   "cell_type": "code",
   "execution_count": 20,
   "metadata": {
    "collapsed": true
   },
   "outputs": [],
   "source": [
    "predictions = model.predict(x_test)"
   ]
  },
  {
   "cell_type": "markdown",
   "metadata": {},
   "source": [
    "Vær obs på at selv om scikit-learn kan bruke DataFrames fra pandas, så blir de behandlet som numpy-arrayer. Dette betyr at du må f.eks. må huske å fjerne responsen fra variabel-dataframen. Hvis ikke kan du risikere å ha et tilfelle der du prøver å finne boligpris ut fra boligprisen. Det samme `predict`-metoden.\n",
    "\n",
    "Vi kan så regne ut gjennomsnittlig kvadratisk feil med `mean_squared_error`"
   ]
  },
  {
   "cell_type": "code",
   "execution_count": 21,
   "metadata": {},
   "outputs": [
    {
     "data": {
      "text/plain": [
       "68253038825.901344"
      ]
     },
     "execution_count": 21,
     "metadata": {},
     "output_type": "execute_result"
    }
   ],
   "source": [
    "from sklearn.metrics import mean_squared_error\n",
    "mean_squared_error(y_test, predictions)"
   ]
  },
  {
   "cell_type": "markdown",
   "metadata": {},
   "source": [
    "### Noen flere modeller som er viktige i kurset\n",
    "```python\n",
    "from sklearn.linear_model import LogisticRegression\n",
    "from sklearn.tree import DecisionTreeClassifier, DecisionTreeRegressor\n",
    "from sklearn.neighbors import KNeighborsClassifier, KNeighborsRegressor\n",
    "```"
   ]
  }
 ],
 "metadata": {
  "kernelspec": {
   "display_name": "Python 3",
   "language": "python",
   "name": "python3"
  },
  "language_info": {
   "codemirror_mode": {
    "name": "ipython",
    "version": 3
   },
   "file_extension": ".py",
   "mimetype": "text/x-python",
   "name": "python",
   "nbconvert_exporter": "python",
   "pygments_lexer": "ipython3",
   "version": "3.5.2"
  }
 },
 "nbformat": 4,
 "nbformat_minor": 2
}
