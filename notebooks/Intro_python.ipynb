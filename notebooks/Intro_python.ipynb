{
 "cells": [
  {
   "cell_type": "markdown",
   "metadata": {},
   "source": [
    "# En rask introduksjon til Python for maskinlæring\n",
    "\n",
    "For å drive med maskinlæring, er det nødvendig å kunne litt programmering. Det aller mest tekniske vil være gjort for dere på forhånd i dette kurset, men det kan være lurt å forstå litt av hva som foregår.\n",
    "\n",
    "Du behøver ikke huske alt dette etter en gjennomlesning. Notebooken egner seg kanskje bedre som et oppslagsverk. Det er kanskje allikevel lurt å se gjennom en gang, slik at du vet hva som finnes her.\n",
    "\n",
    "Skulle det være noe du lurer på som ikke dekkes her, finner du sikkert det du lurer på hvis du googler det."
   ]
  },
  {
   "cell_type": "markdown",
   "metadata": {},
   "source": [
    "## Litt om Jupyter notebooks\n",
    "\n",
    "### Kjøring av celler\n",
    "\n",
    "I kurset skal vi bruke Jupyter notebooks. En notebook består av en eller flere *celler*. Koden i en celle kan kjøres ved å trykke på play-symbolet ovenfor eller velge et av `run`-valgene i cell-menyen ovenfor.\n",
    "\n",
    "Det er også hurtigtaster for å kjøre celler: `Ctrl+Enter` kjører cellen du for øyeblikket befinner deg i, mens `Shift+Enter` kjører cellen og flytter deg til neste celle. Flere hurtigtaster kan du finne [her](https://www.cheatography.com/weidadeyue/cheat-sheets/jupyter-notebook).\n",
    "\n",
    "Vær obs på at celler avhenger av hverandre. Når du kjører en celle, kommer det opp et tall ved siden av den som forteller deg hvilket nummer den den er i rekken av kjørte celler. En celle har tilgang til alt av verdier some er kjørt før den, uavhengig av cellenes plassering. Men siden det gir mest mening å organisere cellene fra begynnelse til slutt, lønner det seg også å kjøre de i den rekkefølgen. Du kan kjøre alle cellene fra menyen, eller gjøre det manuelt en og en."
   ]
  },
  {
   "cell_type": "markdown",
   "metadata": {},
   "source": [
    "## Grunnleggende Python\n",
    "\n",
    "Et av de mest grunnleggende programmenene man kan skrive er følgende"
   ]
  },
  {
   "cell_type": "code",
   "execution_count": 2,
   "metadata": {},
   "outputs": [
    {
     "name": "stdout",
     "output_type": "stream",
     "text": [
      "Hello world\n"
     ]
    }
   ],
   "source": [
    "print('Hello world')"
   ]
  },
  {
   "cell_type": "markdown",
   "metadata": {},
   "source": [
    "Dette \"programmet\" printer bare teksten \"Hello world\" tilbake til oss.\n",
    "\n",
    "`print` er en *funksjon* som printer det den får inn. Dette kan i bunn og grunn være hva som helst. I dette tilfellet har vi sendt inn `'Hello world'`, som er en tekststreng, eller bare streng om du vil, siden den står mellom anførselstegn. \n",
    "\n",
    "Hvis vi vil, kan vi putte strengen i en variabel i stedet, og deretter printe den:"
   ]
  },
  {
   "cell_type": "code",
   "execution_count": 127,
   "metadata": {},
   "outputs": [
    {
     "name": "stdout",
     "output_type": "stream",
     "text": [
      "Hello world\n"
     ]
    }
   ],
   "source": [
    "message = 'Hello world'\n",
    "print(message)"
   ]
  },
  {
   "cell_type": "markdown",
   "metadata": {},
   "source": [
    "Når vi gjør noe med en variabel, vil Python bytte ut variabelen med innholder der vi skriver navnet på variabelen\n",
    "\n",
    "Vi kan også modifisere variabler."
   ]
  },
  {
   "cell_type": "code",
   "execution_count": 128,
   "metadata": {},
   "outputs": [
    {
     "name": "stdout",
     "output_type": "stream",
     "text": [
      "Hello world!\n"
     ]
    }
   ],
   "source": [
    "message = message + '!'\n",
    "print(message)"
   ]
  },
  {
   "cell_type": "markdown",
   "metadata": {},
   "source": [
    "Den første linja virker kanskje forvirrende, siden vi har `message` på begge sider av likehettegnet. Python (og mange andre programmeringsspråk) bruker likhetstegnet til å definere variabler. Når vi gjør dette, vil uttrykket på høyre side **alltid** bli regnet ut først, og resultatet vil bli tilordnet variabelen på venstre side."
   ]
  },
  {
   "cell_type": "markdown",
   "metadata": {},
   "source": [
    "### Funksjoner\n",
    "\n",
    "Funksjoner er en god måte å holde koden vår ryddig, i tillegg til at de lar oss bruke kode vi har skrevet flere ganger uten å måtte klippe og lime.\n",
    "\n",
    "En funksjon kan tenkes på som en maskin som tar noen ting inn, og basert på dette, produserer noe som kommer ut i andre enden.\n",
    "\n",
    "Et eksempel er funksjonen `int`, som tar inn f.eks. en streng og konverterer den til heltall hvis det er mulig"
   ]
  },
  {
   "cell_type": "code",
   "execution_count": 5,
   "metadata": {},
   "outputs": [
    {
     "name": "stdout",
     "output_type": "stream",
     "text": [
      "<class 'int'>\n",
      "35\n"
     ]
    }
   ],
   "source": [
    "a = int('35')\n",
    "print(type(a))\n",
    "print(a)"
   ]
  },
  {
   "cell_type": "markdown",
   "metadata": {},
   "source": [
    "Her \"fanger\" vi output fra `int` i variabelen `a`, og printer typen til `a` ved å bruke funksjonen `type` og deretter printer vi verdien til `a`"
   ]
  },
  {
   "cell_type": "markdown",
   "metadata": {},
   "source": [
    "Funksjoner behøver ikke alltid returnere noe nyttig. Den kan også returnere et ingenting-objekt (`None`). For eksempel er det dette `print` returnerer.\n",
    "\n",
    "Men selv om funksjonen ikke returnerer noe av interesse, kan den fortsatt *gjøre* noe nyttig, enten ved å printe noe til oss, eller modifisere det den får inn.\n",
    "\n",
    "Vi kan også ha funksjoner som ikke tar inn noen argumenter.\n",
    "\n",
    "#### Definere egne funksjoner (Absolutt ikke nødvendig for kurset)\n",
    "\n",
    "vi definerer våre egne funksjoner på følgende måte:\n",
    "```python\n",
    "def function_name(arg1, arg2, ...):\n",
    "    code\n",
    "    return value\n",
    "```\n",
    "\n",
    "Der `function_name`, `arg1`, `arg2`, `...`  og  code er ting vi bestemmer selv. Det er viktig at koden i funksjonen er indentert ett nivå. Denne funksjonen vil returnere innholdet i variabelen value. Nedenfor er et eksempel på en funksjon som tar to tall og legger de sammen\n",
    "\n",
    "```python\n",
    "def add(a, b):\n",
    "    return a + b\n",
    "```"
   ]
  },
  {
   "cell_type": "markdown",
   "metadata": {},
   "source": [
    "### Moduler og pakker\n",
    "\n",
    "#### importering\n",
    "\n",
    "Her vil vi først og fremst ta utgangspunkt i modulen Numpy. Standard metode å importere på er\n",
    "```python\n",
    "import numpy\n",
    "```\n",
    "Vi har nå tilgang til alt i Numpy. For eksempel funksjonen `linspace`. For å bruke den, må vi si\n",
    "```python\n",
    "numpy.linspace(...)\n",
    "```\n",
    "Det blir imidlertid litt kjedelig og uoversiktelig å skrive `numpy` foran alt vi gjør. Særlig hvis vi bruker mange funksjoner derfra samtidig.\n",
    "\n",
    "Det er flere måter å løse denne problematikken på. For eksempel kan vi spesifikt importere bare de funksjonene vi trenger:\n",
    "\n",
    "```python\n",
    "from numpy import linspace\n",
    "from numpy import matrix\n",
    "from numpy import array\n",
    "```\n",
    "eller\n",
    "```python\n",
    "from numpy import linspace, matrix, arrray\n",
    "```\n",
    "Nå kan vi altså kalle på funksjonene uten å måtte skrive `numpy` foran. Ulempen nå er at vi må skrive alt vi vil importere. Hvis vi bruker mange ting fra biblioteket, blir det en del jobb. Dette problemet kan løses ved å skrive\n",
    "```python\n",
    "from numpy import *\n",
    "```\n",
    "som importerer alt fra numpy. Dette løser problemet vårt, men skaper et annet: Det kan bli uklart hvor funksjonene kommer fra. Hvis vi importerer et bibliotek til på samme måte, har vi ingen umiddelbar måte å se hvor funksjonen kommer fra.\n",
    "\n",
    "Den vanligste løsningen på dette er å importere navnet `numpy` som noe annet. Det vanligste er\n",
    "```python\n",
    "import numpy as np\n",
    "```\n",
    "Som gjør at vi nå har tilgang til f.eks. `linspace` med `np.linspace`\n",
    "\n",
    "Vanlige imports vi vil bruke i dette kurset, og som ellers også er vanlige er\n",
    "```python\n",
    "import numpy as np\n",
    "import matplotlib.pyplot as plt\n",
    "import pandas as pd\n",
    "```"
   ]
  },
  {
   "cell_type": "markdown",
   "metadata": {},
   "source": [
    "## Numpy\n",
    "Numpy er en modul for å gjøre matematiske beregninger i Python enklere og raskere enn i ren Python-kode. Du trenger ikke kunne mye om denne modulen, men vi nevener den siden den brukes en del i koden til kurset. Det viktigste er `array`-datatypen den definerer.\n",
    "\n",
    "En array minner litt om en Python-liste, bare at den har fast størrelse. Operasjoner på en array gjør det samme med alle elementene i arrayen."
   ]
  },
  {
   "cell_type": "code",
   "execution_count": 96,
   "metadata": {},
   "outputs": [
    {
     "data": {
      "text/plain": [
       "array([ 13.,  13.,  13.,  13.,  13.,  13.,  13.,  13.,  13.,  13.,   3.,\n",
       "         3.,   3.,   3.,   3.,   3.,   3.,   3.,   3.,   3.,   3.,   3.,\n",
       "         3.,   3.,   3.,   3.,   3.,   3.,   3.,   3.,   3.,   3.,   3.,\n",
       "         3.,   3.,   3.,   3.,   3.,   3.,   3.,   3.,   3.,   3.,   3.,\n",
       "         3.,   3.,   3.,   3.,   3.,   3.,   3.,   3.,   3.,   3.,   3.,\n",
       "         3.,   3.,   3.,   3.,   3.,   3.,   3.,   3.,   3.,   3.,   3.,\n",
       "         3.,   3.,   3.,   3.,   3.,   3.,   3.,   3.,   3.,   3.,   3.,\n",
       "         3.,   3.,   3.,   3.,   3.,   3.,   3.,   3.,   3.,   3.,   3.,\n",
       "         3.,   3.,   3.,   3.,   3.,   3.,   3.,   3.,   3.,   3.,   3.,\n",
       "         3.])"
      ]
     },
     "execution_count": 96,
     "metadata": {},
     "output_type": "execute_result"
    }
   ],
   "source": [
    "import numpy as np\n",
    "\n",
    "# Lager en array av nuller som er 100 lang\n",
    "a = np.zeros(100)\n",
    "a += 3\n",
    "a[:10] += 10\n",
    "a"
   ]
  },
  {
   "cell_type": "markdown",
   "metadata": {},
   "source": [
    "## Matplotlib\n",
    "Denne modulen brukes til forskjellig plotting\n",
    "\n",
    "De viktigste er `scatter` og `plot`"
   ]
  },
  {
   "cell_type": "code",
   "execution_count": 7,
   "metadata": {},
   "outputs": [
    {
     "data": {
      "image/png": "[encoded data removed]",
      "text/plain": [
       "<matplotlib.figure.Figure at 0x7fc2d6159320>"
      ]
     },
     "metadata": {},
     "output_type": "display_data"
    }
   ],
   "source": [
    "import matplotlib.pyplot as plt\n",
    "\n",
    "x = np.linspace(0, 2*np.pi, 100)\n",
    "y = np.sin(x)\n",
    "plt.plot(x, y)\n",
    "plt.show()"
   ]
  },
  {
   "cell_type": "code",
   "execution_count": 41,
   "metadata": {},
   "outputs": [
    {
     "data": {
      "image/png": "[encoded data removed]",
      "text/plain": [
       "<matplotlib.figure.Figure at 0x7fc2b78790b8>"
      ]
     },
     "metadata": {},
     "output_type": "display_data"
    }
   ],
   "source": [
    "plt.scatter(np.random.random(10), np.random.random(10))\n",
    "plt.show()"
   ]
  },
  {
   "cell_type": "markdown",
   "metadata": {},
   "source": [
    "Man kan også legge til tekst på aksene og en tittel til plottet med funksjonene `plt.xlabel`, `plt.ylabel` og `plt.title`"
   ]
  },
  {
   "cell_type": "code",
   "execution_count": 43,
   "metadata": {},
   "outputs": [
    {
     "data": {
      "image/png": "[encoded data removed]",
      "text/plain": [
       "<matplotlib.figure.Figure at 0x7fc2b52e8668>"
      ]
     },
     "metadata": {},
     "output_type": "display_data"
    }
   ],
   "source": [
    "plt.scatter(np.random.random(10), np.random.random(10))\n",
    "plt.xlabel('x-aksen')\n",
    "plt.ylabel('y-aksen')\n",
    "plt.title('Et plott av tilfeldige tall')\n",
    "plt.show()"
   ]
  },
  {
   "cell_type": "markdown",
   "metadata": {},
   "source": [
    "Når man plotter flere grafer i samme figur, kan det lønne seg å sette navn på dem. Det kan man gjøre ved å sette et `label` nå man plotter, og så lage `legend`"
   ]
  },
  {
   "cell_type": "code",
   "execution_count": 44,
   "metadata": {},
   "outputs": [
    {
     "data": {
      "image/png": "[encoded data removed]",
      "text/plain": [
       "<matplotlib.figure.Figure at 0x7fc2b5307470>"
      ]
     },
     "metadata": {},
     "output_type": "display_data"
    }
   ],
   "source": [
    "x = np.linspace(0, 2*np.pi, 100)\n",
    "y1 = np.sin(x)\n",
    "y2 = np.cos(x)\n",
    "plt.plot(x, y1, label='sin(x)')\n",
    "plt.plot(x, y2, label='cos(x)')\n",
    "plt.legend()\n",
    "plt.show()"
   ]
  },
  {
   "cell_type": "markdown",
   "metadata": {},
   "source": [
    "## Seaborn\n",
    "Noen ganger vil du se at pakken `seaborn` er importert. Dette er en pakke som er basert på matplotlib.\n",
    "\n",
    "Dersom vi kun importerer seaborn, vil alle plottene vi lager med matplotlib se litt finere ut. I tillegg kan seaborn plotte noen ekstra typer plot."
   ]
  },
  {
   "cell_type": "markdown",
   "metadata": {},
   "source": [
    "## Pandas\n",
    "Pandas er en modul som vil gjøre det enklere å behandle data. En viktig ting Pandas definerer, er `DataFrame`. Det er en tabell som er lettere å manipulere enn en numpy-array.\n",
    "\n",
    "Pandas gjør det også enklere å lese inn data, med funksjonen `read_csv`, som tar navnet på en csv-fil og lager en DataFrame av innholdet.\n",
    "\n",
    "### Kort om CSV-formatet\n",
    "CSV står for \"Comma Separated Values\". Hver linje i filen tilsvarer en rad i dataene, og hver kolonnene separeres med kommaer. Vi kan se på de første linjene i en slik fil"
   ]
  },
  {
   "cell_type": "code",
   "execution_count": 18,
   "metadata": {},
   "outputs": [
    {
     "name": "stdout",
     "output_type": "stream",
     "text": [
      "id,date,price,bedrooms,bathrooms,sqft_living,sqft_lot,floors,waterfront,view,condition,grade,sqft_above,sqft_basement,yr_built,yr_renovated,zipcode,lat,long,sqft_living15,sqft_lot15\n",
      "\n",
      "\"7129300520\",\"20141013T000000\",221900,3,1,1180,5650,\"1\",0,0,3,7,1180,0,1955,0,\"98178\",47.5112,-122.257,1340,5650\n",
      "\n",
      "\"6414100192\",\"20141209T000000\",538000,3,2.25,2570,7242,\"2\",0,0,3,7,2170,400,1951,1991,\"98125\",47.721,-122.319,1690,7639\n",
      "\n",
      "\"5631500400\",\"20150225T000000\",180000,2,1,770,10000,\"1\",0,0,3,6,770,0,1933,0,\"98028\",47.7379,-122.233,2720,8062\n",
      "\n",
      "\"2487200875\",\"20141209T000000\",604000,4,3,1960,5000,\"1\",0,0,5,7,1050,910,1965,0,\"98136\",47.5208,-122.393,1360,5000\n",
      "\n",
      "\"1954400510\",\"20150218T000000\",510000,3,2,1680,8080,\"1\",0,0,3,8,1680,0,1987,0,\"98074\",47.6168,-122.045,1800,7503\n",
      "\n",
      "\"7237550310\",\"20140512T000000\",1.225e+006,4,4.5,5420,101930,\"1\",0,0,3,11,3890,1530,2001,0,\"98053\",47.6561,-122.005,4760,101930\n",
      "\n",
      "\"1321400060\",\"20140627T000000\",257500,3,2.25,1715,6819,\"2\",0,0,3,7,1715,0,1995,0,\"98003\",47.3097,-122.327,2238,6819\n",
      "\n",
      "\"2008000270\",\"20150115T000000\",291850,3,1.5,1060,9711,\"1\",0,0,3,7,1060,0,1963,0,\"98198\",47.4095,-122.315,1650,9711\n",
      "\n",
      "\"2414600126\",\"20150415T000000\",229500,3,1,1780,7470,\"1\",0,0,3,7,1050,730,1960,0,\"98146\",47.5123,-122.337,1780,8113\n",
      "\n"
     ]
    }
   ],
   "source": [
    "with open('../datasets/housesaleprediction/kc_house_data.csv') as infile:\n",
    "    for i in range(10):\n",
    "        print(infile.readline())"
   ]
  },
  {
   "cell_type": "code",
   "execution_count": 49,
   "metadata": {},
   "outputs": [],
   "source": [
    "import pandas as pd\n",
    "\n",
    "# Her leser vi inn filen kc_house_data.csv. `..` betyr at vi går opp et nivå i mappestrukturen.\n",
    "data = pd.read_csv('../datasets/housesaleprediction/kc_house_data.csv')"
   ]
  },
  {
   "cell_type": "code",
   "execution_count": 31,
   "metadata": {},
   "outputs": [
    {
     "data": {
      "text/html": [
       "<div>\n",
       "<style>\n",
       "    .dataframe thead tr:only-child th {\n",
       "        text-align: right;\n",
       "    }\n",
       "\n",
       "    .dataframe thead th {\n",
       "        text-align: left;\n",
       "    }\n",
       "\n",
       "    .dataframe tbody tr th {\n",
       "        vertical-align: top;\n",
       "    }\n",
       "</style>\n",
       "<table border=\"1\" class=\"dataframe\">\n",
       "  <thead>\n",
       "    <tr style=\"text-align: right;\">\n",
       "      <th></th>\n",
       "      <th>id</th>\n",
       "      <th>date</th>\n",
       "      <th>price</th>\n",
       "      <th>bedrooms</th>\n",
       "      <th>bathrooms</th>\n",
       "      <th>sqft_living</th>\n",
       "      <th>sqft_lot</th>\n",
       "      <th>floors</th>\n",
       "      <th>waterfront</th>\n",
       "      <th>view</th>\n",
       "      <th>...</th>\n",
       "      <th>grade</th>\n",
       "      <th>sqft_above</th>\n",
       "      <th>sqft_basement</th>\n",
       "      <th>yr_built</th>\n",
       "      <th>yr_renovated</th>\n",
       "      <th>zipcode</th>\n",
       "      <th>lat</th>\n",
       "      <th>long</th>\n",
       "      <th>sqft_living15</th>\n",
       "      <th>sqft_lot15</th>\n",
       "    </tr>\n",
       "  </thead>\n",
       "  <tbody>\n",
       "    <tr>\n",
       "      <th>0</th>\n",
       "      <td>7129300520</td>\n",
       "      <td>20141013T000000</td>\n",
       "      <td>221900.0</td>\n",
       "      <td>3</td>\n",
       "      <td>1.00</td>\n",
       "      <td>1180</td>\n",
       "      <td>5650</td>\n",
       "      <td>1.0</td>\n",
       "      <td>0</td>\n",
       "      <td>0</td>\n",
       "      <td>...</td>\n",
       "      <td>7</td>\n",
       "      <td>1180</td>\n",
       "      <td>0</td>\n",
       "      <td>1955</td>\n",
       "      <td>0</td>\n",
       "      <td>98178</td>\n",
       "      <td>47.5112</td>\n",
       "      <td>-122.257</td>\n",
       "      <td>1340</td>\n",
       "      <td>5650</td>\n",
       "    </tr>\n",
       "    <tr>\n",
       "      <th>1</th>\n",
       "      <td>6414100192</td>\n",
       "      <td>20141209T000000</td>\n",
       "      <td>538000.0</td>\n",
       "      <td>3</td>\n",
       "      <td>2.25</td>\n",
       "      <td>2570</td>\n",
       "      <td>7242</td>\n",
       "      <td>2.0</td>\n",
       "      <td>0</td>\n",
       "      <td>0</td>\n",
       "      <td>...</td>\n",
       "      <td>7</td>\n",
       "      <td>2170</td>\n",
       "      <td>400</td>\n",
       "      <td>1951</td>\n",
       "      <td>1991</td>\n",
       "      <td>98125</td>\n",
       "      <td>47.7210</td>\n",
       "      <td>-122.319</td>\n",
       "      <td>1690</td>\n",
       "      <td>7639</td>\n",
       "    </tr>\n",
       "    <tr>\n",
       "      <th>2</th>\n",
       "      <td>5631500400</td>\n",
       "      <td>20150225T000000</td>\n",
       "      <td>180000.0</td>\n",
       "      <td>2</td>\n",
       "      <td>1.00</td>\n",
       "      <td>770</td>\n",
       "      <td>10000</td>\n",
       "      <td>1.0</td>\n",
       "      <td>0</td>\n",
       "      <td>0</td>\n",
       "      <td>...</td>\n",
       "      <td>6</td>\n",
       "      <td>770</td>\n",
       "      <td>0</td>\n",
       "      <td>1933</td>\n",
       "      <td>0</td>\n",
       "      <td>98028</td>\n",
       "      <td>47.7379</td>\n",
       "      <td>-122.233</td>\n",
       "      <td>2720</td>\n",
       "      <td>8062</td>\n",
       "    </tr>\n",
       "    <tr>\n",
       "      <th>3</th>\n",
       "      <td>2487200875</td>\n",
       "      <td>20141209T000000</td>\n",
       "      <td>604000.0</td>\n",
       "      <td>4</td>\n",
       "      <td>3.00</td>\n",
       "      <td>1960</td>\n",
       "      <td>5000</td>\n",
       "      <td>1.0</td>\n",
       "      <td>0</td>\n",
       "      <td>0</td>\n",
       "      <td>...</td>\n",
       "      <td>7</td>\n",
       "      <td>1050</td>\n",
       "      <td>910</td>\n",
       "      <td>1965</td>\n",
       "      <td>0</td>\n",
       "      <td>98136</td>\n",
       "      <td>47.5208</td>\n",
       "      <td>-122.393</td>\n",
       "      <td>1360</td>\n",
       "      <td>5000</td>\n",
       "    </tr>\n",
       "    <tr>\n",
       "      <th>4</th>\n",
       "      <td>1954400510</td>\n",
       "      <td>20150218T000000</td>\n",
       "      <td>510000.0</td>\n",
       "      <td>3</td>\n",
       "      <td>2.00</td>\n",
       "      <td>1680</td>\n",
       "      <td>8080</td>\n",
       "      <td>1.0</td>\n",
       "      <td>0</td>\n",
       "      <td>0</td>\n",
       "      <td>...</td>\n",
       "      <td>8</td>\n",
       "      <td>1680</td>\n",
       "      <td>0</td>\n",
       "      <td>1987</td>\n",
       "      <td>0</td>\n",
       "      <td>98074</td>\n",
       "      <td>47.6168</td>\n",
       "      <td>-122.045</td>\n",
       "      <td>1800</td>\n",
       "      <td>7503</td>\n",
       "    </tr>\n",
       "  </tbody>\n",
       "</table>\n",
       "<p>5 rows × 21 columns</p>\n",
       "</div>"
      ],
      "text/plain": [
       "           id             date     price  bedrooms  bathrooms  sqft_living  \\\n",
       "0  7129300520  20141013T000000  221900.0         3       1.00         1180   \n",
       "1  6414100192  20141209T000000  538000.0         3       2.25         2570   \n",
       "2  5631500400  20150225T000000  180000.0         2       1.00          770   \n",
       "3  2487200875  20141209T000000  604000.0         4       3.00         1960   \n",
       "4  1954400510  20150218T000000  510000.0         3       2.00         1680   \n",
       "\n",
       "   sqft_lot  floors  waterfront  view     ...      grade  sqft_above  \\\n",
       "0      5650     1.0           0     0     ...          7        1180   \n",
       "1      7242     2.0           0     0     ...          7        2170   \n",
       "2     10000     1.0           0     0     ...          6         770   \n",
       "3      5000     1.0           0     0     ...          7        1050   \n",
       "4      8080     1.0           0     0     ...          8        1680   \n",
       "\n",
       "   sqft_basement  yr_built  yr_renovated  zipcode      lat     long  \\\n",
       "0              0      1955             0    98178  47.5112 -122.257   \n",
       "1            400      1951          1991    98125  47.7210 -122.319   \n",
       "2              0      1933             0    98028  47.7379 -122.233   \n",
       "3            910      1965             0    98136  47.5208 -122.393   \n",
       "4              0      1987             0    98074  47.6168 -122.045   \n",
       "\n",
       "   sqft_living15  sqft_lot15  \n",
       "0           1340        5650  \n",
       "1           1690        7639  \n",
       "2           2720        8062  \n",
       "3           1360        5000  \n",
       "4           1800        7503  \n",
       "\n",
       "[5 rows x 21 columns]"
      ]
     },
     "execution_count": 31,
     "metadata": {},
     "output_type": "execute_result"
    }
   ],
   "source": [
    "# Henter ut de første radene\n",
    "data.head()"
   ]
  },
  {
   "cell_type": "markdown",
   "metadata": {},
   "source": [
    "Vi kan hente ut spesifikke kolonner på følgende måte:"
   ]
  },
  {
   "cell_type": "code",
   "execution_count": 32,
   "metadata": {},
   "outputs": [
    {
     "data": {
      "text/html": [
       "<div>\n",
       "<style>\n",
       "    .dataframe thead tr:only-child th {\n",
       "        text-align: right;\n",
       "    }\n",
       "\n",
       "    .dataframe thead th {\n",
       "        text-align: left;\n",
       "    }\n",
       "\n",
       "    .dataframe tbody tr th {\n",
       "        vertical-align: top;\n",
       "    }\n",
       "</style>\n",
       "<table border=\"1\" class=\"dataframe\">\n",
       "  <thead>\n",
       "    <tr style=\"text-align: right;\">\n",
       "      <th></th>\n",
       "      <th>price</th>\n",
       "      <th>sqft_living</th>\n",
       "    </tr>\n",
       "  </thead>\n",
       "  <tbody>\n",
       "    <tr>\n",
       "      <th>0</th>\n",
       "      <td>221900.0</td>\n",
       "      <td>1180</td>\n",
       "    </tr>\n",
       "    <tr>\n",
       "      <th>1</th>\n",
       "      <td>538000.0</td>\n",
       "      <td>2570</td>\n",
       "    </tr>\n",
       "    <tr>\n",
       "      <th>2</th>\n",
       "      <td>180000.0</td>\n",
       "      <td>770</td>\n",
       "    </tr>\n",
       "    <tr>\n",
       "      <th>3</th>\n",
       "      <td>604000.0</td>\n",
       "      <td>1960</td>\n",
       "    </tr>\n",
       "    <tr>\n",
       "      <th>4</th>\n",
       "      <td>510000.0</td>\n",
       "      <td>1680</td>\n",
       "    </tr>\n",
       "  </tbody>\n",
       "</table>\n",
       "</div>"
      ],
      "text/plain": [
       "      price  sqft_living\n",
       "0  221900.0         1180\n",
       "1  538000.0         2570\n",
       "2  180000.0          770\n",
       "3  604000.0         1960\n",
       "4  510000.0         1680"
      ]
     },
     "execution_count": 32,
     "metadata": {},
     "output_type": "execute_result"
    }
   ],
   "source": [
    "data_few_columns = data[['price', 'sqft_living']]\n",
    "data_few_columns.head()"
   ]
  },
  {
   "cell_type": "markdown",
   "metadata": {},
   "source": [
    "## Scikit-learn\n",
    "\n",
    "Scikit learn står sentralt i kurset. Det er her vi finner alle maskinlæringsalgoritmene og andre funksjoner som er relatert til det."
   ]
  },
  {
   "cell_type": "markdown",
   "metadata": {},
   "source": [
    "### Inndeling i trening- og testsett\n",
    "Når vi driver med maskinlæring, vil vi ofte dele opp dataene våre i et treningsett og et testsett (mer om hvorfor i selve kurset). Vi gjør dette ved å trekke tilfeldige rader fra dataene. I scikit gjør vi det på følgende måte:"
   ]
  },
  {
   "cell_type": "code",
   "execution_count": 50,
   "metadata": {},
   "outputs": [
    {
     "data": {
      "text/html": [
       "<div>\n",
       "<style>\n",
       "    .dataframe thead tr:only-child th {\n",
       "        text-align: right;\n",
       "    }\n",
       "\n",
       "    .dataframe thead th {\n",
       "        text-align: left;\n",
       "    }\n",
       "\n",
       "    .dataframe tbody tr th {\n",
       "        vertical-align: top;\n",
       "    }\n",
       "</style>\n",
       "<table border=\"1\" class=\"dataframe\">\n",
       "  <thead>\n",
       "    <tr style=\"text-align: right;\">\n",
       "      <th></th>\n",
       "      <th>id</th>\n",
       "      <th>date</th>\n",
       "      <th>price</th>\n",
       "      <th>bedrooms</th>\n",
       "      <th>bathrooms</th>\n",
       "      <th>sqft_living</th>\n",
       "      <th>sqft_lot</th>\n",
       "      <th>floors</th>\n",
       "      <th>waterfront</th>\n",
       "      <th>view</th>\n",
       "      <th>...</th>\n",
       "      <th>grade</th>\n",
       "      <th>sqft_above</th>\n",
       "      <th>sqft_basement</th>\n",
       "      <th>yr_built</th>\n",
       "      <th>yr_renovated</th>\n",
       "      <th>zipcode</th>\n",
       "      <th>lat</th>\n",
       "      <th>long</th>\n",
       "      <th>sqft_living15</th>\n",
       "      <th>sqft_lot15</th>\n",
       "    </tr>\n",
       "  </thead>\n",
       "  <tbody>\n",
       "    <tr>\n",
       "      <th>19349</th>\n",
       "      <td>8691410730</td>\n",
       "      <td>20150220T000000</td>\n",
       "      <td>708000.0</td>\n",
       "      <td>4</td>\n",
       "      <td>2.50</td>\n",
       "      <td>3090</td>\n",
       "      <td>5600</td>\n",
       "      <td>2.0</td>\n",
       "      <td>0</td>\n",
       "      <td>0</td>\n",
       "      <td>...</td>\n",
       "      <td>9</td>\n",
       "      <td>3090</td>\n",
       "      <td>0</td>\n",
       "      <td>2005</td>\n",
       "      <td>0</td>\n",
       "      <td>98075</td>\n",
       "      <td>47.5970</td>\n",
       "      <td>-121.979</td>\n",
       "      <td>3080</td>\n",
       "      <td>5788</td>\n",
       "    </tr>\n",
       "    <tr>\n",
       "      <th>14436</th>\n",
       "      <td>2154900330</td>\n",
       "      <td>20140827T000000</td>\n",
       "      <td>234000.0</td>\n",
       "      <td>4</td>\n",
       "      <td>2.50</td>\n",
       "      <td>1820</td>\n",
       "      <td>8217</td>\n",
       "      <td>1.0</td>\n",
       "      <td>0</td>\n",
       "      <td>0</td>\n",
       "      <td>...</td>\n",
       "      <td>7</td>\n",
       "      <td>1120</td>\n",
       "      <td>700</td>\n",
       "      <td>1987</td>\n",
       "      <td>0</td>\n",
       "      <td>98001</td>\n",
       "      <td>47.2630</td>\n",
       "      <td>-122.242</td>\n",
       "      <td>1310</td>\n",
       "      <td>8217</td>\n",
       "    </tr>\n",
       "    <tr>\n",
       "      <th>17111</th>\n",
       "      <td>8864000425</td>\n",
       "      <td>20140805T000000</td>\n",
       "      <td>242000.0</td>\n",
       "      <td>3</td>\n",
       "      <td>1.75</td>\n",
       "      <td>1580</td>\n",
       "      <td>6099</td>\n",
       "      <td>1.0</td>\n",
       "      <td>0</td>\n",
       "      <td>0</td>\n",
       "      <td>...</td>\n",
       "      <td>7</td>\n",
       "      <td>790</td>\n",
       "      <td>790</td>\n",
       "      <td>1944</td>\n",
       "      <td>0</td>\n",
       "      <td>98168</td>\n",
       "      <td>47.4807</td>\n",
       "      <td>-122.290</td>\n",
       "      <td>1330</td>\n",
       "      <td>6099</td>\n",
       "    </tr>\n",
       "    <tr>\n",
       "      <th>9816</th>\n",
       "      <td>4139400060</td>\n",
       "      <td>20150409T000000</td>\n",
       "      <td>845000.0</td>\n",
       "      <td>4</td>\n",
       "      <td>2.50</td>\n",
       "      <td>2970</td>\n",
       "      <td>9072</td>\n",
       "      <td>2.0</td>\n",
       "      <td>0</td>\n",
       "      <td>0</td>\n",
       "      <td>...</td>\n",
       "      <td>10</td>\n",
       "      <td>2970</td>\n",
       "      <td>0</td>\n",
       "      <td>1991</td>\n",
       "      <td>0</td>\n",
       "      <td>98006</td>\n",
       "      <td>47.5620</td>\n",
       "      <td>-122.114</td>\n",
       "      <td>2740</td>\n",
       "      <td>8729</td>\n",
       "    </tr>\n",
       "    <tr>\n",
       "      <th>2988</th>\n",
       "      <td>825079019</td>\n",
       "      <td>20141203T000000</td>\n",
       "      <td>590000.0</td>\n",
       "      <td>3</td>\n",
       "      <td>2.50</td>\n",
       "      <td>3360</td>\n",
       "      <td>218235</td>\n",
       "      <td>1.0</td>\n",
       "      <td>0</td>\n",
       "      <td>0</td>\n",
       "      <td>...</td>\n",
       "      <td>8</td>\n",
       "      <td>3360</td>\n",
       "      <td>0</td>\n",
       "      <td>1989</td>\n",
       "      <td>0</td>\n",
       "      <td>98014</td>\n",
       "      <td>47.6601</td>\n",
       "      <td>-121.946</td>\n",
       "      <td>2650</td>\n",
       "      <td>220849</td>\n",
       "    </tr>\n",
       "  </tbody>\n",
       "</table>\n",
       "<p>5 rows × 21 columns</p>\n",
       "</div>"
      ],
      "text/plain": [
       "               id             date     price  bedrooms  bathrooms  \\\n",
       "19349  8691410730  20150220T000000  708000.0         4       2.50   \n",
       "14436  2154900330  20140827T000000  234000.0         4       2.50   \n",
       "17111  8864000425  20140805T000000  242000.0         3       1.75   \n",
       "9816   4139400060  20150409T000000  845000.0         4       2.50   \n",
       "2988    825079019  20141203T000000  590000.0         3       2.50   \n",
       "\n",
       "       sqft_living  sqft_lot  floors  waterfront  view     ...      grade  \\\n",
       "19349         3090      5600     2.0           0     0     ...          9   \n",
       "14436         1820      8217     1.0           0     0     ...          7   \n",
       "17111         1580      6099     1.0           0     0     ...          7   \n",
       "9816          2970      9072     2.0           0     0     ...         10   \n",
       "2988          3360    218235     1.0           0     0     ...          8   \n",
       "\n",
       "       sqft_above  sqft_basement  yr_built  yr_renovated  zipcode      lat  \\\n",
       "19349        3090              0      2005             0    98075  47.5970   \n",
       "14436        1120            700      1987             0    98001  47.2630   \n",
       "17111         790            790      1944             0    98168  47.4807   \n",
       "9816         2970              0      1991             0    98006  47.5620   \n",
       "2988         3360              0      1989             0    98014  47.6601   \n",
       "\n",
       "          long  sqft_living15  sqft_lot15  \n",
       "19349 -121.979           3080        5788  \n",
       "14436 -122.242           1310        8217  \n",
       "17111 -122.290           1330        6099  \n",
       "9816  -122.114           2740        8729  \n",
       "2988  -121.946           2650      220849  \n",
       "\n",
       "[5 rows x 21 columns]"
      ]
     },
     "execution_count": 50,
     "metadata": {},
     "output_type": "execute_result"
    }
   ],
   "source": [
    "from sklearn.model_selection import train_test_split\n",
    "\n",
    "train, test = train_test_split(data, test_size=0.2)\n",
    "train.head()"
   ]
  },
  {
   "cell_type": "markdown",
   "metadata": {
    "collapsed": true
   },
   "source": [
    "Når vi bruker scikit til å tilpasse en modell, må vi skille responsen (f.eks `price` ovenfor) fra variablene. Dette må vi gjøre for både `train` og `test` ovenfor. En bedre metode hadde vært om vi kunne delt opp i respons og variabler, og så delt de opp.\n",
    "\n",
    "`train_test_split` støtter faktisk akkurat denne taktikken. I kallet ovenor sender vi bare med `data`, men `train_test_split` kan ta imot et vilkårlig antall arrayer/DataFrames. Altså kan vi splitte på følgende måte:"
   ]
  },
  {
   "cell_type": "code",
   "execution_count": 80,
   "metadata": {},
   "outputs": [
    {
     "data": {
      "text/html": [
       "<div>\n",
       "<style>\n",
       "    .dataframe thead tr:only-child th {\n",
       "        text-align: right;\n",
       "    }\n",
       "\n",
       "    .dataframe thead th {\n",
       "        text-align: left;\n",
       "    }\n",
       "\n",
       "    .dataframe tbody tr th {\n",
       "        vertical-align: top;\n",
       "    }\n",
       "</style>\n",
       "<table border=\"1\" class=\"dataframe\">\n",
       "  <thead>\n",
       "    <tr style=\"text-align: right;\">\n",
       "      <th></th>\n",
       "      <th>sqft_living</th>\n",
       "    </tr>\n",
       "  </thead>\n",
       "  <tbody>\n",
       "    <tr>\n",
       "      <th>13776</th>\n",
       "      <td>2160</td>\n",
       "    </tr>\n",
       "    <tr>\n",
       "      <th>10223</th>\n",
       "      <td>1920</td>\n",
       "    </tr>\n",
       "    <tr>\n",
       "      <th>11722</th>\n",
       "      <td>2190</td>\n",
       "    </tr>\n",
       "    <tr>\n",
       "      <th>9757</th>\n",
       "      <td>1160</td>\n",
       "    </tr>\n",
       "    <tr>\n",
       "      <th>724</th>\n",
       "      <td>2520</td>\n",
       "    </tr>\n",
       "  </tbody>\n",
       "</table>\n",
       "</div>"
      ],
      "text/plain": [
       "       sqft_living\n",
       "13776         2160\n",
       "10223         1920\n",
       "11722         2190\n",
       "9757          1160\n",
       "724           2520"
      ]
     },
     "execution_count": 80,
     "metadata": {},
     "output_type": "execute_result"
    }
   ],
   "source": [
    "# variablene er alle kolonnene bortsett fra prisen\n",
    "# variables = data.drop(['price'], axis=1)\n",
    "\n",
    "variables = data[['sqft_living']]\n",
    "response = data[['price']]\n",
    "\n",
    "x_train, x_test, y_train, y_test = train_test_split(variables, response, test_size=0.2)\n",
    "x_train.head()"
   ]
  },
  {
   "cell_type": "code",
   "execution_count": 81,
   "metadata": {},
   "outputs": [
    {
     "data": {
      "text/html": [
       "<div>\n",
       "<style>\n",
       "    .dataframe thead tr:only-child th {\n",
       "        text-align: right;\n",
       "    }\n",
       "\n",
       "    .dataframe thead th {\n",
       "        text-align: left;\n",
       "    }\n",
       "\n",
       "    .dataframe tbody tr th {\n",
       "        vertical-align: top;\n",
       "    }\n",
       "</style>\n",
       "<table border=\"1\" class=\"dataframe\">\n",
       "  <thead>\n",
       "    <tr style=\"text-align: right;\">\n",
       "      <th></th>\n",
       "      <th>price</th>\n",
       "    </tr>\n",
       "  </thead>\n",
       "  <tbody>\n",
       "    <tr>\n",
       "      <th>13776</th>\n",
       "      <td>402500.0</td>\n",
       "    </tr>\n",
       "    <tr>\n",
       "      <th>10223</th>\n",
       "      <td>535000.0</td>\n",
       "    </tr>\n",
       "    <tr>\n",
       "      <th>11722</th>\n",
       "      <td>465000.0</td>\n",
       "    </tr>\n",
       "    <tr>\n",
       "      <th>9757</th>\n",
       "      <td>306000.0</td>\n",
       "    </tr>\n",
       "    <tr>\n",
       "      <th>724</th>\n",
       "      <td>350000.0</td>\n",
       "    </tr>\n",
       "  </tbody>\n",
       "</table>\n",
       "</div>"
      ],
      "text/plain": [
       "          price\n",
       "13776  402500.0\n",
       "10223  535000.0\n",
       "11722  465000.0\n",
       "9757   306000.0\n",
       "724    350000.0"
      ]
     },
     "execution_count": 81,
     "metadata": {},
     "output_type": "execute_result"
    }
   ],
   "source": [
    "y_train.head()"
   ]
  },
  {
   "cell_type": "markdown",
   "metadata": {},
   "source": [
    "### Tilpassning av modeller\n",
    "I scikit-learn finnes det mange forskjellige modeller. I dette kurset skal vi bare se på noen av dem.\n",
    "\n",
    "modellene må naturligvis importeres. For eksempel importerer vi lineær regresjon på følgende måte:"
   ]
  },
  {
   "cell_type": "code",
   "execution_count": 82,
   "metadata": {
    "collapsed": true
   },
   "outputs": [],
   "source": [
    "from sklearn.linear_model import LinearRegression"
   ]
  },
  {
   "cell_type": "markdown",
   "metadata": {},
   "source": [
    "Her er `sklearn` (scikit learn) pakken som alt ligger i. I denne pakken er det en modul som heter `linear_model` og inneholder klassen `LinearRegression`. Vi lager en ny lineær modell på følgende måte:"
   ]
  },
  {
   "cell_type": "code",
   "execution_count": 83,
   "metadata": {},
   "outputs": [
    {
     "data": {
      "text/plain": [
       "LinearRegression(copy_X=True, fit_intercept=True, n_jobs=1, normalize=False)"
      ]
     },
     "execution_count": 83,
     "metadata": {},
     "output_type": "execute_result"
    }
   ],
   "source": [
    "model = LinearRegression()\n",
    "model.fit(x_train, y_train)"
   ]
  },
  {
   "cell_type": "markdown",
   "metadata": {},
   "source": [
    "### Testing av modellen\n",
    "Vi har nå fått en modell vi kan bruke på ny data. Vi kan regne ut resultatet vi får på ny data med `predict`-metoden."
   ]
  },
  {
   "cell_type": "code",
   "execution_count": 89,
   "metadata": {},
   "outputs": [],
   "source": [
    "predictions = model.predict(x_test)"
   ]
  },
  {
   "cell_type": "markdown",
   "metadata": {},
   "source": [
    "Vær obs på at selv om scikit-learn kan bruke DataFrames fra pandas, så blir de behandlet som numpy-arrayer. Dette betyr at du må f.eks. må huske å fjerne responsen fra variabel-dataframen. Hvis ikke kan du risikere å ha et tilfelle der du prøver å finne boligpris ut fra boligprisen. Det samme `predict`-metoden.\n",
    "\n",
    "Vi kan så regne ut gjennomsnittlig kvadratisk feil med `mean_squared_error`"
   ]
  },
  {
   "cell_type": "code",
   "execution_count": 91,
   "metadata": {},
   "outputs": [
    {
     "data": {
      "text/plain": [
       "67423693797.671463"
      ]
     },
     "execution_count": 91,
     "metadata": {},
     "output_type": "execute_result"
    }
   ],
   "source": [
    "from sklearn.metrics import mean_squared_error\n",
    "mean_squared_error(y_test, predictions)"
   ]
  },
  {
   "cell_type": "markdown",
   "metadata": {},
   "source": [
    "### Noen flere modeller som er viktige i kurset\n",
    "```python\n",
    "from sklearn.linear_model import LogisticRegression\n",
    "from sklearn.tree import DecisionTreeClassifier, DecisionTreeRegressor\n",
    "from sklearn.neighbors import KNeighborsClassifier, KNeighborsRegressor\n",
    "```"
   ]
  }
 ],
 "metadata": {
  "kernelspec": {
   "display_name": "Python 3",
   "language": "python",
   "name": "python3"
  },
  "language_info": {
   "codemirror_mode": {
    "name": "ipython",
    "version": 3
   },
   "file_extension": ".py",
   "mimetype": "text/x-python",
   "name": "python",
   "nbconvert_exporter": "python",
   "pygments_lexer": "ipython3",
   "version": "3.5.2"
  }
 },
 "nbformat": 4,
 "nbformat_minor": 2
}
