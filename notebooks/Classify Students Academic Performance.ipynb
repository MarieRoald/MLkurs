{
 "cells": [
  {
   "cell_type": "markdown",
   "metadata": {},
   "source": [
    "# Klassifisere skoleelevers testresultater\n",
    "I denne notebooken skal vi prøve å klassifisere hvor bra testresultater skoleelever får basert på hva de gjør for å forberede seg. Studentene har tre klasser (høye resultater, middels resultater og dårlige resultater). \n",
    "Det første vi må gjøre er å lese inn data"
   ]
  },
  {
   "cell_type": "code",
   "execution_count": 24,
   "metadata": {},
   "outputs": [
    {
     "name": "stdout",
     "output_type": "stream",
     "text": [
      "  gender NationalITy PlaceofBirth     StageID GradeID SectionID Topic  \\\n",
      "0      M          KW       KuwaIT  lowerlevel    G-04         A    IT   \n",
      "1      M          KW       KuwaIT  lowerlevel    G-04         A    IT   \n",
      "2      M          KW       KuwaIT  lowerlevel    G-04         A    IT   \n",
      "3      M          KW       KuwaIT  lowerlevel    G-04         A    IT   \n",
      "4      M          KW       KuwaIT  lowerlevel    G-04         A    IT   \n",
      "\n",
      "  Semester Relation  raisedhands  VisITedResources  AnnouncementsView  \\\n",
      "0        F   Father           15                16                  2   \n",
      "1        F   Father           20                20                  3   \n",
      "2        F   Father           10                 7                  0   \n",
      "3        F   Father           30                25                  5   \n",
      "4        F   Father           40                50                 12   \n",
      "\n",
      "   Discussion ParentAnsweringSurvey ParentschoolSatisfaction  \\\n",
      "0          20                   Yes                     Good   \n",
      "1          25                   Yes                     Good   \n",
      "2          30                    No                      Bad   \n",
      "3          35                    No                      Bad   \n",
      "4          50                    No                      Bad   \n",
      "\n",
      "  StudentAbsenceDays Class  \n",
      "0            Under-7     M  \n",
      "1            Under-7     M  \n",
      "2            Above-7     L  \n",
      "3            Above-7     L  \n",
      "4            Above-7     M  \n"
     ]
    }
   ],
   "source": [
    "import pandas as pd\n",
    "data = pd.read_csv('../datasets/students-academic-performance-dataset/xAPI-Edu-Data.csv')\n",
    "print(data.head())"
   ]
  },
  {
   "cell_type": "code",
   "execution_count": 25,
   "metadata": {},
   "outputs": [
    {
     "name": "stdout",
     "output_type": "stream",
     "text": [
      "Object `det` not found.\n"
     ]
    }
   ],
   "source": [
    "Konkurranse kanskje? Vi kan lage vårt eget testsett og se hvem som får best resultat på det?\n"
   ]
  },
  {
   "cell_type": "code",
   "execution_count": null,
   "metadata": {
    "collapsed": true
   },
   "outputs": [],
   "source": [
    "Konkurranse kanskje? Vi kan lage vårt eget testsett og se hvem som får best resultat på det"
   ]
  },
  {
   "cell_type": "code",
   "execution_count": 26,
   "metadata": {},
   "outputs": [
    {
     "name": "stdout",
     "output_type": "stream",
     "text": [
      "  StudentAbsenceDays  VisITedResources  raisedhands  AnnouncementsView  \\\n",
      "0            Under-7                16           15                  2   \n",
      "1            Under-7                20           20                  3   \n",
      "2            Above-7                 7           10                  0   \n",
      "3            Above-7                25           30                  5   \n",
      "4            Above-7                50           40                 12   \n",
      "\n",
      "  ParentschoolSatisfaction  Discussion ParentAnsweringSurvey Class  \n",
      "0                     Good          20                   Yes     M  \n",
      "1                     Good          25                   Yes     M  \n",
      "2                      Bad          30                    No     L  \n",
      "3                      Bad          35                    No     L  \n",
      "4                      Bad          50                    No     M  \n"
     ]
    }
   ],
   "source": [
    "data_use = data[['StudentAbsenceDays','VisITedResources','raisedhands',\n",
    "                 'AnnouncementsView','ParentschoolSatisfaction','Discussion',\n",
    "                 'ParentAnsweringSurvey','Class']]\n",
    "print(data_use.head())"
   ]
  },
  {
   "cell_type": "code",
   "execution_count": 29,
   "metadata": {},
   "outputs": [
    {
     "name": "stdout",
     "output_type": "stream",
     "text": [
      "0      M\n",
      "1      M\n",
      "2      L\n",
      "3      L\n",
      "4      M\n",
      "5      M\n",
      "6      L\n",
      "7      M\n",
      "8      M\n",
      "9      M\n",
      "10     H\n",
      "11     M\n",
      "12     L\n",
      "13     L\n",
      "14     H\n",
      "15     M\n",
      "16     M\n",
      "17     M\n",
      "18     M\n",
      "19     H\n",
      "20     M\n",
      "21     M\n",
      "22     M\n",
      "23     L\n",
      "24     L\n",
      "25     L\n",
      "26     M\n",
      "27     L\n",
      "28     M\n",
      "29     M\n",
      "      ..\n",
      "450    H\n",
      "451    H\n",
      "452    M\n",
      "453    M\n",
      "454    M\n",
      "455    M\n",
      "456    H\n",
      "457    H\n",
      "458    H\n",
      "459    H\n",
      "460    M\n",
      "461    M\n",
      "462    M\n",
      "463    M\n",
      "464    H\n",
      "465    H\n",
      "466    H\n",
      "467    H\n",
      "468    L\n",
      "469    L\n",
      "470    M\n",
      "471    M\n",
      "472    M\n",
      "473    M\n",
      "474    L\n",
      "475    L\n",
      "476    M\n",
      "477    M\n",
      "478    L\n",
      "479    L\n",
      "Name: Class, Length: 480, dtype: object\n",
      "0      1\n",
      "1      1\n",
      "2      0\n",
      "3      0\n",
      "4      1\n",
      "5      1\n",
      "6      0\n",
      "7      1\n",
      "8      1\n",
      "9      1\n",
      "10     2\n",
      "11     1\n",
      "12     0\n",
      "13     0\n",
      "14     2\n",
      "15     1\n",
      "16     1\n",
      "17     1\n",
      "18     1\n",
      "19     2\n",
      "20     1\n",
      "21     1\n",
      "22     1\n",
      "23     0\n",
      "24     0\n",
      "25     0\n",
      "26     1\n",
      "27     0\n",
      "28     1\n",
      "29     1\n",
      "      ..\n",
      "450    2\n",
      "451    2\n",
      "452    1\n",
      "453    1\n",
      "454    1\n",
      "455    1\n",
      "456    2\n",
      "457    2\n",
      "458    2\n",
      "459    2\n",
      "460    1\n",
      "461    1\n",
      "462    1\n",
      "463    1\n",
      "464    2\n",
      "465    2\n",
      "466    2\n",
      "467    2\n",
      "468    0\n",
      "469    0\n",
      "470    1\n",
      "471    1\n",
      "472    1\n",
      "473    1\n",
      "474    0\n",
      "475    0\n",
      "476    1\n",
      "477    1\n",
      "478    0\n",
      "479    0\n",
      "Name: Class, Length: 480, dtype: int64\n"
     ]
    }
   ],
   "source": [
    "# Mapper klassene til numeriske verdier\n",
    "Class_map = {'H':2,\n",
    "             'M':1,\n",
    "             'L':0}\n",
    "target = data_use['Class']\n",
    "print(target)\n",
    "target = target.map(Class_map)\n",
    "print(target)\n",
    "#data_use['Class'] = target.values"
   ]
  },
  {
   "cell_type": "code",
   "execution_count": null,
   "metadata": {
    "collapsed": true
   },
   "outputs": [],
   "source": []
  },
  {
   "cell_type": "code",
   "execution_count": null,
   "metadata": {
    "collapsed": true
   },
   "outputs": [],
   "source": []
  }
 ],
 "metadata": {
  "kernelspec": {
   "display_name": "Python 3",
   "language": "python",
   "name": "python3"
  },
  "language_info": {
   "codemirror_mode": {
    "name": "ipython",
    "version": 3
   },
   "file_extension": ".py",
   "mimetype": "text/x-python",
   "name": "python",
   "nbconvert_exporter": "python",
   "pygments_lexer": "ipython3",
   "version": "3.6.1"
  }
 },
 "nbformat": 4,
 "nbformat_minor": 2
}
