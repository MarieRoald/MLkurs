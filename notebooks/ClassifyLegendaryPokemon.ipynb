{
 "cells": [
  {
   "cell_type": "code",
   "execution_count": 1,
   "metadata": {
    "collapsed": true
   },
   "outputs": [],
   "source": [
    "from sklearn.datasets import load_iris\n",
    "from sklearn import tree\n",
    "import numpy as np\n",
    "import pandas as pd\n",
    "\n",
    "from sklearn.svm import SVC, LinearSVC\n",
    "from sklearn.neighbors import KNeighborsClassifier\n",
    "from sklearn.metrics import confusion_matrix\n",
    "import matplotlib.pyplot as plt\n",
    "\n",
    "%matplotlib notebook\n",
    "\n",
    "plt.rcParams['figure.figsize'] = (12, 6)"
   ]
  },
  {
   "cell_type": "markdown",
   "metadata": {},
   "source": [
    "## La oss laste inn og ta en titt på datasettet"
   ]
  },
  {
   "cell_type": "code",
   "execution_count": 2,
   "metadata": {},
   "outputs": [
    {
     "ename": "SyntaxError",
     "evalue": "invalid syntax (<ipython-input-2-26ce2580b91e>, line 2)",
     "output_type": "error",
     "traceback": [
      "\u001b[1;36m  File \u001b[1;32m\"<ipython-input-2-26ce2580b91e>\"\u001b[1;36m, line \u001b[1;32m2\u001b[0m\n\u001b[1;33m    print data.head(2).T\u001b[0m\n\u001b[1;37m             ^\u001b[0m\n\u001b[1;31mSyntaxError\u001b[0m\u001b[1;31m:\u001b[0m invalid syntax\n"
     ]
    }
   ],
   "source": [
    "data = pd.read_csv(\"../datasets/pokemon/pokemon_alopez247.csv\")\n",
    "print data.head(2).T"
   ]
  },
  {
   "cell_type": "markdown",
   "metadata": {},
   "source": [
    "Vi gjetter at egenskapene 'Sp_Atk','Attack' og \"hasGender\" har mye og si for om en pokemon er legendarisk eller ikke\n",
    "TODO: skal vi ta med catch rate?"
   ]
  },
  {
   "cell_type": "code",
   "execution_count": null,
   "metadata": {
    "collapsed": true
   },
   "outputs": [],
   "source": [
    "#data_use = data.ix[:,['Sp_Atk','Sp_Def','Attack','Defense',\"hasGender\"]]\n",
    "#data_use = data[['Sp_Atk','Attack',\"hasGender\"]] \n",
    "data_use = data[['Sp_Atk','Attack']] \n",
    "labels   = data.ix[:,['isLegendary']]\n",
    "names = data.ix[:,['Name']]"
   ]
  },
  {
   "cell_type": "markdown",
   "metadata": {},
   "source": [
    "Scattermatrise for å se på egenskapene parvis"
   ]
  },
  {
   "cell_type": "code",
   "execution_count": null,
   "metadata": {},
   "outputs": [],
   "source": [
    "pd.scatter_matrix(data_use,c=labels)\n",
    "plt.show()"
   ]
  },
  {
   "cell_type": "markdown",
   "metadata": {},
   "source": [
    "Siden vi har valgt ut tre egenskaper kan vi plotte dem i et tredimensjonalt scatterplot"
   ]
  },
  {
   "cell_type": "code",
   "execution_count": null,
   "metadata": {},
   "outputs": [],
   "source": [
    "X = data_use.values\n",
    "y = labels.values\n",
    "\n",
    "\n",
    "from mpl_toolkits.mplot3d import Axes3D\n",
    "fig = plt.figure()\n",
    "ax1 = fig.add_subplot(111, projection='3d')\n",
    "\n",
    "ax1.scatter(X[:,0],X[:,1],X[:,2],c=y)\n",
    "plt.show()"
   ]
  },
  {
   "cell_type": "markdown",
   "metadata": {},
   "source": [
    "Allerede nå ser vi at de fleste legendariske pokemon har ikke kjønn, så det blir nok en viktig egenskap for beslutningstreet"
   ]
  },
  {
   "cell_type": "markdown",
   "metadata": {},
   "source": [
    "## Splitte opp dataene i treningsett og testsett"
   ]
  },
  {
   "cell_type": "code",
   "execution_count": null,
   "metadata": {
    "collapsed": true
   },
   "outputs": [],
   "source": [
    "from sklearn.model_selection import train_test_split\n",
    "\n",
    "X = data_use.values\n",
    "y = labels.values.ravel()\n",
    "train_data, test_data,train_target,  test_target = train_test_split(X,y, test_size=0.50, random_state=42)"
   ]
  },
  {
   "cell_type": "markdown",
   "metadata": {},
   "source": [
    "## Trene og teste klassifisatoren"
   ]
  },
  {
   "cell_type": "code",
   "execution_count": null,
   "metadata": {},
   "outputs": [],
   "source": [
    "clf = tree.DecisionTreeClassifier(min_samples_leaf=10)\n",
    "clf.fit(train_data,train_target)\n",
    "\n",
    "predictions = clf.predict(test_data)\n",
    "print \"Accuracy score: %f\" %(predictions==test_target).mean()\n",
    "\n",
    "print confusion_matrix(test_target,predictions)\n",
    "\n",
    "print clf.feature_importances_\n",
    "indices = np.argsort(clf.feature_importances_)[::-1]\n",
    "\n",
    "for f in range(len(indices)):\n",
    "    print('%d. egenskap: %d - %s (%f)' % (f+1 , \n",
    "                                      indices[f], \n",
    "                                      data_use.columns[indices[f]], \n",
    "                                      clf.feature_importances_[indices[f]]))"
   ]
  },
  {
   "cell_type": "markdown",
   "metadata": {},
   "source": [
    "## Hvilke pokemon blir feilklassifisert?"
   ]
  },
  {
   "cell_type": "code",
   "execution_count": null,
   "metadata": {
    "collapsed": true
   },
   "outputs": [],
   "source": [
    "predictions = clf.predict(data_use)\n",
    "idxs = np.arange(len(predictions))\n",
    "\n",
    "true_labels = labels.values.ravel()\n",
    "feil_klasse_idx = idxs[predictions!=true_labels]\n",
    "\n",
    "feil_klasse_0_idx = feil_klasse_idx[true_labels[feil_klasse_idx]==0]\n",
    "feil_klasse_1_idx = feil_klasse_idx[true_labels[feil_klasse_idx]==1]\n",
    "\n",
    "\n",
    "\n",
    "print \"Ikke legendariske pokemon klassifisert som legendariske\"  \n",
    "\n",
    "for i,fi in enumerate(feil_klasse_0_idx):\n",
    "    print data.ix[fi]['Name'],\"( nummer:\", data.ix[fi]['Number'], \"generasjon:\",data.ix[fi]['Generation'],\")\"\n",
    "    \n",
    "print \"---\"\n",
    "print \"Legendariske pokemon klassifisert som ikke legendariske\"       \n",
    "for i,fi in enumerate(feil_klasse_1_idx):\n",
    "    print data.ix[fi]['Name'],\"( nummer:\", data.ix[fi]['Number'], \"generasjon:\",data.ix[fi]['Generation'],\")\"\n"
   ]
  },
  {
   "cell_type": "markdown",
   "metadata": {},
   "source": [
    "## Andre klassifiseringsalgoritmer"
   ]
  },
  {
   "cell_type": "code",
   "execution_count": null,
   "metadata": {
    "collapsed": true
   },
   "outputs": [],
   "source": [
    "clf = SVC()\n",
    "clf.fit(train_data,train_target)\n",
    "\n",
    "predictions = clf.predict(test_data)\n",
    "print \"Accuracy score: %f\" %(predictions==test_target).mean()\n",
    "\n",
    "confusion_matrix(test_target,predictions)"
   ]
  },
  {
   "cell_type": "code",
   "execution_count": null,
   "metadata": {
    "collapsed": true
   },
   "outputs": [],
   "source": [
    "clf = KNeighborsClassifier()\n",
    "clf.fit(train_data,train_target)\n",
    "\n",
    "predictions = clf.predict(test_data)\n",
    "print \"Accuracy score: %f\" %(predictions==test_target).mean()\n",
    "\n",
    "confusion_matrix(test_target,predictions)"
   ]
  },
  {
   "cell_type": "code",
   "execution_count": null,
   "metadata": {
    "collapsed": true
   },
   "outputs": [],
   "source": []
  }
 ],
 "metadata": {
  "kernelspec": {
   "display_name": "Python 3",
   "language": "python",
   "name": "python3"
  },
  "language_info": {
   "codemirror_mode": {
    "name": "ipython",
    "version": 3
   },
   "file_extension": ".py",
   "mimetype": "text/x-python",
   "name": "python",
   "nbconvert_exporter": "python",
   "pygments_lexer": "ipython3",
   "version": "3.6.1"
  }
 },
 "nbformat": 4,
 "nbformat_minor": 1
}
