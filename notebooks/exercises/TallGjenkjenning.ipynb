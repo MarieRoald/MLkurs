{
 "cells": [
  {
   "cell_type": "markdown",
   "metadata": {},
   "source": [
    "# Oppgave: Gjennkjenning av håndskrevne tall\n",
    "Vi har et bildesett av ca 60000 håndskrevne tall. Vi vil bruke disse til å kjenne igjen andre andre håndskrevne tall.\n",
    "Alle bildene er 28x28 piksler.\n",
    "\n",
    "## Litt om bilder på datamaskin\n",
    "Bildene i denne oppgaven representeres som en tabell av heltall mellom 0 og 255, der 0 er hvit og 255 er svart. Verdiene 1-254 er forskjellige gråtoner.\n",
    "\n",
    "Hver av de 28x28 (784) pikslene skal vi bruke som forklaringsvariable."
   ]
  },
  {
   "cell_type": "code",
   "execution_count": null,
   "metadata": {
    "collapsed": true
   },
   "outputs": [],
   "source": [
    "import pandas as pd\n",
    "import numpy as np\n",
    "import matplotlib.pyplot as plt\n",
    "import seaborn\n",
    "\n",
    "\n",
    "from sklearn import tree\n",
    "#from sklearn.svm import SVC, LinearSVC\n",
    "from sklearn.neighbors import KNeighborsClassifier\n",
    "from sklearn.model_selection import train_test_split\n",
    "\n",
    "import itertools\n",
    "\n",
    "from scipy.ndimage import imread\n",
    "# from matplotlib.image import imread\n",
    "\n",
    "# Add parent directory to path\n",
    "import sys\n",
    "import os\n",
    "sys.path.append(os.path.split(os.path.abspath(os.getcwd()))[0])\n",
    "\n",
    "from useful_tools import ModelTester\n",
    "\n",
    "seaborn.set_style(\"whitegrid\", {'axes.grid' : False})"
   ]
  },
  {
   "cell_type": "markdown",
   "metadata": {},
   "source": [
    "## Laste inn data\n",
    "Vi leser inn dataene. Lag en dataframe med features (pikslene i bildet) og en med labels (tallet det er bilde av)\n",
    "\n",
    "**OBS:** Det er veldig viktig at du kaller features-variabelen for `features` og tilsvarende for `labels`, for at neste celle skal fungere."
   ]
  },
  {
   "cell_type": "code",
   "execution_count": null,
   "metadata": {},
   "outputs": [],
   "source": [
    "data = pd.read_csv(\"../../datasets/mnist/mnist_train.csv\", header=-1)\n",
    "\n",
    "data.columns = ['label'] + list(data.columns)[1:]\n",
    "\n",
    "features = data.drop(['label'], axis=1)\n",
    "labels = data[['label']]\n",
    "\n",
    "# Din kode start\n",
    "\n",
    "# Din kode slutt"
   ]
  },
  {
   "cell_type": "markdown",
   "metadata": {},
   "source": [
    "For å sjekke at alt er i orden kan vi vise frem det første bildet, og printe pikselverdiene."
   ]
  },
  {
   "cell_type": "code",
   "execution_count": null,
   "metadata": {},
   "outputs": [],
   "source": [
    "first_image = np.reshape(features.values[0],(28,28))\n",
    "plt.imshow(first_image)\n",
    "plt.title('Label: {}'.format(labels.values[0][0]))\n",
    "plt.show()"
   ]
  },
  {
   "cell_type": "code",
   "execution_count": null,
   "metadata": {
    "scrolled": true
   },
   "outputs": [],
   "source": [
    "print(first_image)"
   ]
  },
  {
   "cell_type": "markdown",
   "metadata": {},
   "source": [
    "## Del opp i trening- og testdata\n",
    "Prediksjon med KNN tar lang tid hvis man har mye data. Dette skyldes at avstandene til punktene i treningssetrtet må regnes ut for alle nye punkter. Derfor velger vi å holde oss til de første 10000 bildene i datasettet.\n",
    "\n",
    "Du kan hente ut de første 10000 elementene ved å si `features[:10000]` og `labels[:10000]`.\n",
    "\n",
    "Det er også lurt å lage en `ModelTester` med treningsdataene."
   ]
  },
  {
   "cell_type": "code",
   "execution_count": null,
   "metadata": {
    "collapsed": true
   },
   "outputs": [],
   "source": [
    "# Din kode start\n",
    "\n",
    "# Din kode slutt"
   ]
  },
  {
   "cell_type": "markdown",
   "metadata": {},
   "source": [
    "## Tren en K nærmeste nabo-klassifikator\n",
    "\n",
    "Lag en `KNeighborsClassifier`, og tilpass den til treningsdataene"
   ]
  },
  {
   "cell_type": "code",
   "execution_count": null,
   "metadata": {},
   "outputs": [],
   "source": [
    "# Din kode start\n",
    "# Din kode slutt"
   ]
  },
  {
   "cell_type": "markdown",
   "metadata": {},
   "source": [
    "### Avstand mellom bilder\n",
    "Når vi snakker om avstanden mellom to bilder (bilde A og bilde B), regner vi ut avstanden ved å ta hver av pikslene i A bildet og trekke fra verdien i de korresponderende pikslene til B. Deretter opphøyer vi alle disse forskjellene i 2. På denne måten vil alle forskjellene bli positive. Deretter summerer vi dem, og tar kvadratroten."
   ]
  },
  {
   "cell_type": "markdown",
   "metadata": {},
   "source": [
    "## Hva ble nøyaktigheten?\n",
    "\n",
    "Bruk modellen og prediker på testdata. Bruk `ModelTester` til å plotte forvirringsmatrisen.\n",
    "\n",
    "**OBS:** Kall predikatene for `predictions`"
   ]
  },
  {
   "cell_type": "code",
   "execution_count": null,
   "metadata": {},
   "outputs": [],
   "source": [
    "# Din kode start\n",
    "\n",
    "# Din kode slutt"
   ]
  },
  {
   "cell_type": "markdown",
   "metadata": {},
   "source": [
    "Muligheten er stor for at du fikk høy nøyaktighet, men det er selvsagt noen bilder som ble klassifisert feil. For å få en bedre innsikt i klassifikatoren, kan vi vise frem de bildene som ble feilklassifiserte. Vi ser på noen av dem."
   ]
  },
  {
   "cell_type": "code",
   "execution_count": null,
   "metadata": {
    "scrolled": false
   },
   "outputs": [],
   "source": [
    "wrong_class = predictions!=test_target[['label']].values.ravel()\n",
    "wrong_images = test_data[wrong_class]\n",
    "\n",
    "for i, row in enumerate(itertools.islice(wrong_images.iterrows(), 10)):\n",
    "    id_num, im_row = row\n",
    "    im = im_row.values.reshape(28, 28)\n",
    "    plt.imshow(im)\n",
    "    plt.title('Actual: %d. Predicted %d' % (test_target.loc[id_num], predictions[wrong_class][i]))\n",
    "    plt.show()    "
   ]
  },
  {
   "cell_type": "markdown",
   "metadata": {
    "collapsed": true
   },
   "source": [
    "**Oppgave 1:** Ta for deg noen av de feilklassifiserte bildene ovenfor, og forklar hvorfor du tror KNN har endt opp med det resultatet."
   ]
  },
  {
   "cell_type": "markdown",
   "metadata": {},
   "source": [
    "**Oppgave 2:** Alle bildene i MNIST-datasettet preprosessert slik at selve tallet er plassert inne i en 20x20 piksler stor boks i det 28x28 piksler store bildet. I tillegg er sifferet sentrert i bildet. Forklar hvorfor dette er lurt å gjøre. Særlig med tanke på klassifikasjon med KNN."
   ]
  },
  {
   "cell_type": "markdown",
   "metadata": {},
   "source": [
    "**Oppgave 3:** Lag noen egne bilder i f.eks. Microsoft Paint eller GIMP. Ta diskusjonen i forrige oppgave i betraktning når du tegner. Prøv ut forskjellige plasseringer og rotasjoner av sifrene, og kanskje også tykkelsen på streken. **OBS:  Husk at bildet må være 28x28**\n",
    "\n",
    "Hvilke tall er enkle å klassfisere rett? Hvilke er vanskelige? Hvorfor?\n",
    "\n",
    "For å lese inn bildene dine i denne oppgaven kan du bruke funksjonen `read_image`, som er definert nedenfor. Den tar inn filnavnet, leser bildet inn som gråtoner og returnerer en 1 x `antall piksler`-array der hvert element korresponderer til en piksel i bildet. Dette gjøres for at vi skal kunne sende bildet til `predict`-metoden i modellen. Dersom bildet ikke er 28x28 piksler, vil funksjonen printe en advarsel.\n",
    "\n",
    "Dersom du vil vise bildet må du derfor bruke `reshape`-metoden. For eksempel kan du gjøre slik:\n",
    "```python\n",
    "im = read_image('../bilde.png')\n",
    "plt.imshow(im.reshape(28, 28))\n",
    "plt.show()\n",
    "```"
   ]
  },
  {
   "cell_type": "code",
   "execution_count": null,
   "metadata": {
    "collapsed": true
   },
   "outputs": [],
   "source": [
    "def read_image(filename):\n",
    "    im = 255-imread(filename, flatten=True)\n",
    "    if im.shape != (28, 28):\n",
    "        print('Advarsel: {} er ikke 28 x 28 piksler!'.format(filename))\n",
    "    return im.reshape(1, -1)"
   ]
  },
  {
   "cell_type": "code",
   "execution_count": null,
   "metadata": {
    "collapsed": true
   },
   "outputs": [],
   "source": [
    "# Din kode start\n",
    "# Din kode slutt"
   ]
  }
 ],
 "metadata": {
  "kernelspec": {
   "display_name": "Python 3",
   "language": "python",
   "name": "python3"
  },
  "language_info": {
   "codemirror_mode": {
    "name": "ipython",
    "version": 3
   },
   "file_extension": ".py",
   "mimetype": "text/x-python",
   "name": "python",
   "nbconvert_exporter": "python",
   "pygments_lexer": "ipython3",
   "version": "3.5.2"
  }
 },
 "nbformat": 4,
 "nbformat_minor": 1
}
