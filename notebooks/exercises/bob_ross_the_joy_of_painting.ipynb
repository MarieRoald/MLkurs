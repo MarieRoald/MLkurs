{
 "cells": [
  {
   "cell_type": "markdown",
   "metadata": {},
   "source": [
    "# Bob Ross - The Joy of Painting\n",
    "Bob Ross (1942-1995) var programvert for *The Joy of Painting* på TV-kanalen PBS fra 1983 til 1994. Det ble totalt malt 403 malerier. Av disse ble 381 malt av Ross selv, og resten av gjester på programmet. Motivene er ofte naturlandskap.\n",
    "\n",
    "I datasettet `elements-by-episode.csv` finnes en oversikt over alle maleriene, med episode, tittel og 67 kategoriske variable som enten forteller oss noe om motivet (TREE, MOUNTAIN osv), rammen på bildet (APPLE_FRAME, CIRCLE_FRAME, osv) eller om bildet ble malt av noen andre enn Bob Ross (STEVE_ROSS, GUEST, osv).\n",
    "\n",
    "Vi vil prøve å bruke clustering på dette datasettet for å se om det er mulig å gruppere bildene i kategorier ut ifra hvilke motiver de inneholder."
   ]
  },
  {
   "cell_type": "code",
   "execution_count": 66,
   "metadata": {
    "collapsed": true
   },
   "outputs": [],
   "source": [
    "import pandas as pd\n",
    "from sklearn.cluster import KMeans\n",
    "\n",
    "from collections import Counter\n",
    "\n",
    "import numpy as np\n",
    "import matplotlib.pyplot as plt\n",
    "import seaborn as sns"
   ]
  },
  {
   "cell_type": "markdown",
   "metadata": {},
   "source": [
    "Vi må rydde litt i datasettet. Vi fjerner først alt som har med gjester og rammer å gjøre. Det er først og fremst maleriene til Ross vi er interesserte i å se på. Siden 'EPISODE' og 'TITLE' ikke direkte sier oss noe om motivet, fjerner vi også disse."
   ]
  },
  {
   "cell_type": "code",
   "execution_count": 61,
   "metadata": {},
   "outputs": [
    {
     "data": {
      "text/html": [
       "<div>\n",
       "<style>\n",
       "    .dataframe thead tr:only-child th {\n",
       "        text-align: right;\n",
       "    }\n",
       "\n",
       "    .dataframe thead th {\n",
       "        text-align: left;\n",
       "    }\n",
       "\n",
       "    .dataframe tbody tr th {\n",
       "        vertical-align: top;\n",
       "    }\n",
       "</style>\n",
       "<table border=\"1\" class=\"dataframe\">\n",
       "  <thead>\n",
       "    <tr style=\"text-align: right;\">\n",
       "      <th></th>\n",
       "      <th>AURORA_BOREALIS</th>\n",
       "      <th>BARN</th>\n",
       "      <th>BEACH</th>\n",
       "      <th>BOAT</th>\n",
       "      <th>BRIDGE</th>\n",
       "      <th>BUILDING</th>\n",
       "      <th>BUSHES</th>\n",
       "      <th>CABIN</th>\n",
       "      <th>CACTUS</th>\n",
       "      <th>CIRRUS</th>\n",
       "      <th>...</th>\n",
       "      <th>PERSON</th>\n",
       "      <th>RIVER</th>\n",
       "      <th>ROCKS</th>\n",
       "      <th>SNOW</th>\n",
       "      <th>STRUCTURE</th>\n",
       "      <th>SUN</th>\n",
       "      <th>WATERFALL</th>\n",
       "      <th>WAVES</th>\n",
       "      <th>WINDMILL</th>\n",
       "      <th>WINTER</th>\n",
       "    </tr>\n",
       "  </thead>\n",
       "  <tbody>\n",
       "    <tr>\n",
       "      <th>0</th>\n",
       "      <td>0</td>\n",
       "      <td>0</td>\n",
       "      <td>0</td>\n",
       "      <td>0</td>\n",
       "      <td>0</td>\n",
       "      <td>0</td>\n",
       "      <td>1</td>\n",
       "      <td>0</td>\n",
       "      <td>0</td>\n",
       "      <td>0</td>\n",
       "      <td>...</td>\n",
       "      <td>0</td>\n",
       "      <td>1</td>\n",
       "      <td>0</td>\n",
       "      <td>0</td>\n",
       "      <td>0</td>\n",
       "      <td>0</td>\n",
       "      <td>0</td>\n",
       "      <td>0</td>\n",
       "      <td>0</td>\n",
       "      <td>0</td>\n",
       "    </tr>\n",
       "    <tr>\n",
       "      <th>1</th>\n",
       "      <td>0</td>\n",
       "      <td>0</td>\n",
       "      <td>0</td>\n",
       "      <td>0</td>\n",
       "      <td>0</td>\n",
       "      <td>0</td>\n",
       "      <td>0</td>\n",
       "      <td>1</td>\n",
       "      <td>0</td>\n",
       "      <td>0</td>\n",
       "      <td>...</td>\n",
       "      <td>0</td>\n",
       "      <td>0</td>\n",
       "      <td>0</td>\n",
       "      <td>1</td>\n",
       "      <td>0</td>\n",
       "      <td>0</td>\n",
       "      <td>0</td>\n",
       "      <td>0</td>\n",
       "      <td>0</td>\n",
       "      <td>1</td>\n",
       "    </tr>\n",
       "    <tr>\n",
       "      <th>2</th>\n",
       "      <td>0</td>\n",
       "      <td>0</td>\n",
       "      <td>0</td>\n",
       "      <td>0</td>\n",
       "      <td>0</td>\n",
       "      <td>0</td>\n",
       "      <td>0</td>\n",
       "      <td>1</td>\n",
       "      <td>0</td>\n",
       "      <td>0</td>\n",
       "      <td>...</td>\n",
       "      <td>0</td>\n",
       "      <td>0</td>\n",
       "      <td>0</td>\n",
       "      <td>0</td>\n",
       "      <td>1</td>\n",
       "      <td>1</td>\n",
       "      <td>0</td>\n",
       "      <td>0</td>\n",
       "      <td>0</td>\n",
       "      <td>1</td>\n",
       "    </tr>\n",
       "    <tr>\n",
       "      <th>3</th>\n",
       "      <td>0</td>\n",
       "      <td>0</td>\n",
       "      <td>0</td>\n",
       "      <td>0</td>\n",
       "      <td>0</td>\n",
       "      <td>0</td>\n",
       "      <td>1</td>\n",
       "      <td>0</td>\n",
       "      <td>0</td>\n",
       "      <td>0</td>\n",
       "      <td>...</td>\n",
       "      <td>0</td>\n",
       "      <td>0</td>\n",
       "      <td>0</td>\n",
       "      <td>0</td>\n",
       "      <td>0</td>\n",
       "      <td>0</td>\n",
       "      <td>0</td>\n",
       "      <td>0</td>\n",
       "      <td>0</td>\n",
       "      <td>0</td>\n",
       "    </tr>\n",
       "    <tr>\n",
       "      <th>4</th>\n",
       "      <td>0</td>\n",
       "      <td>0</td>\n",
       "      <td>0</td>\n",
       "      <td>0</td>\n",
       "      <td>0</td>\n",
       "      <td>0</td>\n",
       "      <td>0</td>\n",
       "      <td>0</td>\n",
       "      <td>0</td>\n",
       "      <td>0</td>\n",
       "      <td>...</td>\n",
       "      <td>0</td>\n",
       "      <td>1</td>\n",
       "      <td>1</td>\n",
       "      <td>0</td>\n",
       "      <td>0</td>\n",
       "      <td>0</td>\n",
       "      <td>0</td>\n",
       "      <td>0</td>\n",
       "      <td>0</td>\n",
       "      <td>0</td>\n",
       "    </tr>\n",
       "  </tbody>\n",
       "</table>\n",
       "<p>5 rows × 38 columns</p>\n",
       "</div>"
      ],
      "text/plain": [
       "   AURORA_BOREALIS  BARN  BEACH  BOAT  BRIDGE  BUILDING  BUSHES  CABIN  \\\n",
       "0                0     0      0     0       0         0       1      0   \n",
       "1                0     0      0     0       0         0       0      1   \n",
       "2                0     0      0     0       0         0       0      1   \n",
       "3                0     0      0     0       0         0       1      0   \n",
       "4                0     0      0     0       0         0       0      0   \n",
       "\n",
       "   CACTUS  CIRRUS   ...    PERSON  RIVER  ROCKS  SNOW  STRUCTURE  SUN  \\\n",
       "0       0       0   ...         0      1      0     0          0    0   \n",
       "1       0       0   ...         0      0      0     1          0    0   \n",
       "2       0       0   ...         0      0      0     0          1    1   \n",
       "3       0       0   ...         0      0      0     0          0    0   \n",
       "4       0       0   ...         0      1      1     0          0    0   \n",
       "\n",
       "   WATERFALL  WAVES  WINDMILL  WINTER  \n",
       "0          0      0         0       0  \n",
       "1          0      0         0       1  \n",
       "2          0      0         0       1  \n",
       "3          0      0         0       0  \n",
       "4          0      0         0       0  \n",
       "\n",
       "[5 rows x 38 columns]"
      ]
     },
     "execution_count": 61,
     "metadata": {},
     "output_type": "execute_result"
    }
   ],
   "source": [
    "with open('../../datasets/data/bob-ross/elements-by-episode.csv') as infile:\n",
    "    data = pd.read_csv(infile)\n",
    "    \n",
    "# Fjerner gjester\n",
    "data = data[data['GUEST'] == 0]\n",
    "to_drop = ['GUEST', 'STEVE_ROSS', 'DIANE_ANDRE', 'PORTRAIT']\n",
    "for colname in data.columns.values:\n",
    "    if 'FRAME' in colname:\n",
    "        to_drop.append(colname)\n",
    "data.drop(to_drop, axis=1, inplace=True)\n",
    "\n",
    "common_columns = ['TREE', 'TREES', 'GRASS', 'DECIDUOUS', 'CONIFER', 'CLOUDS', 'MOUNTAIN', 'MOUNTAINS', 'SNOWY_MOUNTAIN']\n",
    "# common_columns = []\n",
    "\n",
    "# Fjerner Episode og tittel, siden disse ikke har noe med selve motivet å gjøre.\n",
    "data.drop(['EPISODE', 'TITLE'] + common_columns, axis=1, inplace=True)\n",
    "# print(data.sum())\n",
    "data.head()\n"
   ]
  },
  {
   "cell_type": "markdown",
   "metadata": {},
   "source": [
    "Det er noen motiver som forekommer sjeldent. Disse vil vi fjerne, siden to bilder kan være ganske like selv om det ene inneholder noe som kanskje er unikt for akkurat det maleriet. Vi setter grensen på fem. Det vil si at dersom et motiv finnes på færre enn fem av bildene, ser vi bort fra det. Siden vi ønsker å finne trekk ved maleriene som er felles for grupper av malerier, gir det også mening å kun se på ting som forekommer ofte."
   ]
  },
  {
   "cell_type": "code",
   "execution_count": 62,
   "metadata": {},
   "outputs": [
    {
     "name": "stdout",
     "output_type": "stream",
     "text": [
      "Dropping AURORA_BOREALIS\n",
      "Dropping BOAT\n",
      "Dropping BUILDING\n",
      "Dropping CACTUS\n",
      "Dropping DOCK\n",
      "Dropping FARM\n",
      "Dropping FIRE\n",
      "Dropping LAKES\n",
      "Dropping LIGHTHOUSE\n",
      "Dropping MILL\n",
      "Dropping MOON\n",
      "Dropping PERSON\n",
      "Dropping WINDMILL\n",
      "Number of columns before dropping:  38\n",
      "Number of columns after dropping:  25\n"
     ]
    }
   ],
   "source": [
    "cutoff = 5\n",
    "uncommon_columns = []\n",
    "for name in data.columns.values:\n",
    "    if data[name].sum() < cutoff:\n",
    "        print('Dropping', name)\n",
    "        uncommon_columns.append(name)\n",
    "\n",
    "print('Number of columns before dropping: ', len(data.columns.values))\n",
    "data.drop(uncommon_columns, axis=1, inplace=True)\n",
    "print('Number of columns after dropping: ', len(data.columns.values))\n"
   ]
  },
  {
   "cell_type": "markdown",
   "metadata": {},
   "source": [
    "Vi har også følgende hjelpefunksjoner. Den første, `count_occ`, tar inn en dataframe og teller opp hvor mange ganger hvert av motivene forekommer i maleriene i dataframe. Den returnerer resultatet i et Counter-objekt (dictionary), slik at vi f.eks. lett kan sortere.\n",
    "\n",
    "`plot_counts` tar et slikt Counter-objekt og plotter det i ax som et stolpediagram i rekkefølgen order."
   ]
  },
  {
   "cell_type": "code",
   "execution_count": 63,
   "metadata": {
    "collapsed": true
   },
   "outputs": [],
   "source": [
    "def count_occ(df):\n",
    "    return Counter(df.sum().to_dict())\n",
    "\n",
    "def plot_counts(counts, ax, order, c='b', label=''):\n",
    "    counts_sorted = [counts[key] for key in order]\n",
    "\n",
    "    ax.bar(np.arange(len(order)), counts_sorted, color=c, alpha=0.2, label=label, align='center')"
   ]
  },
  {
   "cell_type": "markdown",
   "metadata": {},
   "source": [
    "Nå er det tid for å klustre dataene våre med K means. Etter at vi har kjørt algoritmen, ser vi på de vanligste motivene i hvert kluster. Vi plotter også antallene sammen i et stolpediagram."
   ]
  },
  {
   "cell_type": "code",
   "execution_count": 65,
   "metadata": {
    "scrolled": false
   },
   "outputs": [
    {
     "name": "stdout",
     "output_type": "stream",
     "text": [
      "The 7 most common features in each cluster\n",
      "0 [('RIVER', 107), ('BUSHES', 50), ('ROCKS', 39), ('WATERFALL', 34), ('CUMULUS', 21), ('PATH', 19), ('FOG', 10)]\n",
      "1 [('LAKE', 91), ('BUSHES', 40), ('CUMULUS', 25), ('ROCKS', 13), ('PATH', 7), ('HILLS', 6), ('SUN', 6)]\n",
      "2 [('STRUCTURE', 47), ('CABIN', 39), ('PATH', 22), ('LAKE', 19), ('BUSHES', 12), ('FENCE', 9), ('CUMULUS', 8)]\n",
      "3 [('OCEAN', 34), ('WAVES', 33), ('BEACH', 27), ('ROCKS', 20), ('CUMULUS', 17), ('SUN', 10), ('PALM_TREES', 9)]\n",
      "4 [('SNOW', 66), ('WINTER', 65), ('STRUCTURE', 30), ('CABIN', 26), ('LAKE', 19), ('BUSHES', 13), ('FENCE', 10)]\n",
      "\n",
      "The %d most common 'unique' features\n",
      "0 [('RIVER', 107), ('BUSHES', 50), ('ROCKS', 39), ('WATERFALL', 34), ('CIRRUS', 10), ('SUN', 10), ('FOG', 10)]\n",
      "1 [('LAKE', 91), ('CUMULUS', 25), ('HILLS', 6)]\n",
      "2 [('STRUCTURE', 47), ('CABIN', 39), ('PATH', 22), ('BARN', 7), ('BRIDGE', 3)]\n",
      "3 [('OCEAN', 34), ('WAVES', 33), ('BEACH', 27), ('SUN', 10), ('PALM_TREES', 9), ('CLIFF', 6), ('NIGHT', 4)]\n",
      "4 [('SNOW', 66), ('WINTER', 65), ('FENCE', 10), ('BARN', 7), ('NIGHT', 4)]\n"
     ]
    },
    {
     "data": {
      "image/png": "[encoded data removed]",
      "text/plain": [
       "<matplotlib.figure.Figure at 0x7fc6b6e5f4e0>"
      ]
     },
     "metadata": {},
     "output_type": "display_data"
    }
   ],
   "source": [
    "sorted_cols = [i[0] for i in count_occ(data).most_common()]\n",
    "\n",
    "fig = plt.figure(figsize=(12, 12))\n",
    "ax = fig.add_subplot(111)\n",
    "plt.xticks(np.arange(len(sorted_cols)), sorted_cols, rotation='vertical')\n",
    "#plot_counts(count_occ(data), ax, sorted_cols)\n",
    "\n",
    "colors = ['b', 'g', 'r', 'c', 'm', 'y', 'k', 'w']\n",
    "\n",
    "n_clusters = 5\n",
    "k_means = KMeans(n_clusters=n_clusters)\n",
    "clusters_by_index = k_means.fit_predict(data)\n",
    "clusters = [data[clusters_by_index == i] for i in range(n_clusters)]\n",
    "\n",
    "\n",
    "clusters_count = [df.sum() for df in clusters]\n",
    "max_count = {key: max(ser.get(key, 0) for ser in clusters_count) for key in data.columns.values}\n",
    "\n",
    "most_common_limit = 7\n",
    "\n",
    "print('The %d most common features in each cluster' % most_common_limit)\n",
    "for i, df in enumerate(clusters):\n",
    "    print(i, count_occ(df).most_common(most_common_limit))\n",
    "    plot_counts(count_occ(df), ax, sorted_cols, c=colors[i%len(colors)], label=str(i))\n",
    "\n",
    "print()\n",
    "\n",
    "\n",
    "# Hvis et cluster har flere tilfeller av et gitt motiv, lar vi motivet 'tilhøre' clusteret.\n",
    "\n",
    "# Oppgave 3\n",
    "print('The %d most common \\'unique\\' features')\n",
    "for i, ser in enumerate(clusters_count):\n",
    "    unique_dict = {key: value for key, value in ser.items() if value >= max_count[key]}\n",
    "    print(i, Counter(unique_dict).most_common(most_common_limit))\n",
    "    \n",
    "plt.legend()\n",
    "plt.show()"
   ]
  },
  {
   "cell_type": "markdown",
   "metadata": {
    "collapsed": true
   },
   "source": [
    "**Oppgave 1:** Klarer du å definere noen kategorier ut ifra utskriften?\n",
    "\n",
    "**Oppgave 2:**\n",
    "I utstkriften er det stort sannsynlighet for at noen variabler, for eksempel 'TREE' og 'TREES' forekommer mange ganger i hver av klusterne. Hvordan kan du tolke det?\n",
    "\n",
    "**Oppgave 3:**\n",
    "En løsning på problemet i forrige oppgave kan være å la et motiv tilhøre et kluster *kun* hvis det inneholder flere forekomster av motivet enn noen av de andre klusterne. Denne filtrerningen er gjort i koden i cellen over der det står \"oppgave 3\". Kommenter inn denne koden, og kjør cellen på nytt. Klarer du nå å lage bedre kategorier enn i oppgave 1? Hvordan kan filtreringen gjøre utskriften misvisende? Hint: Ta plottene i betraktning.\n",
    "\n",
    "**Oppgave 4:**\n",
    "En bedre løsning kan være å fjerne de motiver som forekommer i veldig mange bilder. Bruk utskriften nedenfor, og velg ut kolonner du synes burde fjernes. Navnene kan du legge til i listen 'common_columns' i den første cellen. Kjør deretter hele notebooken på nytt. Blir resultatene lettere å tolke?\n",
    "\n",
    "**Oppgave 5:**\n",
    "Prøv ut forskjellige antall clustere (endre `n_clusters`-variabelen). Hva skjer når du har mange, eller veldig få?"
   ]
  },
  {
   "cell_type": "markdown",
   "metadata": {},
   "source": [
    "## Oversikt over de vanligste motivene ordene i `data`\n",
    "Bruk denne listen i oppgave 4"
   ]
  },
  {
   "cell_type": "code",
   "execution_count": 60,
   "metadata": {},
   "outputs": [
    {
     "name": "stdout",
     "output_type": "stream",
     "text": [
      "TREE            90.55 %\n",
      "TREES           84.51 %\n",
      "DECIDUOUS       56.43 %\n",
      "CONIFER         52.76 %\n",
      "CLOUDS          43.83 %\n",
      "MOUNTAIN        39.11 %\n",
      "GRASS           35.96 %\n",
      "LAKE            34.38 %\n",
      "RIVER           32.55 %\n",
      "BUSHES          30.45 %\n",
      "SNOWY_MOUNTAIN      25.72 %\n",
      "MOUNTAINS       23.88 %\n",
      "STRUCTURE       22.05 %\n",
      "CUMULUS         21.00 %\n",
      "ROCKS           20.21 %\n",
      "SNOW            18.90 %\n",
      "CABIN           17.85 %\n",
      "WINTER          17.59 %\n",
      "PATH            12.86 %\n",
      "SUN              9.97 %\n",
      "WATERFALL        9.97 %\n",
      "OCEAN            8.92 %\n",
      "WAVES            8.66 %\n",
      "BEACH            7.09 %\n",
      "CIRRUS           6.56 %\n",
      "FENCE            6.30 %\n",
      "FOG              6.04 %\n",
      "BARN             4.46 %\n",
      "HILLS            3.94 %\n",
      "NIGHT            2.89 %\n",
      "PALM_TREES       2.36 %\n",
      "FLOWERS          2.10 %\n",
      "CLIFF            2.10 %\n",
      "BRIDGE           1.84 %\n"
     ]
    }
   ],
   "source": [
    "l = len(data)\n",
    "for word, count in count_occ(data).most_common():\n",
    "    print('{: <10} {: 10.2f} %'.format(word, count/l*100))"
   ]
  }
 ],
 "metadata": {
  "kernelspec": {
   "display_name": "Python 3",
   "language": "python",
   "name": "python3"
  },
  "language_info": {
   "codemirror_mode": {
    "name": "ipython",
    "version": 3
   },
   "file_extension": ".py",
   "mimetype": "text/x-python",
   "name": "python",
   "nbconvert_exporter": "python",
   "pygments_lexer": "ipython3",
   "version": "3.5.2"
  }
 },
 "nbformat": 4,
 "nbformat_minor": 2
}
