{
 "cells": [
  {
   "cell_type": "markdown",
   "metadata": {},
   "source": [
    "# Introduksjon til clustering\n",
    "\n",
    "## Styrt vs. ikke-styrt læring\n",
    "\n",
    "Så langt har vi sett på klassifikasjon og regresjon der vi har en fasit vi ønsker\n",
    "\n",
    "- Eksepler på styrt og ikke-styrt\n",
    "- 2D-eksempler (simulert) trinn for trinn\n",
    "- Oppgaver underveis.\n",
    "    - Hvilket clustersenter hører dette punktet til?\n",
    "    - Hvor mange clustre er det her?\n",
    "- Forskjell på antall clustre\n",
    "- Vis koden\n",
    "- Imbd-datasettet som eksempel"
   ]
  }
 ],
 "metadata": {
  "kernelspec": {
   "display_name": "Python 3",
   "language": "python",
   "name": "python3"
  },
  "language_info": {
   "codemirror_mode": {
    "name": "ipython",
    "version": 3
   },
   "file_extension": ".py",
   "mimetype": "text/x-python",
   "name": "python",
   "nbconvert_exporter": "python",
   "pygments_lexer": "ipython3",
   "version": "3.5.2"
  }
 },
 "nbformat": 4,
 "nbformat_minor": 2
}
